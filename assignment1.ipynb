{
 "cells": [
  {
   "attachments": {},
   "cell_type": "markdown",
   "metadata": {},
   "source": [
    "## Data Manipulation module\n",
    "### Homework assignment 1\n",
    "\n",
    "Welcome to the first homework assignment of the data manipulation module. In this assignment you will be working with NumPy and Pandas Series. The goal of this assignment is to get you familiar with these libraries and data types.\n",
    "\n",
    "### Instructions\n",
    "Read the exercises carefully and implement the requested functionality. Add your code in the cells provided with `YOUR CODE HERE` or `YOUR ANSWER HERE`. You can add cells if you need to. **Make sure to use NumPy methods** to find your answers. In some cases you might be able to read the answer, but we want to see you using the NumPy methods.\n",
    "\n",
    "### Hand-in\n",
    "To hand in your assignment, fork this notebook and commit your changes, then make a pull request to the original repository. The deadline for handing in the assignment is **Wednesday 18-01 23:59**."
   ]
  },
  {
   "cell_type": "code",
   "execution_count": 2,
   "metadata": {},
   "outputs": [],
   "source": [
    "# imports, no need to edit\n",
    "\n",
    "import numpy as np\n",
    "import pandas as pd\n",
    "\n",
    "np.random.seed(42)"
   ]
  },
  {
   "attachments": {},
   "cell_type": "markdown",
   "metadata": {},
   "source": [
    "1. Explain the difference between a vector and matrix in NumPy in one sentence.\n",
    "A vector is a one-dimensional array and a matrix is more then one-dimensional array in NumPy."
   ]
  },
  {
   "attachments": {},
   "cell_type": "markdown",
   "metadata": {},
   "source": [
    "YOUR ANSWER HERE"
   ]
  },
  {
   "attachments": {},
   "cell_type": "markdown",
   "metadata": {},
   "source": [
    "2. Construct a NumPy Array from a list of 10 elements."
   ]
  },
  {
   "cell_type": "code",
   "execution_count": 7,
   "metadata": {},
   "outputs": [
    {
     "name": "stdout",
     "output_type": "stream",
     "text": [
      "[0, 1, 2, 3, 4, 5, 6, 7, 8, 9]\n"
     ]
    },
    {
     "data": {
      "text/plain": [
       "array([0, 1, 2, 3, 4, 5, 6, 7, 8, 9])"
      ]
     },
     "execution_count": 7,
     "metadata": {},
     "output_type": "execute_result"
    }
   ],
   "source": [
    "list_a=list(range(10))\n",
    "print(list_a)\n",
    "arr=np.array(list_a)\n",
    "arr"
   ]
  },
  {
   "attachments": {},
   "cell_type": "markdown",
   "metadata": {},
   "source": [
    "3. Construct a 10x10 matrix filled with '0's of the integer data type."
   ]
  },
  {
   "cell_type": "code",
   "execution_count": 11,
   "metadata": {},
   "outputs": [
    {
     "name": "stdout",
     "output_type": "stream",
     "text": [
      "[[0 0 0 0 0]\n",
      " [0 0 0 0 0]\n",
      " [0 0 0 0 0]\n",
      " [0 0 0 0 0]\n",
      " [0 0 0 0 0]]\n"
     ]
    },
    {
     "data": {
      "text/plain": [
       "array([[0, 0, 0, 0, 0],\n",
       "       [0, 0, 0, 0, 0],\n",
       "       [0, 0, 0, 0, 0],\n",
       "       [0, 0, 0, 0, 0],\n",
       "       [0, 0, 0, 0, 0]])"
      ]
     },
     "execution_count": 11,
     "metadata": {},
     "output_type": "execute_result"
    }
   ],
   "source": [
    "# YOUR CODE HERE\n",
    "matrix=np.full((5,5),0, dtype=int)\n",
    "matrix2=np.zeros((5,5),dtype=int)\n",
    "print(matrix)\n",
    "matrix2\n"
   ]
  },
  {
   "attachments": {},
   "cell_type": "markdown",
   "metadata": {},
   "source": [
    "4. Construct a 10x10 matrix filled with '1's, data type float."
   ]
  },
  {
   "cell_type": "code",
   "execution_count": 12,
   "metadata": {},
   "outputs": [
    {
     "data": {
      "text/plain": [
       "array([[1., 1., 1., 1., 1.],\n",
       "       [1., 1., 1., 1., 1.],\n",
       "       [1., 1., 1., 1., 1.],\n",
       "       [1., 1., 1., 1., 1.],\n",
       "       [1., 1., 1., 1., 1.]])"
      ]
     },
     "execution_count": 12,
     "metadata": {},
     "output_type": "execute_result"
    }
   ],
   "source": [
    "matrix=np.full((10,10),1, dtype=float)\n",
    "matrix"
   ]
  },
  {
   "attachments": {},
   "cell_type": "markdown",
   "metadata": {},
   "source": [
    "5. Construct a 10x10 matrix filled with '9's of the integer data type."
   ]
  },
  {
   "cell_type": "code",
   "execution_count": null,
   "metadata": {},
   "outputs": [],
   "source": [
    "matrix=np.full((10,10),9, dtype=int)\n",
    "matrix"
   ]
  },
  {
   "attachments": {},
   "cell_type": "markdown",
   "metadata": {},
   "source": [
    "6. Construct a one-dimensional array with values between 5 and 25 that jumps with steps of 3 (`[5, 8, ...]`)"
   ]
  },
  {
   "cell_type": "code",
   "execution_count": 15,
   "metadata": {},
   "outputs": [
    {
     "data": {
      "text/plain": [
       "array([ 5,  8, 11, 14, 17, 20, 23])"
      ]
     },
     "execution_count": 15,
     "metadata": {},
     "output_type": "execute_result"
    }
   ],
   "source": [
    "arr=np.arange(5,25,3)\n",
    "arr"
   ]
  },
  {
   "attachments": {},
   "cell_type": "markdown",
   "metadata": {},
   "source": [
    "7. Create an array of size 30 with evenly spaced values between -1 and 1."
   ]
  },
  {
   "cell_type": "code",
   "execution_count": 21,
   "metadata": {},
   "outputs": [
    {
     "name": "stdout",
     "output_type": "stream",
     "text": [
      "[-1.         -0.93103448 -0.86206897 -0.79310345 -0.72413793 -0.65517241\n",
      " -0.5862069  -0.51724138 -0.44827586 -0.37931034 -0.31034483 -0.24137931\n",
      " -0.17241379 -0.10344828 -0.03448276  0.03448276  0.10344828  0.17241379\n",
      "  0.24137931  0.31034483  0.37931034  0.44827586  0.51724138  0.5862069\n",
      "  0.65517241  0.72413793  0.79310345  0.86206897  0.93103448  1.        ]\n",
      "[-0.10109865 -0.80917977 -0.2583635   0.33768251  0.33184471  0.18259558\n",
      " -0.45055641  0.12248685 -0.23414625  0.94342419  0.69782765  0.44345904\n",
      " -0.52803016 -0.48786335 -0.91913282  0.42132578 -0.77821836 -0.121327\n",
      " -0.5965616   0.79152719 -0.04925955  0.12655114  0.39103217 -0.72133709\n",
      "  0.20883476  0.07968218 -0.59387755  0.88570714  0.19773093  0.38956987]\n",
      "[ 0.76093568  0.2487081  -0.40873263 -0.78901148 -0.08693086 -0.56311913\n",
      " -0.1669801   0.76656052 -0.35130996 -0.75582409 -0.28740432  0.81365688\n",
      " -0.4557355   0.29538024 -0.99895925 -0.29486229 -0.39043748 -0.67068829\n",
      "  0.06817884 -0.03034006  0.38487207 -0.46117533 -0.51174896 -0.66341792\n",
      " -0.56247156  0.116204   -0.19232766 -0.87021551 -0.49216917 -0.50624787]\n"
     ]
    }
   ],
   "source": [
    "arr = np.linspace(-1, 1, 30)\n",
    "print(arr)\n",
    "\n",
    "arr = np.random.uniform(-1, 1, 30)\n",
    "print(arr)\n",
    "\n",
    "arr = np.random.rand(30)*2-1\n",
    "print(arr)"
   ]
  },
  {
   "attachments": {},
   "cell_type": "markdown",
   "metadata": {},
   "source": [
    "8. Construct a 5x6 matrix with integers from 0 to 30."
   ]
  },
  {
   "cell_type": "code",
   "execution_count": 22,
   "metadata": {},
   "outputs": [
    {
     "data": {
      "text/plain": [
       "array([[ 6,  1,  2, 16,  4, 16],\n",
       "       [23, 16, 26, 16,  1,  1],\n",
       "       [27, 21, 22,  4,  0,  0],\n",
       "       [18, 29,  1, 20, 11, 25],\n",
       "       [ 5, 22,  3, 22, 10, 23]])"
      ]
     },
     "execution_count": 22,
     "metadata": {},
     "output_type": "execute_result"
    }
   ],
   "source": [
    "arr=np.random.randint(0,30,size=(5,6))\n",
    "arr"
   ]
  },
  {
   "attachments": {},
   "cell_type": "markdown",
   "metadata": {},
   "source": [
    "9. Create an array of 30 random integers and sort it in ascending order."
   ]
  },
  {
   "cell_type": "code",
   "execution_count": 25,
   "metadata": {},
   "outputs": [
    {
     "data": {
      "text/plain": [
       "array([ 0,  0,  0,  1,  2,  6,  6,  7,  7,  8,  9, 10, 15, 15, 15, 16, 17,\n",
       "       17, 19, 19, 22, 24, 24, 24, 25, 27, 27, 27, 29, 29])"
      ]
     },
     "execution_count": 25,
     "metadata": {},
     "output_type": "execute_result"
    }
   ],
   "source": [
    "arr=np.random.randint(30,size=(30))[::-1]\n",
    "arr=np.sort(arr)\n",
    "arr"
   ]
  },
  {
   "attachments": {},
   "cell_type": "markdown",
   "metadata": {},
   "source": [
    "10. Construct a 5x10 matrix filled with the value 1 at each location. Print the following details about this matrix:\n",
    "- number of elements\n",
    "- shape of the matrix\n",
    "- the data type (using numpy methods)\n"
   ]
  },
  {
   "cell_type": "code",
   "execution_count": 28,
   "metadata": {},
   "outputs": [
    {
     "name": "stdout",
     "output_type": "stream",
     "text": [
      "[[1 1 1 1 1 1 1 1 1 1]\n",
      " [1 1 1 1 1 1 1 1 1 1]\n",
      " [1 1 1 1 1 1 1 1 1 1]\n",
      " [1 1 1 1 1 1 1 1 1 1]\n",
      " [1 1 1 1 1 1 1 1 1 1]]\n",
      "50\n",
      "(5, 10)\n",
      "int32\n"
     ]
    }
   ],
   "source": [
    "matrix=np.ones((5,10),dtype=int)\n",
    "print(matrix)\n",
    "print(matrix.size)\n",
    "print(matrix.shape)\n",
    "print(matrix.dtype)"
   ]
  },
  {
   "attachments": {},
   "cell_type": "markdown",
   "metadata": {},
   "source": [
    "11. Construct a 3x4x7 matrix with random integer values between 0 and 10 (a 3D matrix will be created).\n"
   ]
  },
  {
   "cell_type": "code",
   "execution_count": 29,
   "metadata": {},
   "outputs": [
    {
     "data": {
      "text/plain": [
       "array([[[5, 7, 1, 4, 0, 0, 4],\n",
       "        [2, 3, 2, 0, 0, 4, 5],\n",
       "        [2, 8, 4, 7, 0, 4, 2],\n",
       "        [0, 3, 4, 6, 0, 2, 1]],\n",
       "\n",
       "       [[8, 9, 5, 9, 2, 7, 7],\n",
       "        [1, 5, 6, 1, 9, 1, 9],\n",
       "        [0, 7, 0, 8, 5, 6, 9],\n",
       "        [6, 9, 2, 1, 8, 7, 9]],\n",
       "\n",
       "       [[6, 8, 3, 3, 0, 7, 2],\n",
       "        [6, 1, 1, 6, 5, 2, 8],\n",
       "        [9, 5, 9, 9, 5, 0, 3],\n",
       "        [9, 5, 5, 4, 0, 7, 4]]])"
      ]
     },
     "execution_count": 29,
     "metadata": {},
     "output_type": "execute_result"
    }
   ],
   "source": [
    "matrix=np.random.randint(10,size=(3,4,7))\n",
    "matrix"
   ]
  },
  {
   "attachments": {},
   "cell_type": "markdown",
   "metadata": {},
   "source": [
    "12. Create an array of 20 random integers and reshape it into a 4x5 matrix."
   ]
  },
  {
   "cell_type": "code",
   "execution_count": 30,
   "metadata": {},
   "outputs": [
    {
     "data": {
      "text/plain": [
       "array([[11, 11,  4,  6,  3],\n",
       "       [ 5, 12, 19, 14,  2],\n",
       "       [ 7, 19, 15, 12, 17],\n",
       "       [ 9, 18, 16, 18,  4]])"
      ]
     },
     "execution_count": 30,
     "metadata": {},
     "output_type": "execute_result"
    }
   ],
   "source": [
    "matrix=np.random.randint(20,size=(20))\n",
    "matrix=matrix.reshape(4,5)\n",
    "matrix"
   ]
  },
  {
   "attachments": {},
   "cell_type": "markdown",
   "metadata": {},
   "source": [
    "13. Construct a one-dimensional array by concetanating 4 separate one-dimensional arrays."
   ]
  },
  {
   "cell_type": "code",
   "execution_count": 31,
   "metadata": {},
   "outputs": [
    {
     "data": {
      "text/plain": [
       "array([9, 4, 6, 8, 4, 0, 9, 9, 0, 1, 5, 8, 7, 4, 0, 6])"
      ]
     },
     "execution_count": 31,
     "metadata": {},
     "output_type": "execute_result"
    }
   ],
   "source": [
    "arr1=np.random.randint(10,size=(4))\n",
    "arr2=np.random.randint(10,size=(4))\n",
    "arr3=np.random.randint(10,size=(4))\n",
    "arr4=np.random.randint(10,size=(4))\n",
    "arr=np.concatenate((arr1,arr2,arr3,arr4))\n",
    "arr"
   ]
  },
  {
   "attachments": {},
   "cell_type": "markdown",
   "metadata": {},
   "source": [
    "14. Create a vector of length 3 (3x1) and a matrix of size 3x3. Combine these two arrays on a\n",
    "    column-by-column basis using numpy methods.\n"
   ]
  },
  {
   "cell_type": "code",
   "execution_count": 34,
   "metadata": {},
   "outputs": [
    {
     "name": "stdout",
     "output_type": "stream",
     "text": [
      "[[4]\n",
      " [3]\n",
      " [1]]\n",
      "[[3 9 9]\n",
      " [2 9 0]\n",
      " [7 4 3]]\n"
     ]
    },
    {
     "data": {
      "text/plain": [
       "array([[3, 9, 9, 4],\n",
       "       [2, 9, 0, 3],\n",
       "       [7, 4, 3, 1]])"
      ]
     },
     "execution_count": 34,
     "metadata": {},
     "output_type": "execute_result"
    }
   ],
   "source": [
    "vector=np.random.randint(10,size=(3)).reshape(3,1)\n",
    "print(vector)\n",
    "matrix=np.random.randint(10,size=(3,3))\n",
    "print(matrix)\n",
    "result=np.column_stack((matrix,vector))\n",
    "result"
   ]
  },
  {
   "attachments": {},
   "cell_type": "markdown",
   "metadata": {},
   "source": [
    "15. What is the difference between \"axis=1\" and \"axis=0\" in Numpy functions? \n",
    "\"axis=0\" refers to the direction along the rows and \"axis=1\" refers to the direction along the columns."
   ]
  },
  {
   "attachments": {},
   "cell_type": "markdown",
   "metadata": {},
   "source": [
    "YOUR ANSWER HERE"
   ]
  },
  {
   "attachments": {},
   "cell_type": "markdown",
   "metadata": {},
   "source": [
    "16. Create a random 1D vector with 20 elements. Find the 3rd, 5th and 7th elements of this vector.\n"
   ]
  },
  {
   "cell_type": "code",
   "execution_count": 35,
   "metadata": {},
   "outputs": [
    {
     "name": "stdout",
     "output_type": "stream",
     "text": [
      "1\n",
      "3\n",
      "1\n"
     ]
    }
   ],
   "source": [
    "arr=np.random.randint(10,size=(20))\n",
    "print(arr[2])\n",
    "print(arr[4])\n",
    "print(arr[6])"
   ]
  },
  {
   "attachments": {},
   "cell_type": "markdown",
   "metadata": {},
   "source": [
    "17. Create a random vector with 10 elements and replace the 4th element of this array with a different number."
   ]
  },
  {
   "cell_type": "code",
   "execution_count": 37,
   "metadata": {},
   "outputs": [
    {
     "name": "stdout",
     "output_type": "stream",
     "text": [
      "[8 3 9 4 8 7 2 0 2 3]\n"
     ]
    },
    {
     "data": {
      "text/plain": [
       "array([ 8,  3,  9, 11,  8,  7,  2,  0,  2,  3])"
      ]
     },
     "execution_count": 37,
     "metadata": {},
     "output_type": "execute_result"
    }
   ],
   "source": [
    "arr=np.random.randint(10,size=(10))\n",
    "print(arr)\n",
    "arr[3]=11\n",
    "arr"
   ]
  },
  {
   "attachments": {},
   "cell_type": "markdown",
   "metadata": {},
   "source": [
    "18. Look up the concepts of *diagonal matrix* and *trace matrix* online and write a small explanation about what they are.\n",
    "A diagonal matrix is a square matrix in which all the entries outside the main diagonal are zero. The main diagonal of a matrix is the diagonal from the top left corner to the bottom right corner.\n",
    " [[1, 0, 0],\n",
    " [0, 2, 0],\n",
    " [0, 0, 3]]\n",
    "\n",
    " the sum of 1+2+3 is trace matrix\n"
   ]
  },
  {
   "attachments": {},
   "cell_type": "markdown",
   "metadata": {},
   "source": [
    "YOUR ANSWER HERE"
   ]
  },
  {
   "attachments": {},
   "cell_type": "markdown",
   "metadata": {},
   "source": [
    "19. Create a 5x5 diagonal matrix with elements of your choosing. What are the indexes of the diagonal?\n"
   ]
  },
  {
   "cell_type": "code",
   "execution_count": 43,
   "metadata": {},
   "outputs": [
    {
     "data": {
      "text/plain": [
       "array([[1., 0., 0., 0., 0.],\n",
       "       [0., 1., 0., 0., 0.],\n",
       "       [0., 0., 1., 0., 0.],\n",
       "       [0., 0., 0., 1., 0.],\n",
       "       [0., 0., 0., 0., 1.]])"
      ]
     },
     "execution_count": 43,
     "metadata": {},
     "output_type": "execute_result"
    }
   ],
   "source": [
    "matrix = np.diag([1, 2, 3, 4, 5])\n",
    "matrix[0,0]\n",
    "matrix[1,1]\n",
    "matrix[2,2]\n",
    "matrix[3,3]\n",
    "matrix[4,4]\n",
    "matrix = np.eye(5)\n",
    "matrix"
   ]
  },
  {
   "attachments": {},
   "cell_type": "markdown",
   "metadata": {},
   "source": [
    "20. Create a vector that ranges from 10 to 20. Print the values from the 3rd index to the last index.\n"
   ]
  },
  {
   "cell_type": "code",
   "execution_count": 44,
   "metadata": {},
   "outputs": [
    {
     "name": "stdout",
     "output_type": "stream",
     "text": [
      "[12 13 14 15 16 17 18 19]\n"
     ]
    }
   ],
   "source": [
    "arr=np.arange(10,20)\n",
    "print(arr[2:])"
   ]
  },
  {
   "attachments": {},
   "cell_type": "markdown",
   "metadata": {},
   "source": [
    "21. Construct a 10x10 matrix with random elements and perform the following indexing tasks on it. Each task should be a single indexing operation.\n",
    " - Retrieve column 5 of row 3. Moreover;\n",
    " - Retrieve all elements of column 5.\n",
    " - Retrieve the 2nd row of all columns.\n",
    " - Retrieve row 2 through 7 of all columns.\n",
    " - Retrieve values with row index 2 to 5 and column index 3 to 7.\n",
    " - Retrieve the values from row index 5 to the end and column index from the top to 4.\n",
    " - Replace the value corresponding to the 5th row and the 5th column with your year of birth."
   ]
  },
  {
   "cell_type": "code",
   "execution_count": 61,
   "metadata": {},
   "outputs": [
    {
     "name": "stdout",
     "output_type": "stream",
     "text": [
      "[[ 6 19 14 10  7  6 18 10 10  3]\n",
      " [ 7  2  1 11  5  1  0 11 11 16]\n",
      " [ 9 15 14 14 18 11 19  2  4 18]\n",
      " [ 6  8  6 17  3 13 17  8  1 19]\n",
      " [14  6 11  7 14  2 13 16  3 17]\n",
      " [ 7  3  1  5  9  3 17 11  1  9]\n",
      " [ 3 13 15 14  7 13  7 15 12 17]\n",
      " [14 12  8 14 12  0  6  8  0 11]\n",
      " [ 7 10 18 16  7  2  2  0  4  9]\n",
      " [ 6  8  6  8  7 11  1  0 15  4]]\n",
      "18\n",
      "[ 7  5 18  3 14  9  7 12  7  7]\n",
      "[ 7  2  1 11  5  1  0 11 11 16]\n",
      "[ 0 11 11 16]\n",
      "[[ 1 11  5  1  0 11]\n",
      " [14 14 18 11 19  2]\n",
      " [ 6 17  3 13 17  8]\n",
      " [11  7 14  2 13 16]\n",
      " [ 1  5  9  3 17 11]]\n",
      "[[14  6 11  7]\n",
      " [ 7  3  1  5]\n",
      " [ 3 13 15 14]\n",
      " [14 12  8 14]\n",
      " [ 7 10 18 16]\n",
      " [ 6  8  6  8]]\n"
     ]
    },
    {
     "data": {
      "text/plain": [
       "array([[   6,   19,   14,   10,    7,    6,   18,   10,   10,    3],\n",
       "       [   7,    2,    1,   11,    5,    1,    0,   11,   11,   16],\n",
       "       [   9,   15,   14,   14,   18,   11,   19,    2,    4,   18],\n",
       "       [   6,    8,    6,   17,    3,   13,   17,    8,    1,   19],\n",
       "       [  14,    6,   11,    7, 1985,    2,   13,   16,    3,   17],\n",
       "       [   7,    3,    1,    5,    9,    3,   17,   11,    1,    9],\n",
       "       [   3,   13,   15,   14,    7,   13,    7,   15,   12,   17],\n",
       "       [  14,   12,    8,   14,   12,    0,    6,    8,    0,   11],\n",
       "       [   7,   10,   18,   16,    7,    2,    2,    0,    4,    9],\n",
       "       [   6,    8,    6,    8,    7,   11,    1,    0,   15,    4]])"
      ]
     },
     "execution_count": 61,
     "metadata": {},
     "output_type": "execute_result"
    }
   ],
   "source": [
    "np.random.seed(42)\n",
    "matrix=np.random.randint(20,size=(10,10))\n",
    "print(matrix)\n",
    "#Retrieve column 5 of row 3. Moreover;\n",
    "print(matrix[2,4])\n",
    "#Retrieve all elements of column 5.\n",
    "print(matrix[:,4])\n",
    "#Retrieve the 2nd row of all columns.\n",
    "print(matrix[1,:])\n",
    "#Retrieve row 2 through 7 of all columns.\n",
    "print(matrix[1,6:])\n",
    "#Retrieve values with row index 2 to 5 and column index 3 to 7.\n",
    "print(matrix[1:6,2:8])\n",
    "#Retrieve the values from row index 5 to the end and column index from the top to 4.\n",
    "print(matrix[4:, :4])\n",
    "#Replace the value corresponding to the 5th row and the 5th column with your year of birth.\n",
    "matrix[4,4]=1985\n",
    "matrix\n"
   ]
  },
  {
   "attachments": {},
   "cell_type": "markdown",
   "metadata": {},
   "source": [
    "22. Construct a one-dimensional array from 0 to 50 jumping with steps of 5 (`[5, 10, ...]`). Use the numpy methods to perform the following tasks;\n",
    "- Print all values greater than 20.\n",
    "- Print all values less than 30.\n",
    "- How many values are 33 in it?\n",
    "- Multiply all the elements of the created array by 5."
   ]
  },
  {
   "cell_type": "code",
   "execution_count": 66,
   "metadata": {},
   "outputs": [
    {
     "name": "stdout",
     "output_type": "stream",
     "text": [
      "[25 30 35 40 45]\n",
      "[ 0  5 10 15 20 25]\n",
      "0\n",
      "[  0  25  50  75 100 125 150 175 200 225]\n"
     ]
    }
   ],
   "source": [
    "arr=np.arange(0,50,5)\n",
    "print(arr[arr>20])\n",
    "print(arr[arr<30])\n",
    "print(np.count_nonzero(arr == 33))\n",
    "print(arr*5)"
   ]
  },
  {
   "attachments": {},
   "cell_type": "markdown",
   "metadata": {},
   "source": [
    "23. Construct an array of 50 random floats between 0 and 1 and take the average. Moreover;\n",
    "- Get the standard deviation.\n",
    "- Get the variance.\n",
    "- Take the median.\n",
    "- Find the smallest value.\n",
    "- Find the largest value."
   ]
  },
  {
   "cell_type": "code",
   "execution_count": 70,
   "metadata": {},
   "outputs": [
    {
     "name": "stdout",
     "output_type": "stream",
     "text": [
      "0.2780291454529019\n",
      "0.07730020572127089\n",
      "0.5197250532431947\n",
      "0.005061583846218687\n",
      "0.9730105547524456\n"
     ]
    }
   ],
   "source": [
    "arr=np.random.random(50)\n",
    "print(arr.std())\n",
    "print(arr.var())\n",
    "print(arr.mean())\n",
    "print(arr.min())\n",
    "print(arr.max())"
   ]
  },
  {
   "attachments": {},
   "cell_type": "markdown",
   "metadata": {},
   "source": [
    "24. What are the differences between Pandas Series and NumPy arrays?\n",
    "Pandas Series and NumPy arrays are both used for storing and manipulating data in Python, but there are some key differences between the two:\n",
    "\n",
    "Indexing: Pandas Series have an explicit index, which means that each element in the Series has a label. NumPy arrays, on the other hand, do not have an explicit index and elements are accessed using their integer position.\n",
    "\n",
    "Data Types: NumPy arrays can only hold elements of a single data type, whereas Pandas Series can hold elements of different data types.\n",
    "\n",
    "Handling missing data: Pandas Series have built-in support for handling missing data (i.e., NaN values), whereas NumPy arrays do not.\n",
    "\n",
    "Additional functionalities: Pandas Series have additional functionalities such as handling time-series data, handling missing data, and data alignment, which NumPy arrays don't have.\n",
    "\n",
    "Memory consumption: Pandas Series are less memory efficient than NumPy arrays because of the additional functionalities and metadata they have.\n",
    "\n",
    "In summary, Pandas Series are built on top of NumPy arrays and provide additional functionalities and flexibility, while NumPy arrays are more efficient and simpler to use."
   ]
  },
  {
   "cell_type": "code",
   "execution_count": null,
   "metadata": {},
   "outputs": [],
   "source": []
  },
  {
   "attachments": {},
   "cell_type": "markdown",
   "metadata": {},
   "source": [
    "YOUR ANSWER HERE"
   ]
  },
  {
   "attachments": {},
   "cell_type": "markdown",
   "metadata": {},
   "source": [
    "25. Create a 5-element series with different data types, with an index of capital letters."
   ]
  },
  {
   "cell_type": "code",
   "execution_count": 71,
   "metadata": {},
   "outputs": [
    {
     "name": "stdout",
     "output_type": "stream",
     "text": [
      "A            1\n",
      "B        Hello\n",
      "C         3.14\n",
      "D    [1, 2, 3]\n",
      "E       (1, 2)\n",
      "dtype: object\n",
      "A            1\n",
      "B        Hello\n",
      "C         3.14\n",
      "D    [1, 2, 3]\n",
      "E       (1, 2)\n",
      "dtype: object\n"
     ]
    }
   ],
   "source": [
    "data = {'A': 1, 'B': 'Hello', 'C': 3.14, 'D': [1, 2, 3], 'E': (1, 2)}\n",
    "s = pd.Series(data)\n",
    "print(s)\n",
    "\n",
    "data = [1, 'Hello', 3.14, [1, 2, 3], (1, 2)]\n",
    "index = ['A', 'B', 'C', 'D', 'E']\n",
    "s = pd.Series(data, index=index)\n",
    "print(s)\n"
   ]
  },
  {
   "attachments": {},
   "cell_type": "markdown",
   "metadata": {},
   "source": [
    "26. Create a 5-element dictionary with keys as country names and values as capitals and turn it into a series. An example: ` \"france\" : \"paris\"`)."
   ]
  },
  {
   "cell_type": "code",
   "execution_count": 73,
   "metadata": {},
   "outputs": [
    {
     "name": "stdout",
     "output_type": "stream",
     "text": [
      "Netherlands    Amsterdam\n",
      "Germany           Berlin\n",
      "Spain             Madrid\n",
      "Italy               Rome\n",
      "Greece            Athens\n",
      "dtype: object\n",
      "Netherlands    Amsterdam\n",
      "Germany           Berlin\n",
      "Spain             Madrid\n",
      "Italy               Rome\n",
      "Greece            Athens\n",
      "Name: Capital Cities, dtype: object\n"
     ]
    }
   ],
   "source": [
    "data = {\n",
    "    \"Netherlands\": \"Amsterdam\",\n",
    "    \"Germany\": \"Berlin\",\n",
    "    \"Spain\": \"Madrid\",\n",
    "    \"Italy\": \"Rome\",\n",
    "    \"Greece\": \"Athens\",\n",
    "}\n",
    "s = pd.Series(data)\n",
    "print(s)\n",
    "\n",
    "s = pd.Series(data,name='Capital Cities')\n",
    "print(s)"
   ]
  },
  {
   "attachments": {},
   "cell_type": "markdown",
   "metadata": {},
   "source": [
    "27. Create a random vector with 10 elements.\n",
    "- Convert the vector to series and with strings as indeces. For example, a,b,c,d,e,f,g..\n",
    "- Retrieve the 3rd element of the series using the index name (for example: c).\n",
    "- Retrieve the 1st element of the series using the index number.\n",
    "- Access the 2nd and 7th elements of the series at the same time, using the index name. (Example: values corresponding to index b and g)"
   ]
  },
  {
   "cell_type": "code",
   "execution_count": 79,
   "metadata": {},
   "outputs": [
    {
     "name": "stdout",
     "output_type": "stream",
     "text": [
      "0.2865412521282844\n",
      "0.46559801813246016\n",
      "b    0.542645\n",
      "g    0.822601\n",
      "dtype: float64\n"
     ]
    }
   ],
   "source": [
    "vec=np.random.rand(10)\n",
    "index=[\"a\",\"b\",\"c\",\"d\",\"e\",'f','g',\"h\",'i','j']\n",
    "serie=pd.Series(vec,index=index)\n",
    "print(serie[\"c\"])\n",
    "print(serie[0])\n",
    "print(serie[[\"b\",'g']])"
   ]
  },
  {
   "attachments": {},
   "cell_type": "markdown",
   "metadata": {},
   "source": [
    "28. Create two 5-element series with elements of your choice with default index.\n",
    "- Combine the series you have created.\n",
    "- Arrange the index of the resulting concatenated 10-element series from 1 to 10."
   ]
  },
  {
   "cell_type": "code",
   "execution_count": 84,
   "metadata": {},
   "outputs": [
    {
     "name": "stdout",
     "output_type": "stream",
     "text": [
      "0     9\n",
      "1     2\n",
      "2     4\n",
      "3     5\n",
      "4     8\n",
      "0    14\n",
      "1    10\n",
      "2    13\n",
      "3    14\n",
      "4    19\n",
      "dtype: int32\n",
      "1      9\n",
      "2      2\n",
      "3      4\n",
      "4      5\n",
      "5      8\n",
      "6     14\n",
      "7     10\n",
      "8     13\n",
      "9     14\n",
      "10    19\n",
      "dtype: int32\n"
     ]
    }
   ],
   "source": [
    "vec=np.random.randint(10,size=(5))\n",
    "vec2=np.random.randint(10,20,size=(5))\n",
    "s1=pd.Series(vec)\n",
    "s2=pd.Series(vec2)\n",
    "s=pd.concat([s1,s2])\n",
    "print(s)\n",
    "s.index = range(1, len(s) + 1)\n",
    "print(s)\n"
   ]
  },
  {
   "attachments": {},
   "cell_type": "markdown",
   "metadata": {},
   "source": [
    "**Bonus homework**:\n",
    "Generate two 20x20 matrices with values between 0 and 1 randomly in a loop and take the difference of these\n",
    "matrices. Repeat this process until all elements on the diagonal of the difference matrix\n",
    "is between -0.1 and 0.1. When the desired matrix is found, let the program stop\n",
    "and print the total number of cycles, how long it took, and the desired matrix\n",
    "with print.\n",
    "\n",
    "\n",
    "Tip: Finding the 20 x 20 matrix can take hours. Therefore, to test the accuracy\n",
    "of your algorithm, you can first try it on small matrices such as 4x4, 5x5. And\n",
    "you can try the latest 20x20 by increasing the number of matrix. (You can do\n",
    "the matrix generation with the np.random.random((a,b)) function. It generates\n",
    "an array of desired sizes between 0-1.)\n"
   ]
  },
  {
   "attachments": {},
   "cell_type": "markdown",
   "metadata": {},
   "source": [
    "count=0\n",
    "while True:\n",
    "    count+=1    \n",
    "    matrix=np.random.rand(20,20)\n",
    "    matrix2=np.random.rand(20,20)\n",
    "    difference=matrix-matrix2\n",
    "    difference=np.diag(difference)\n",
    "    a=np.count_nonzero(difference[ (difference>-0.1) & (difference<0.1)]) \n",
    "    #a = len(np.where((difference > -0.1) & (difference < 0.1))[0])\n",
    "    #a = np.sum((difference > -0.1) & (difference < 0.1))    \n",
    "    if a == difference.size:      \n",
    "        print(difference) \n",
    "        print(count)       \n",
    "        break\n",
    "\n",
    "\n",
    "        \n"
   ]
  },
  {
   "attachments": {},
   "cell_type": "markdown",
   "metadata": {},
   "source": []
  }
 ],
 "metadata": {
  "kernelspec": {
   "display_name": "Python 3",
   "language": "python",
   "name": "python3"
  },
  "language_info": {
   "codemirror_mode": {
    "name": "ipython",
    "version": 3
   },
   "file_extension": ".py",
   "mimetype": "text/x-python",
   "name": "python",
   "nbconvert_exporter": "python",
   "pygments_lexer": "ipython3",
   "version": "3.10.6 (tags/v3.10.6:9c7b4bd, Aug  1 2022, 21:53:49) [MSC v.1932 64 bit (AMD64)]"
  },
  "orig_nbformat": 4,
  "vscode": {
   "interpreter": {
    "hash": "afb734500600fd355917ca529030176ea0ca205570884b88f2f6f7d791fd3fbe"
   }
  }
 },
 "nbformat": 4,
 "nbformat_minor": 2
}
