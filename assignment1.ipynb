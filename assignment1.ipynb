{
 "cells": [
  {
   "attachments": {},
   "cell_type": "markdown",
   "metadata": {},
   "source": [
    "## Data Manipulation module\n",
    "### Homework assignment 1\n",
    "\n",
    "Welcome to the first homework assignment of the data manipulation module. In this assignment you will be working with NumPy and Pandas Series. The goal of this assignment is to get you familiar with these libraries and data types.\n",
    "\n",
    "### Instructions\n",
    "Read the exercises carefully and implement the requested functionality. Add your code in the cells provided with `YOUR CODE HERE` or `YOUR ANSWER HERE`. You can add cells if you need to. **Make sure to use NumPy methods** to find your answers. In some cases you might be able to read the answer, but we want to see you using the NumPy methods.\n",
    "\n",
    "### Hand-in\n",
    "To hand in your assignment, fork this notebook and commit your changes, then make a pull request to the original repository. The deadline for handing in the assignment is **Wednesday 18-01 23:59**."
   ]
  },
  {
   "cell_type": "code",
   "execution_count": 1,
   "metadata": {},
   "outputs": [],
   "source": [
    "# imports, no need to edit\n",
    "\n",
    "import numpy as np\n",
    "import pandas as pd\n",
    "\n",
    "np.random.seed(42)"
   ]
  },
  {
   "attachments": {},
   "cell_type": "markdown",
   "metadata": {},
   "source": [
    "1. Explain the difference between a vector and matrix in NumPy in one sentence."
   ]
  },
  {
   "attachments": {},
   "cell_type": "markdown",
   "metadata": {},
   "source": [
    "A vector is an array with a single dimension, while a matrix refers to an array with two dimensions."
   ]
  },
  {
   "attachments": {},
   "cell_type": "markdown",
   "metadata": {},
   "source": [
    "2. Construct a NumPy Array from a list of 10 elements."
   ]
  },
  {
   "cell_type": "code",
   "execution_count": 3,
   "metadata": {},
   "outputs": [
    {
     "data": {
      "text/plain": [
       "array([0, 1, 2, 3, 4, 5, 6, 7, 8, 9])"
      ]
     },
     "execution_count": 3,
     "metadata": {},
     "output_type": "execute_result"
    }
   ],
   "source": [
    "list1 = [0,1,2,3,4,5,6,7,8,9]\n",
    "array1 = np.array(list1)\n",
    "array1"
   ]
  },
  {
   "attachments": {},
   "cell_type": "markdown",
   "metadata": {},
   "source": [
    "3. Construct a 10x10 matrix filled with '0's of the integer data type."
   ]
  },
  {
   "cell_type": "code",
   "execution_count": 5,
   "metadata": {},
   "outputs": [
    {
     "data": {
      "text/plain": [
       "array([[0, 0, 0, 0, 0, 0, 0, 0, 0, 0],\n",
       "       [0, 0, 0, 0, 0, 0, 0, 0, 0, 0],\n",
       "       [0, 0, 0, 0, 0, 0, 0, 0, 0, 0],\n",
       "       [0, 0, 0, 0, 0, 0, 0, 0, 0, 0],\n",
       "       [0, 0, 0, 0, 0, 0, 0, 0, 0, 0],\n",
       "       [0, 0, 0, 0, 0, 0, 0, 0, 0, 0],\n",
       "       [0, 0, 0, 0, 0, 0, 0, 0, 0, 0],\n",
       "       [0, 0, 0, 0, 0, 0, 0, 0, 0, 0],\n",
       "       [0, 0, 0, 0, 0, 0, 0, 0, 0, 0],\n",
       "       [0, 0, 0, 0, 0, 0, 0, 0, 0, 0]])"
      ]
     },
     "execution_count": 5,
     "metadata": {},
     "output_type": "execute_result"
    }
   ],
   "source": [
    "array3 = np.zeros((10,10), dtype=int)\n",
    "array3"
   ]
  },
  {
   "attachments": {},
   "cell_type": "markdown",
   "metadata": {},
   "source": [
    "4. Construct a 10x10 matrix filled with '1's, data type float."
   ]
  },
  {
   "cell_type": "code",
   "execution_count": 8,
   "metadata": {},
   "outputs": [
    {
     "data": {
      "text/plain": [
       "array([[1., 1., 1., 1., 1., 1., 1., 1., 1., 1.],\n",
       "       [1., 1., 1., 1., 1., 1., 1., 1., 1., 1.],\n",
       "       [1., 1., 1., 1., 1., 1., 1., 1., 1., 1.],\n",
       "       [1., 1., 1., 1., 1., 1., 1., 1., 1., 1.],\n",
       "       [1., 1., 1., 1., 1., 1., 1., 1., 1., 1.],\n",
       "       [1., 1., 1., 1., 1., 1., 1., 1., 1., 1.],\n",
       "       [1., 1., 1., 1., 1., 1., 1., 1., 1., 1.],\n",
       "       [1., 1., 1., 1., 1., 1., 1., 1., 1., 1.],\n",
       "       [1., 1., 1., 1., 1., 1., 1., 1., 1., 1.],\n",
       "       [1., 1., 1., 1., 1., 1., 1., 1., 1., 1.]])"
      ]
     },
     "execution_count": 8,
     "metadata": {},
     "output_type": "execute_result"
    }
   ],
   "source": [
    "array4 = np.ones((10,10))\n",
    "array4"
   ]
  },
  {
   "attachments": {},
   "cell_type": "markdown",
   "metadata": {},
   "source": [
    "5. Construct a 10x10 matrix filled with '9's of the integer data type."
   ]
  },
  {
   "cell_type": "code",
   "execution_count": 10,
   "metadata": {},
   "outputs": [
    {
     "data": {
      "text/plain": [
       "array([[9, 9, 9, 9, 9, 9, 9, 9, 9, 9],\n",
       "       [9, 9, 9, 9, 9, 9, 9, 9, 9, 9],\n",
       "       [9, 9, 9, 9, 9, 9, 9, 9, 9, 9],\n",
       "       [9, 9, 9, 9, 9, 9, 9, 9, 9, 9],\n",
       "       [9, 9, 9, 9, 9, 9, 9, 9, 9, 9],\n",
       "       [9, 9, 9, 9, 9, 9, 9, 9, 9, 9],\n",
       "       [9, 9, 9, 9, 9, 9, 9, 9, 9, 9],\n",
       "       [9, 9, 9, 9, 9, 9, 9, 9, 9, 9],\n",
       "       [9, 9, 9, 9, 9, 9, 9, 9, 9, 9],\n",
       "       [9, 9, 9, 9, 9, 9, 9, 9, 9, 9]])"
      ]
     },
     "execution_count": 10,
     "metadata": {},
     "output_type": "execute_result"
    }
   ],
   "source": [
    "array5 = np.ones((10,10), dtype = int) * 9\n",
    "array5"
   ]
  },
  {
   "attachments": {},
   "cell_type": "markdown",
   "metadata": {},
   "source": [
    "6. Construct a one-dimensional array with values between 5 and 25 that jumps with steps of 3 (`[5, 8, ...]`)"
   ]
  },
  {
   "cell_type": "code",
   "execution_count": 25,
   "metadata": {},
   "outputs": [
    {
     "data": {
      "text/plain": [
       "array([ 5,  8, 11, 14, 17, 20, 23])"
      ]
     },
     "execution_count": 25,
     "metadata": {},
     "output_type": "execute_result"
    }
   ],
   "source": [
    "array6 = np.arange(5, 25, 3)\n",
    "array6"
   ]
  },
  {
   "attachments": {},
   "cell_type": "markdown",
   "metadata": {},
   "source": [
    "7. Create an array of size 30 with evenly spaced values between -1 and 1."
   ]
  },
  {
   "cell_type": "code",
   "execution_count": 26,
   "metadata": {},
   "outputs": [
    {
     "data": {
      "text/plain": [
       "array([-1.        , -0.93103448, -0.86206897, -0.79310345, -0.72413793,\n",
       "       -0.65517241, -0.5862069 , -0.51724138, -0.44827586, -0.37931034,\n",
       "       -0.31034483, -0.24137931, -0.17241379, -0.10344828, -0.03448276,\n",
       "        0.03448276,  0.10344828,  0.17241379,  0.24137931,  0.31034483,\n",
       "        0.37931034,  0.44827586,  0.51724138,  0.5862069 ,  0.65517241,\n",
       "        0.72413793,  0.79310345,  0.86206897,  0.93103448,  1.        ])"
      ]
     },
     "execution_count": 26,
     "metadata": {},
     "output_type": "execute_result"
    }
   ],
   "source": [
    "array7 = np.linspace(-1,1,30)\n",
    "array7"
   ]
  },
  {
   "attachments": {},
   "cell_type": "markdown",
   "metadata": {},
   "source": [
    "8. Construct a 5x6 matrix with integers from 0 to 30."
   ]
  },
  {
   "cell_type": "code",
   "execution_count": 48,
   "metadata": {},
   "outputs": [
    {
     "data": {
      "text/plain": [
       "array([[ 0,  1,  2,  3,  4,  5],\n",
       "       [ 6,  7,  8,  9, 10, 11],\n",
       "       [12, 13, 14, 15, 16, 17],\n",
       "       [18, 19, 20, 21, 22, 23],\n",
       "       [24, 25, 26, 27, 28, 29]])"
      ]
     },
     "execution_count": 48,
     "metadata": {},
     "output_type": "execute_result"
    }
   ],
   "source": [
    "array8 = np.arange(0,30).reshape((5,6))\n",
    "array8"
   ]
  },
  {
   "attachments": {},
   "cell_type": "markdown",
   "metadata": {},
   "source": [
    "9. Create an array of 30 random integers and sort it in ascending order."
   ]
  },
  {
   "cell_type": "code",
   "execution_count": 34,
   "metadata": {},
   "outputs": [
    {
     "data": {
      "text/plain": [
       "array([ 1,  2,  3,  6,  8, 13, 14, 17, 20, 38, 41, 46, 50, 50, 52, 54, 59,\n",
       "       59, 59, 61, 61, 61, 63, 72, 79, 83, 88, 89, 91, 91])"
      ]
     },
     "execution_count": 34,
     "metadata": {},
     "output_type": "execute_result"
    }
   ],
   "source": [
    "array9  = np.sort(np.random.randint(0,100,30))\n",
    "array9"
   ]
  },
  {
   "attachments": {},
   "cell_type": "markdown",
   "metadata": {},
   "source": [
    "10. Construct a 5x10 matrix filled with the value 1 at each location. Print the following details about this matrix:\n",
    "- number of elements\n",
    "- shape of the matrix\n",
    "- the data type (using numpy methods)\n"
   ]
  },
  {
   "cell_type": "code",
   "execution_count": 41,
   "metadata": {},
   "outputs": [
    {
     "name": "stdout",
     "output_type": "stream",
     "text": [
      "Array [[1 1 1 1 1 1 1 1 1 1]\n",
      " [1 1 1 1 1 1 1 1 1 1]\n",
      " [1 1 1 1 1 1 1 1 1 1]\n",
      " [1 1 1 1 1 1 1 1 1 1]\n",
      " [1 1 1 1 1 1 1 1 1 1]]\n",
      "number of elements:  50\n",
      "shape of the matrix:  (5, 10)\n",
      "the data type of the matrix:  int32\n"
     ]
    }
   ],
   "source": [
    "array10 = np.ones((5,10), dtype = int)\n",
    "print(\"Array\", array10)\n",
    "print(\"number of elements: \", array10.size)\n",
    "print(\"shape of the matrix: \", array10.shape)\n",
    "print(\"the data type of the matrix: \", array10.dtype)"
   ]
  },
  {
   "attachments": {},
   "cell_type": "markdown",
   "metadata": {},
   "source": [
    "11. Construct a 3x4x7 matrix with random integer values between 0 and 10 (a 3D matrix will be created).\n"
   ]
  },
  {
   "cell_type": "code",
   "execution_count": 49,
   "metadata": {},
   "outputs": [
    {
     "data": {
      "text/plain": [
       "array([[[2, 5, 1, 9, 8, 4, 5],\n",
       "        [3, 9, 6, 8, 6, 0, 0],\n",
       "        [8, 8, 3, 8, 2, 6, 5],\n",
       "        [7, 8, 4, 0, 2, 9, 7]],\n",
       "\n",
       "       [[5, 7, 8, 3, 0, 0, 9],\n",
       "        [3, 6, 1, 2, 0, 4, 0],\n",
       "        [7, 0, 0, 1, 1, 5, 6],\n",
       "        [4, 0, 0, 2, 1, 4, 9]],\n",
       "\n",
       "       [[5, 6, 3, 6, 7, 0, 5],\n",
       "        [7, 4, 3, 1, 5, 5, 0],\n",
       "        [8, 5, 2, 3, 3, 2, 9],\n",
       "        [2, 2, 3, 6, 3, 8, 0]]])"
      ]
     },
     "execution_count": 49,
     "metadata": {},
     "output_type": "execute_result"
    }
   ],
   "source": [
    "matrix11 = np.random.randint(0,10,(3,4,7))\n",
    "matrix11"
   ]
  },
  {
   "attachments": {},
   "cell_type": "markdown",
   "metadata": {},
   "source": [
    "12. Create an array of 20 random integers and reshape it into a 4x5 matrix."
   ]
  },
  {
   "cell_type": "code",
   "execution_count": 51,
   "metadata": {},
   "outputs": [
    {
     "data": {
      "text/plain": [
       "array([[47, 11, 68, 36, 31],\n",
       "       [ 8, 98, 18, 47, 79],\n",
       "       [ 2, 19, 23, 53, 32],\n",
       "       [23, 74, 71, 35, 37]])"
      ]
     },
     "execution_count": 51,
     "metadata": {},
     "output_type": "execute_result"
    }
   ],
   "source": [
    "array12 = np.random.randint(0,100,20)\n",
    "array12.reshape(4,5)"
   ]
  },
  {
   "attachments": {},
   "cell_type": "markdown",
   "metadata": {},
   "source": [
    "13. Construct a one-dimensional array by concetanating 4 separate one-dimensional arrays."
   ]
  },
  {
   "cell_type": "code",
   "execution_count": 62,
   "metadata": {},
   "outputs": [
    {
     "data": {
      "text/plain": [
       "array([ 0,  1,  2,  3,  4,  5,  6,  7,  8,  9, 10, 11, 12, 13, 14, 15, 16,\n",
       "       17, 18, 19])"
      ]
     },
     "execution_count": 62,
     "metadata": {},
     "output_type": "execute_result"
    }
   ],
   "source": [
    "array1 =  np.arange(0,5)\n",
    "array2 = np.arange(5,10)\n",
    "array3 = np.arange(10,15)\n",
    "array4 = np.arange(15,20)\n",
    "array_sum = np.concatenate([array1, array2, array3, array4])\n",
    "array_sum"
   ]
  },
  {
   "attachments": {},
   "cell_type": "markdown",
   "metadata": {},
   "source": [
    "14. Create a vector of length 3 (3x1) and a matrix of size 3x3. Combine these two arrays on a\n",
    "    column-by-column basis using numpy methods.\n"
   ]
  },
  {
   "cell_type": "code",
   "execution_count": 74,
   "metadata": {},
   "outputs": [
    {
     "name": "stdout",
     "output_type": "stream",
     "text": [
      "[[11]\n",
      " [17]\n",
      " [ 2]]\n",
      "[[ 0  0 18]\n",
      " [10  4 11]\n",
      " [ 2  0  0]]\n",
      "[[ 0  0 18 11]\n",
      " [10  4 11 17]\n",
      " [ 2  0  0  2]]\n"
     ]
    }
   ],
   "source": [
    "vector = np.random.randint(0,20,(3,1))\n",
    "print(vector)\n",
    "matrix = np.random.randint(0,20,(3,3))\n",
    "print(matrix)\n",
    "print(np.concatenate([matrix, vector], axis = 1))\n"
   ]
  },
  {
   "attachments": {},
   "cell_type": "markdown",
   "metadata": {},
   "source": [
    "15. What is the difference between \"axis=1\" and \"axis=0\" in Numpy functions? "
   ]
  },
  {
   "attachments": {},
   "cell_type": "markdown",
   "metadata": {},
   "source": [
    "If \"axis=0\", Numpy performs the action on elements of each column, and if \"axis=1\", it performs the action on rows."
   ]
  },
  {
   "attachments": {},
   "cell_type": "markdown",
   "metadata": {},
   "source": [
    "16. Create a random 1D vector with 20 elements. Find the 3rd, 5th and 7th elements of this vector.\n"
   ]
  },
  {
   "cell_type": "code",
   "execution_count": 77,
   "metadata": {},
   "outputs": [
    {
     "name": "stdout",
     "output_type": "stream",
     "text": [
      "[ 9  4  8 23  2 16  2 15  3 17 16  6 23 22 29  4 11 16 22 12]\n",
      "[8 2 2]\n"
     ]
    }
   ],
   "source": [
    "vector = np.random.randint(0,30,20)\n",
    "print(vector)\n",
    "print(vector[2:7:2])"
   ]
  },
  {
   "attachments": {},
   "cell_type": "markdown",
   "metadata": {},
   "source": [
    "17. Create a random vector with 10 elements and replace the 4th element of this array with a different number."
   ]
  },
  {
   "cell_type": "code",
   "execution_count": 82,
   "metadata": {},
   "outputs": [
    {
     "name": "stdout",
     "output_type": "stream",
     "text": [
      "[20 22 15 24  6 12 20  9 25  6]\n",
      "[20 22 15 40  6 12 20  9 25  6]\n"
     ]
    }
   ],
   "source": [
    "vector = np.random.randint(0,30,10)\n",
    "print(vector)\n",
    "vector[3] = 40\n",
    "print(vector)"
   ]
  },
  {
   "attachments": {},
   "cell_type": "markdown",
   "metadata": {},
   "source": [
    "18. Look up the concepts of *diagonal matrix* and *trace matrix* online and write a small explanation about what they are.\n"
   ]
  },
  {
   "attachments": {},
   "cell_type": "markdown",
   "metadata": {},
   "source": [
    "A diagonal matrix is a matrix in which the entries outside the main diagonal are all zero.\n",
    "The trace of a square matrix is the sum of its diagonal entries."
   ]
  },
  {
   "attachments": {},
   "cell_type": "markdown",
   "metadata": {},
   "source": [
    "19. Create a 5x5 diagonal matrix with elements of your choosing. What are the indexes of the diagonal?\n"
   ]
  },
  {
   "cell_type": "code",
   "execution_count": 84,
   "metadata": {},
   "outputs": [
    {
     "name": "stdout",
     "output_type": "stream",
     "text": [
      "[[5 0 0]\n",
      " [0 6 0]\n",
      " [0 0 8]] \n",
      "\n",
      "The indexes of the diagonal are: \n",
      " 5 6 8 \n",
      "\n"
     ]
    }
   ],
   "source": [
    "dmatrix = np.array([[5, 0, 0], [0, 6, 0], [0, 0, 8]])\n",
    "\n",
    "print(dmatrix,'\\n')\n",
    "print('The indexes of the diagonal are:','\\n', dmatrix[0,0],dmatrix[1,1],dmatrix[2,2],'\\n')"
   ]
  },
  {
   "attachments": {},
   "cell_type": "markdown",
   "metadata": {},
   "source": [
    "20. Create a vector that ranges from 10 to 20. Print the values from the 3rd index to the last index.\n"
   ]
  },
  {
   "cell_type": "code",
   "execution_count": 89,
   "metadata": {},
   "outputs": [
    {
     "name": "stdout",
     "output_type": "stream",
     "text": [
      "[12 13 14 15 16 17 18 19 20]\n"
     ]
    }
   ],
   "source": [
    "vector = np.arange(10,21)\n",
    "print(vector[2::])"
   ]
  },
  {
   "attachments": {},
   "cell_type": "markdown",
   "metadata": {},
   "source": [
    "21. Construct a 10x10 matrix with random elements and perform the following indexing tasks on it. Each task should be a single indexing operation.\n",
    " - Retrieve column 5 of row 3. Moreover;\n",
    " - Retrieve all elements of column 5.\n",
    " - Retrieve the 2nd row of all columns.\n",
    " - Retrieve row 2 through 7 of all columns.\n",
    " - Retrieve values with row index 2 to 5 and column index 3 to 7.\n",
    " - Retrieve the values from row index 5 to the end and column index from the top to 4.\n",
    " - Replace the value corresponding to the 5th row and the 5th column with your year of birth."
   ]
  },
  {
   "cell_type": "code",
   "execution_count": 108,
   "metadata": {},
   "outputs": [
    {
     "name": "stdout",
     "output_type": "stream",
     "text": [
      "[[ 2 70 17 89 28 66 35  5 65 40]\n",
      " [76 56 36 45 23 47 31 11 10 67]\n",
      " [14 80 74 93 10 76 94  1  5 20]\n",
      " [ 8 43 76  1 57 64 84 28 37 47]\n",
      " [76 37 49 44 56 28 79  6 61 20]\n",
      " [78  2 73 37 20 26 29  1 35 70]\n",
      " [59 69 33 51 78 12 20 53 88 43]\n",
      " [98 89 50 29 57 39 95 56 43 50]\n",
      " [23 44 38 84 23 45 52 80 50  8]\n",
      " [85  1  8 29 96  5 86 47 34 65]]\n"
     ]
    }
   ],
   "source": [
    "matrix21 = np.random.randint(1,100,(10,10))\n",
    "print(matrix21)"
   ]
  },
  {
   "cell_type": "code",
   "execution_count": 109,
   "metadata": {},
   "outputs": [
    {
     "name": "stdout",
     "output_type": "stream",
     "text": [
      "10\n",
      "[28 23 10 57 56 20 78 57 23 96]\n",
      "[76 56 36 45 23 47 31 11 10 67]\n",
      "[[76 56 36 45 23 47 31 11 10 67]\n",
      " [14 80 74 93 10 76 94  1  5 20]\n",
      " [ 8 43 76  1 57 64 84 28 37 47]\n",
      " [76 37 49 44 56 28 79  6 61 20]\n",
      " [78  2 73 37 20 26 29  1 35 70]\n",
      " [59 69 33 51 78 12 20 53 88 43]]\n",
      "[[93 10 76 94  1]\n",
      " [ 1 57 64 84 28]\n",
      " [44 56 28 79  6]\n",
      " [37 20 26 29  1]]\n",
      "[[78  2 73 37 20]\n",
      " [59 69 33 51 78]\n",
      " [98 89 50 29 57]\n",
      " [23 44 38 84 23]\n",
      " [85  1  8 29 96]]\n",
      "[[   2   70   17   89   28   66   35    5   65   40]\n",
      " [  76   56   36   45   23   47   31   11   10   67]\n",
      " [  14   80   74   93   10   76   94    1    5   20]\n",
      " [   8   43   76    1   57   64   84   28   37   47]\n",
      " [  76   37   49   44 1984   28   79    6   61   20]\n",
      " [  78    2   73   37   20   26   29    1   35   70]\n",
      " [  59   69   33   51   78   12   20   53   88   43]\n",
      " [  98   89   50   29   57   39   95   56   43   50]\n",
      " [  23   44   38   84   23   45   52   80   50    8]\n",
      " [  85    1    8   29   96    5   86   47   34   65]]\n"
     ]
    }
   ],
   "source": [
    "print(matrix21[2,4]) #column 5 of row 3\n",
    "print(matrix21[:,4]) #all elements of column 5\n",
    "print(matrix21[1,:]) #the 2nd row of all columns\n",
    "print(matrix21[1:7,:]) #row 2 through 7 of all columns.\n",
    "print(matrix21[2:6,3:8]) #row index 2 to 5 and column index 3 to 7\n",
    "print(matrix21[5:,:5]) #rom row index 5 to the end and column index from the top to 4\n",
    "matrix21[4,4] = 1984 #corresponding to the 5th row and the 5th column with your year of birth\n",
    "print(matrix21)"
   ]
  },
  {
   "attachments": {},
   "cell_type": "markdown",
   "metadata": {},
   "source": [
    "22. Construct a one-dimensional array from 0 to 50 jumping with steps of 5 (`[5, 10, ...]`). Use the numpy methods to perform the following tasks;\n",
    "- Print all values greater than 20.\n",
    "- Print all values less than 30.\n",
    "- How many values are 33 in it?\n",
    "- Multiply all the elements of the created array by 5."
   ]
  },
  {
   "cell_type": "code",
   "execution_count": 126,
   "metadata": {},
   "outputs": [
    {
     "name": "stdout",
     "output_type": "stream",
     "text": [
      "[ 5 10 15 20 25 30 35 40 45 50]\n",
      "[25 30 35 40 45 50]\n",
      "[ 5 10 15 20 25]\n",
      "0\n",
      "[ 25  50  75 100 125 150 175 200 225 250]\n"
     ]
    }
   ],
   "source": [
    "x = np.arange(5,51, 5) \n",
    "print(x)\n",
    "print(x[x>20])\n",
    "print(x[x<30])\n",
    "print(x[x==33].size)\n",
    "print(x*5)"
   ]
  },
  {
   "attachments": {},
   "cell_type": "markdown",
   "metadata": {},
   "source": [
    "23. Construct an array of 50 random floats between 0 and 1 and take the average. Moreover;\n",
    "- Get the standard deviation.\n",
    "- Get the variance.\n",
    "- Take the median.\n",
    "- Find the smallest value.\n",
    "- Find the largest value."
   ]
  },
  {
   "cell_type": "code",
   "execution_count": 9,
   "metadata": {},
   "outputs": [
    {
     "name": "stdout",
     "output_type": "stream",
     "text": [
      "[0.0754149  0.6809908  0.51557131 0.04573999 0.46411969 0.34351093\n",
      " 0.51606012 0.883321   0.46030827 0.19535261 0.75842801 0.65112369\n",
      " 0.7298361  0.09647493 0.75980069 0.09360817 0.31722363 0.80279456\n",
      " 0.29425982 0.0799367  0.68161396 0.46682991 0.07825015 0.60443948\n",
      " 0.56487677 0.16600446 0.44826654 0.05471213 0.81998168 0.35580556\n",
      " 0.15670478 0.22450953 0.02681961 0.67236954 0.45154574 0.16262797\n",
      " 0.74198999 0.75792781 0.10424258 0.20996269 0.29834975 0.51092205\n",
      " 0.82551075 0.65913408 0.04047565 0.63522513 0.61578304 0.25560785\n",
      " 0.14488366 0.92728709]\n",
      "0.42853071681408894\n",
      "0.271618827947669\n",
      "0.07377678769566541\n",
      "0.4559270031978923\n",
      "0.02681961499427976\n",
      "0.9272870882744719\n"
     ]
    }
   ],
   "source": [
    "x = np.random.rand(50)\n",
    "print(x)\n",
    "print(x.mean())\n",
    "print(x.std())\n",
    "print(x.var())\n",
    "print(np.median(x))\n",
    "print(x.min())\n",
    "print(x.max())"
   ]
  },
  {
   "attachments": {},
   "cell_type": "markdown",
   "metadata": {},
   "source": [
    "24. What are the differences between Pandas Series and NumPy arrays?"
   ]
  },
  {
   "attachments": {},
   "cell_type": "markdown",
   "metadata": {},
   "source": [
    "\n",
    "*The Pandas Series has an explicit index definition, which gives it additional capabilities compared to the numpy array.\n",
    "*The indices of a Pandas Series must not be of an integer data type, but they can take other data types like strings.  They can also be non-sequential or non-contiguous.\n",
    "*Operations between Series objects automatically align data based on the label during alignment.\n",
    "*If no matching labels are found, Pandas returns NaN.\n",
    "*Pandas does a lot of work during indexing, hence, it is faster to index numpy arrays than Pandas Series objects."
   ]
  },
  {
   "attachments": {},
   "cell_type": "markdown",
   "metadata": {},
   "source": [
    "25. Create a 5-element series with different data types, with an index of capital letters."
   ]
  },
  {
   "cell_type": "code",
   "execution_count": 133,
   "metadata": {},
   "outputs": [
    {
     "data": {
      "text/plain": [
       "A        10\n",
       "B       Ali\n",
       "C       5.2\n",
       "D      True\n",
       "E    [1, 3]\n",
       "dtype: object"
      ]
     },
     "execution_count": 133,
     "metadata": {},
     "output_type": "execute_result"
    }
   ],
   "source": [
    "x = pd.Series([10, \"Ali\", 5.2, True, [1,3]], index = [\"A\", \"B\", \"C\", \"D\", \"E\"])\n",
    "x"
   ]
  },
  {
   "attachments": {},
   "cell_type": "markdown",
   "metadata": {},
   "source": [
    "26. Create a 5-element dictionary with keys as country names and values as capitals and turn it into a series. An example: ` \"france\" : \"paris\"`)."
   ]
  },
  {
   "cell_type": "code",
   "execution_count": 136,
   "metadata": {},
   "outputs": [
    {
     "name": "stdout",
     "output_type": "stream",
     "text": [
      "France        Paris\n",
      "Turkey       Ankara\n",
      "Belgium    Brussels\n",
      "Germany      Berlin\n",
      "Greece       Athens\n",
      "dtype: object\n"
     ]
    }
   ],
   "source": [
    "x = {\"France\" : \"Paris\" , \"Turkey\" : \"Ankara\", \"Belgium\" : \"Brussels\", \"Germany\" : \"Berlin\", \"Greece\" : \"Athens\"}\n",
    "print(pd.Series(x))\n"
   ]
  },
  {
   "attachments": {},
   "cell_type": "markdown",
   "metadata": {},
   "source": [
    "27. Create a random vector with 10 elements.\n",
    "- Convert the vector to series and with strings as indexes. For example, a,b,c,d,e,f,g..\n",
    "- Retrieve the 3rd element of the series using the index name (for example: c).\n",
    "- Retrieve the 1st element of the series using the index number.\n",
    "- Access the 2nd and 7th elements of the series at the same time, using the index name. (Example: values corresponding to index b and g)"
   ]
  },
  {
   "cell_type": "code",
   "execution_count": 145,
   "metadata": {},
   "outputs": [
    {
     "name": "stdout",
     "output_type": "stream",
     "text": [
      "a    3\n",
      "b    3\n",
      "c    1\n",
      "d    5\n",
      "e    1\n",
      "f    6\n",
      "g    2\n",
      "h    2\n",
      "i    4\n",
      "j    2\n",
      "dtype: int32\n",
      "1\n",
      "3\n",
      "b    3\n",
      "g    2\n",
      "dtype: int32\n"
     ]
    }
   ],
   "source": [
    "x = np.random.randint(0, 10, 10)\n",
    "series = pd.Series(x, index=[\"a\",\"b\",\"c\",\"d\",\"e\",\"f\",\"g\",\"h\",\"i\",\"j\"])\n",
    "print(series)\n",
    "print(series[\"c\"])\n",
    "print(series[0])\n",
    "print(series[[\"b\",\"g\"]])"
   ]
  },
  {
   "attachments": {},
   "cell_type": "markdown",
   "metadata": {},
   "source": [
    "28. Create two 5-element series with elements of your choice with default index.\n",
    "- Combine the series you have created.\n",
    "- Arrange the index of the resulting concatenated 10-element series from 1 to 10."
   ]
  },
  {
   "cell_type": "code",
   "execution_count": 5,
   "metadata": {},
   "outputs": [
    {
     "name": "stdout",
     "output_type": "stream",
     "text": [
      "0     1\n",
      "1     3\n",
      "2     5\n",
      "3     7\n",
      "4     9\n",
      "0     2\n",
      "1     4\n",
      "2     6\n",
      "3     8\n",
      "4    10\n",
      "dtype: int64 /n\n",
      "1      1\n",
      "2      3\n",
      "3      5\n",
      "4      7\n",
      "5      9\n",
      "6      2\n",
      "7      4\n",
      "8      6\n",
      "9      8\n",
      "10    10\n",
      "dtype: int64\n"
     ]
    }
   ],
   "source": [
    "series1 = pd.Series([1,3,5,7,9])\n",
    "series2 = pd.Series([2,4,6,8,10])\n",
    "series3 = pd.concat([series1, series2])\n",
    "print(series3, \"/n\")\n",
    "series3.index = range(1,11)\n",
    "print(series3)"
   ]
  },
  {
   "attachments": {},
   "cell_type": "markdown",
   "metadata": {},
   "source": [
    "**Bonus homework**:\n",
    "\n",
    "\n",
    "Generate two 20x20 matrices with values between 0 and 1 randomly in a loop and take the difference of these\n",
    "matrices. Repeat this process until all elements on the diagonal of the difference matrix\n",
    "is between -0.1 and 0.1. When the desired matrix is found, let the program stop\n",
    "and print the total number of cycles, how long it took, and the desired matrix\n",
    "with print.\n",
    "\n",
    "\n",
    "Tip: Finding the 20 x 20 matrix can take hours. Therefore, to test the accuracy\n",
    "of your algorithm, you can first try it on small matrices such as 4x4, 5x5. And\n",
    "you can try the latest 20x20 by increasing the number of matrix. (You can do\n",
    "the matrix generation with the np.random.random((a,b)) function. It generates\n",
    "an array of desired sizes between 0-1.)\n"
   ]
  },
  {
   "cell_type": "code",
   "execution_count": 10,
   "metadata": {},
   "outputs": [
    {
     "name": "stdout",
     "output_type": "stream",
     "text": [
      "Number of cycles:  1422\n",
      "Time it took:  0.04361081123352051\n",
      "The matrix is: [ 0.08300426 -0.02146558 -0.08756111  0.04831588  0.02658586]\n"
     ]
    }
   ],
   "source": [
    "import time\n",
    "starting_point = time.time()\n",
    "cycles = 0\n",
    "while True:\n",
    "    difference = np.random.rand(5, 5) - np.random.rand(5, 5)\n",
    "    diagonal = np.diag(difference)\n",
    "    if (diagonal < 0.1).all() and (diagonal > -0.1).all():\n",
    "        end_point = time.time()\n",
    "        break\n",
    "    cycles+=1\n",
    "    \n",
    "print(\"Number of cycles: \", cycles)\n",
    "print(\"Time it took: \", end_point - starting_point)\n",
    "print(\"The matrix is:\", diagonal)"
   ]
  }
 ],
 "metadata": {
  "kernelspec": {
   "display_name": "Python 3",
   "language": "python",
   "name": "python3"
  },
  "language_info": {
   "codemirror_mode": {
    "name": "ipython",
    "version": 3
   },
   "file_extension": ".py",
   "mimetype": "text/x-python",
   "name": "python",
   "nbconvert_exporter": "python",
   "pygments_lexer": "ipython3",
   "version": "3.9.13"
  },
  "orig_nbformat": 4,
  "vscode": {
   "interpreter": {
    "hash": "b99668b0bd0e04ae2365b8076afa579c0a8a5d069817a91122d1bb49107b24a1"
   }
  }
 },
 "nbformat": 4,
 "nbformat_minor": 2
}
