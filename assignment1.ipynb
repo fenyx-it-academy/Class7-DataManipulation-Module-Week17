{
 "cells": [
  {
   "attachments": {},
   "cell_type": "markdown",
   "metadata": {},
   "source": [
    "## Data Manipulation module\n",
    "### Homework assignment 1\n",
    "\n",
    "Welcome to the first homework assignment of the data manipulation module. In this assignment you will be working with NumPy and Pandas Series. The goal of this assignment is to get you familiar with these libraries and data types.\n",
    "\n",
    "### Instructions\n",
    "Read the exercises carefully and implement the requested functionality. Add your code in the cells provided with `YOUR CODE HERE` or `YOUR ANSWER HERE`. You can add cells if you need to. **Make sure to use NumPy methods** to find your answers. In some cases you might be able to read the answer, but we want to see you using the NumPy methods.\n",
    "\n",
    "### Hand-in\n",
    "To hand in your assignment, fork this notebook and commit your changes, then make a pull request to the original repository. The deadline for handing in the assignment is **Wednesday 18-01 23:59**."
   ]
  },
  {
   "cell_type": "code",
   "execution_count": 2,
   "metadata": {},
   "outputs": [],
   "source": [
    "# imports, no need to edit\n",
    "\n",
    "import numpy as np\n",
    "import pandas as pd\n",
    "\n",
    "np.random.seed(42)"
   ]
  },
  {
   "attachments": {},
   "cell_type": "markdown",
   "metadata": {},
   "source": [
    "1. Explain the difference between a vector and matrix in NumPy in one sentence."
   ]
  },
  {
   "attachments": {},
   "cell_type": "markdown",
   "metadata": {},
   "source": [
    "YOUR ANSWER HERE\n",
    "A vector is an array with a single dimension, a matrix refers to an array with two dimensions."
   ]
  },
  {
   "attachments": {},
   "cell_type": "markdown",
   "metadata": {},
   "source": [
    "2. Construct a NumPy Array from a list of 10 elements."
   ]
  },
  {
   "cell_type": "code",
   "execution_count": 3,
   "metadata": {},
   "outputs": [
    {
     "name": "stdout",
     "output_type": "stream",
     "text": [
      "[0 1 2 3 4 5 6 7 8 9]\n"
     ]
    }
   ],
   "source": [
    "# YOUR CODE HERE\n",
    "\n",
    "array = np.array([0, 1, 2, 3, 4, 5, 6, 7, 8, 9])\n",
    "print(array)"
   ]
  },
  {
   "attachments": {},
   "cell_type": "markdown",
   "metadata": {},
   "source": [
    "3. Construct a 10x10 matrix filled with '0's of the integer data type."
   ]
  },
  {
   "cell_type": "code",
   "execution_count": 12,
   "metadata": {},
   "outputs": [
    {
     "name": "stdout",
     "output_type": "stream",
     "text": [
      "[[0 0 0 0 0 0 0 0 0 0]\n",
      " [0 0 0 0 0 0 0 0 0 0]\n",
      " [0 0 0 0 0 0 0 0 0 0]\n",
      " [0 0 0 0 0 0 0 0 0 0]\n",
      " [0 0 0 0 0 0 0 0 0 0]\n",
      " [0 0 0 0 0 0 0 0 0 0]\n",
      " [0 0 0 0 0 0 0 0 0 0]\n",
      " [0 0 0 0 0 0 0 0 0 0]\n",
      " [0 0 0 0 0 0 0 0 0 0]\n",
      " [0 0 0 0 0 0 0 0 0 0]]\n",
      "int32\n"
     ]
    }
   ],
   "source": [
    "# YOUR CODE HERE\n",
    "array = np.zeros((10, 10), dtype= 'i')\n",
    "print(array)\n",
    "print('\\n', array.dtype)"
   ]
  },
  {
   "attachments": {},
   "cell_type": "markdown",
   "metadata": {},
   "source": [
    "4. Construct a 10x10 matrix filled with '1's, data type float."
   ]
  },
  {
   "cell_type": "code",
   "execution_count": 15,
   "metadata": {},
   "outputs": [
    {
     "name": "stdout",
     "output_type": "stream",
     "text": [
      "[[1. 1. 1. 1. 1. 1. 1. 1. 1. 1.]\n",
      " [1. 1. 1. 1. 1. 1. 1. 1. 1. 1.]\n",
      " [1. 1. 1. 1. 1. 1. 1. 1. 1. 1.]\n",
      " [1. 1. 1. 1. 1. 1. 1. 1. 1. 1.]\n",
      " [1. 1. 1. 1. 1. 1. 1. 1. 1. 1.]\n",
      " [1. 1. 1. 1. 1. 1. 1. 1. 1. 1.]\n",
      " [1. 1. 1. 1. 1. 1. 1. 1. 1. 1.]\n",
      " [1. 1. 1. 1. 1. 1. 1. 1. 1. 1.]\n",
      " [1. 1. 1. 1. 1. 1. 1. 1. 1. 1.]\n",
      " [1. 1. 1. 1. 1. 1. 1. 1. 1. 1.]]\n",
      "float64\n"
     ]
    }
   ],
   "source": [
    "# YOUR CODE HERE\n",
    "array = np.ones((10, 10))\n",
    "print(array)\n",
    "print('\\n', array.dtype)"
   ]
  },
  {
   "attachments": {},
   "cell_type": "markdown",
   "metadata": {},
   "source": [
    "5. Construct a 10x10 matrix filled with '9's of the integer data type."
   ]
  },
  {
   "cell_type": "code",
   "execution_count": 17,
   "metadata": {},
   "outputs": [
    {
     "name": "stdout",
     "output_type": "stream",
     "text": [
      "[[9 9 9 9 9 9 9 9 9 9]\n",
      " [9 9 9 9 9 9 9 9 9 9]\n",
      " [9 9 9 9 9 9 9 9 9 9]\n",
      " [9 9 9 9 9 9 9 9 9 9]\n",
      " [9 9 9 9 9 9 9 9 9 9]\n",
      " [9 9 9 9 9 9 9 9 9 9]\n",
      " [9 9 9 9 9 9 9 9 9 9]\n",
      " [9 9 9 9 9 9 9 9 9 9]\n",
      " [9 9 9 9 9 9 9 9 9 9]\n",
      " [9 9 9 9 9 9 9 9 9 9]]\n",
      "int32\n"
     ]
    }
   ],
   "source": [
    "# YOUR CODE HERE\n",
    "array = np.ones((10,10), dtype='i') * 9\n",
    "print(array)\n",
    "print('\\n', array.dtype)"
   ]
  },
  {
   "attachments": {},
   "cell_type": "markdown",
   "metadata": {},
   "source": [
    "6. Construct a one-dimensional array with values between 5 and 25 that jumps with steps of 3 (`[5, 8, ...]`)"
   ]
  },
  {
   "cell_type": "code",
   "execution_count": 23,
   "metadata": {},
   "outputs": [
    {
     "name": "stdout",
     "output_type": "stream",
     "text": [
      "[ 5  8 11 14 17 20 23]\n"
     ]
    }
   ],
   "source": [
    "# YOUR CODE HERE\n",
    "array = np.arange(5, 25, 3)\n",
    "print(array)"
   ]
  },
  {
   "attachments": {},
   "cell_type": "markdown",
   "metadata": {},
   "source": [
    "7. Create an array of size 30 with evenly spaced values between -1 and 1."
   ]
  },
  {
   "cell_type": "code",
   "execution_count": 24,
   "metadata": {},
   "outputs": [
    {
     "name": "stdout",
     "output_type": "stream",
     "text": [
      "[-1.         -0.93103448 -0.86206897 -0.79310345 -0.72413793 -0.65517241\n",
      " -0.5862069  -0.51724138 -0.44827586 -0.37931034 -0.31034483 -0.24137931\n",
      " -0.17241379 -0.10344828 -0.03448276  0.03448276  0.10344828  0.17241379\n",
      "  0.24137931  0.31034483  0.37931034  0.44827586  0.51724138  0.5862069\n",
      "  0.65517241  0.72413793  0.79310345  0.86206897  0.93103448  1.        ]\n"
     ]
    }
   ],
   "source": [
    "# YOUR CODE HERE\n",
    "array = np.linspace(-1, 1, num = 30)\n",
    "print(array)"
   ]
  },
  {
   "attachments": {},
   "cell_type": "markdown",
   "metadata": {},
   "source": [
    "8. Construct a 5x6 matrix with integers from 0 to 30."
   ]
  },
  {
   "cell_type": "code",
   "execution_count": 28,
   "metadata": {},
   "outputs": [
    {
     "name": "stdout",
     "output_type": "stream",
     "text": [
      "[[ 0  1  2  3  4  5]\n",
      " [ 6  7  8  9 10 11]\n",
      " [12 13 14 15 16 17]\n",
      " [18 19 20 21 22 23]\n",
      " [24 25 26 27 28 29]]\n"
     ]
    }
   ],
   "source": [
    "# YOUR CODE HERE\n",
    "array = np.arange(0, 30).reshape(5, 6)\n",
    "print(array)"
   ]
  },
  {
   "attachments": {},
   "cell_type": "markdown",
   "metadata": {},
   "source": [
    "9. Create an array of 30 random integers and sort it in ascending order."
   ]
  },
  {
   "cell_type": "code",
   "execution_count": 40,
   "metadata": {},
   "outputs": [
    {
     "name": "stdout",
     "output_type": "stream",
     "text": [
      "[ 2  8 17 18 19 23 23 24 31 32 34 35 37 40 47 53 53 60 65 71 74 79 79 81\n",
      " 83 88 92 98 98 98]\n"
     ]
    }
   ],
   "source": [
    "# YOUR CODE HERE\n",
    "from numpy import random\n",
    "\n",
    "array = np.random.randint(100, size = (30))\n",
    "array = np.sort(array)\n",
    "print(array)"
   ]
  },
  {
   "attachments": {},
   "cell_type": "markdown",
   "metadata": {},
   "source": [
    "10. Construct a 5x10 matrix filled with the value 1 at each location. Print the following details about this matrix:\n",
    "- number of elements\n",
    "- shape of the matrix\n",
    "- the data type (using numpy methods)\n"
   ]
  },
  {
   "cell_type": "code",
   "execution_count": 151,
   "metadata": {},
   "outputs": [
    {
     "name": "stdout",
     "output_type": "stream",
     "text": [
      "[[1. 1. 1. 1. 1. 1. 1. 1. 1. 1.]\n",
      " [1. 1. 1. 1. 1. 1. 1. 1. 1. 1.]\n",
      " [1. 1. 1. 1. 1. 1. 1. 1. 1. 1.]\n",
      " [1. 1. 1. 1. 1. 1. 1. 1. 1. 1.]\n",
      " [1. 1. 1. 1. 1. 1. 1. 1. 1. 1.]]\n",
      "\n",
      " 50\n",
      "\n",
      " (5, 10)\n",
      "\n",
      " float64\n"
     ]
    }
   ],
   "source": [
    "# YOUR CODE HERE\n",
    "array = np.ones((5,10))\n",
    "print(array)\n",
    "print('\\n', array.size)\n",
    "print('\\n', array.shape)\n",
    "print('\\n', array.dtype)"
   ]
  },
  {
   "attachments": {},
   "cell_type": "markdown",
   "metadata": {},
   "source": [
    "11. Construct a 3x4x7 matrix with random integer values between 0 and 10 (a 3D matrix will be created).\n"
   ]
  },
  {
   "cell_type": "code",
   "execution_count": 46,
   "metadata": {},
   "outputs": [
    {
     "name": "stdout",
     "output_type": "stream",
     "text": [
      "[[[3 0 3 0 4 3 7]\n",
      "  [7 6 2 0 0 2 5]\n",
      "  [6 5 5 5 2 5 7]\n",
      "  [1 4 0 0 4 2 3]]\n",
      "\n",
      " [[2 0 0 4 5 2 8]\n",
      "  [4 7 0 4 2 0 3]\n",
      "  [4 6 0 2 1 8 9]\n",
      "  [5 9 2 7 7 1 5]]\n",
      "\n",
      " [[6 1 9 1 9 0 7]\n",
      "  [0 8 5 6 9 6 9]\n",
      "  [2 1 8 7 9 6 8]\n",
      "  [3 3 0 7 2 6 1]]]\n"
     ]
    }
   ],
   "source": [
    "# YOUR CODE HERE\n",
    "array = np.random.randint(10, size = (3, 4, 7))\n",
    "print(array)"
   ]
  },
  {
   "attachments": {},
   "cell_type": "markdown",
   "metadata": {},
   "source": [
    "12. Create an array of 20 random integers and reshape it into a 4x5 matrix."
   ]
  },
  {
   "cell_type": "code",
   "execution_count": 47,
   "metadata": {},
   "outputs": [
    {
     "name": "stdout",
     "output_type": "stream",
     "text": [
      "[[65 31 86 62 85]\n",
      " [50 24 57 62 61]\n",
      " [21 57 57 85 48]\n",
      " [51 41 69 14 53]]\n"
     ]
    }
   ],
   "source": [
    "# YOUR CODE HERE\n",
    "array = np.random.randint(100, size = 20).reshape((4, 5))\n",
    "print(array)"
   ]
  },
  {
   "attachments": {},
   "cell_type": "markdown",
   "metadata": {},
   "source": [
    "13. Construct a one-dimensional array by concetanating 4 separate one-dimensional arrays."
   ]
  },
  {
   "cell_type": "code",
   "execution_count": 49,
   "metadata": {},
   "outputs": [
    {
     "name": "stdout",
     "output_type": "stream",
     "text": [
      "[1 2 3 4 5 6 7 8]\n"
     ]
    }
   ],
   "source": [
    "# YOUR CODE HERE\n",
    "a = np.array([1, 2])\n",
    "b = np.array([3, 4])\n",
    "c = np.array([5, 6])\n",
    "d = np.array([7, 8])\n",
    "array = np.concatenate((a, b, c, d))\n",
    "print(array)"
   ]
  },
  {
   "attachments": {},
   "cell_type": "markdown",
   "metadata": {},
   "source": [
    "14. Create a vector of length 3 (3x1) and a matrix of size 3x3. Combine these two arrays on a\n",
    "    column-by-column basis using numpy methods.\n"
   ]
  },
  {
   "cell_type": "code",
   "execution_count": 54,
   "metadata": {},
   "outputs": [
    {
     "name": "stdout",
     "output_type": "stream",
     "text": [
      "[[ 3  4  5]\n",
      " [ 7  8  9]\n",
      " [11 12 13]]\n"
     ]
    }
   ],
   "source": [
    "# YOUR CODE HERE\n",
    "vector = np.array([0, 1, 2])\n",
    "matrix = np.array([[3, 4, 5], [6, 7, 8], [9, 10, 11]])\n",
    "# vector = vector.reshape(1, 3)\n",
    "vector = vector.reshape(3, 1)\n",
    "print(vector + matrix)"
   ]
  },
  {
   "attachments": {},
   "cell_type": "markdown",
   "metadata": {},
   "source": [
    "15. What is the difference between \"axis=1\" and \"axis=0\" in Numpy functions? "
   ]
  },
  {
   "attachments": {},
   "cell_type": "markdown",
   "metadata": {},
   "source": [
    "YOUR CODE HERE\n",
    "axis = 1 refers to columns, axis = 0 refers to rows."
   ]
  },
  {
   "attachments": {},
   "cell_type": "markdown",
   "metadata": {},
   "source": [
    "16. Create a random 1D vector with 20 elements. Find the 3rd, 5th and 7th elements of this vector.\n"
   ]
  },
  {
   "cell_type": "code",
   "execution_count": 150,
   "metadata": {},
   "outputs": [
    {
     "name": "stdout",
     "output_type": "stream",
     "text": [
      "[94 10 23 67 78 59 63 31 32 89 96 86 15 95 10 19 52 89 40 53]\n",
      "\n",
      " 67\n",
      "\n",
      " 59\n",
      "\n",
      " 31\n"
     ]
    }
   ],
   "source": [
    "# YOUR CODE HERE\n",
    "array = np.random.randint(100, size = (20))\n",
    "print(array)\n",
    "print('\\n', array[3])\n",
    "print('\\n', array[5])\n",
    "print('\\n', array[7])"
   ]
  },
  {
   "attachments": {},
   "cell_type": "markdown",
   "metadata": {},
   "source": [
    "17. Create a random vector with 10 elements and replace the 4th element of this array with a different number."
   ]
  },
  {
   "cell_type": "code",
   "execution_count": 149,
   "metadata": {},
   "outputs": [
    {
     "name": "stdout",
     "output_type": "stream",
     "text": [
      "[11  8 10 45 24 89 61 99 47 59]\n",
      "\n",
      " [11  8 10 45 24 89 61 99 47 59]\n"
     ]
    }
   ],
   "source": [
    "# YOUR CODE HERE\n",
    "array = np.random.randint(100, size= (10))\n",
    "print(array)\n",
    "array[3] = 45\n",
    "print('\\n', array)"
   ]
  },
  {
   "attachments": {},
   "cell_type": "markdown",
   "metadata": {},
   "source": [
    "18. Look up the concepts of *diagonal matrix* and *trace matrix* online and write a small explanation about what they are.\n"
   ]
  },
  {
   "attachments": {},
   "cell_type": "markdown",
   "metadata": {},
   "source": [
    "YOUR ANSWER HERE\n",
    "A diagonal matrix is a matrix (usually a square matrix of order n) filled with values on the main diagonal and zeros everywhere else. And trace of matrix is the sum of main diagonal elements of the matrix. "
   ]
  },
  {
   "attachments": {},
   "cell_type": "markdown",
   "metadata": {},
   "source": [
    "19. Create a 5x5 diagonal matrix with elements of your choosing. What are the indexes of the diagonal?\n"
   ]
  },
  {
   "cell_type": "code",
   "execution_count": 134,
   "metadata": {},
   "outputs": [
    {
     "name": "stdout",
     "output_type": "stream",
     "text": [
      "[[1 0 0 0 0]\n",
      " [0 2 0 0 0]\n",
      " [0 0 3 0 0]\n",
      " [0 0 0 4 0]\n",
      " [0 0 0 0 5]]\n"
     ]
    }
   ],
   "source": [
    "# YOUR CODE HERE\n",
    "a = [1, 2, 3, 4, 5]\n",
    "array = np.diag(a)\n",
    "print(array)"
   ]
  },
  {
   "attachments": {},
   "cell_type": "markdown",
   "metadata": {},
   "source": [
    "20. Create a vector that ranges from 10 to 20. Print the values from the 3rd index to the last index.\n"
   ]
  },
  {
   "cell_type": "code",
   "execution_count": 79,
   "metadata": {},
   "outputs": [
    {
     "name": "stdout",
     "output_type": "stream",
     "text": [
      "[10 11 12 13 14 15 16 17 18 19]\n",
      "[13 14 15 16 17 18 19]\n"
     ]
    }
   ],
   "source": [
    "# YOUR CODE HERE\n",
    "array = np.arange(10,20)\n",
    "print(array)\n",
    "print('\\n', array[3:])"
   ]
  },
  {
   "attachments": {},
   "cell_type": "markdown",
   "metadata": {},
   "source": [
    "21. Construct a 10x10 matrix with random elements and perform the following indexing tasks on it. Each task should be a single indexing operation.\n",
    " - Retrieve column 5 of row 3. Moreover;\n",
    " - Retrieve all elements of column 5.\n",
    " - Retrieve the 2nd row of all columns.\n",
    " - Retrieve row 2 through 7 of all columns.\n",
    " - Retrieve values with row index 2 to 5 and column index 3 to 7.\n",
    " - Retrieve the values from row index 5 to the end and column index from the top to 4.\n",
    " - Replace the value corresponding to the 5th row and the 5th column with your year of birth."
   ]
  },
  {
   "cell_type": "code",
   "execution_count": 89,
   "metadata": {},
   "outputs": [
    {
     "name": "stdout",
     "output_type": "stream",
     "text": [
      "[[22 12 50 13 88 59 59 94 93 80]\n",
      " [87 61 28 74 38 69 22  8 94 27]\n",
      " [24 70 65 46 10 42 71 64  7 81]\n",
      " [32 12 96 40  9 64 12 88 85 10]\n",
      " [32 26 48 55 36 16  3 27 97 12]\n",
      " [14 72 23  4 43 96  6 66  5 76]\n",
      " [51 12 49  6 85 21 34 94 38 74]\n",
      " [98 46 95 45 69 60 77 50 20 90]\n",
      " [ 6 22 51 59 28 70 33 27 45  4]\n",
      " [91 15 36  1 19 76  7 10 51  9]]\n",
      "[[  22   12   50   13   88   59   59   94   93   80]\n",
      " [  87   61   28   74   38   69   22    8   94   27]\n",
      " [  24   70   65   46   10   42   71   64    7   81]\n",
      " [  32   12   96   40    9   64   12   88   85   10]\n",
      " [  32   26   48   55   36   16    3   27   97   12]\n",
      " [  14   72   23    4   43 1997    6   66    5   76]\n",
      " [  51   12   49    6   85   21   34   94   38   74]\n",
      " [  98   46   95   45   69   60   77   50   20   90]\n",
      " [   6   22   51   59   28   70   33   27   45    4]\n",
      " [  91   15   36    1   19   76    7   10   51    9]]\n"
     ]
    }
   ],
   "source": [
    "# YOUR CODE HERE\n",
    "array = np.random.randint(100, size = (10,10))\n",
    "print(array)\n",
    "print('\\n', array[2, 4])\n",
    "print('\\n', array[:, 4])\n",
    "print('\\n', array[1, :])\n",
    "print('\\n', array[2:7, :])\n",
    "print('\\n', array[5:, :4])\n",
    "array[5,5] = 1997\n",
    "print('\\n', array)"
   ]
  },
  {
   "attachments": {},
   "cell_type": "markdown",
   "metadata": {},
   "source": [
    "22. Construct a one-dimensional array from 0 to 50 jumping with steps of 5 (`[5, 10, ...]`). Use the numpy methods to perform the following tasks;\n",
    "- Print all values greater than 20.\n",
    "- Print all values less than 30.\n",
    "- How many values are 33 in it?\n",
    "- Multiply all the elements of the created array by 5."
   ]
  },
  {
   "cell_type": "code",
   "execution_count": 148,
   "metadata": {},
   "outputs": [
    {
     "name": "stdout",
     "output_type": "stream",
     "text": [
      "[ 0  5 10 15 20 25 30 35 40 45]\n",
      "\n",
      " [25 30 35 40 45]\n",
      "\n",
      " [ 0  5 10 15 20 25]\n",
      "\n",
      " 6.818181818181818\n",
      "\n",
      " [  0  25  50  75 100 125 150 175 200 225]\n"
     ]
    }
   ],
   "source": [
    "# YOUR CODE HERE\n",
    "array = np.arange(0,50,5)\n",
    "print(array)\n",
    "print('\\n', array[array > 20])\n",
    "print('\\n', array[array < 30])\n",
    "print('\\n', np.sum(array)/ 33)\n",
    "print('\\n', array * 5)"
   ]
  },
  {
   "attachments": {},
   "cell_type": "markdown",
   "metadata": {},
   "source": [
    "23. Construct an array of 50 random floats between 0 and 1 and take the average. Moreover;\n",
    "- Get the standard deviation.\n",
    "- Get the variance.\n",
    "- Take the median.\n",
    "- Find the smallest value.\n",
    "- Find the largest value."
   ]
  },
  {
   "cell_type": "code",
   "execution_count": 147,
   "metadata": {},
   "outputs": [
    {
     "name": "stdout",
     "output_type": "stream",
     "text": [
      "[0.33462505 0.20104344 0.48038712 0.83029469 0.07350609 0.22028168\n",
      " 0.74104664 0.84520319 0.51677482 0.04985868 0.42144156 0.31549508\n",
      " 0.47646066 0.65298075 0.09364718 0.77989305 0.88604936 0.67374626\n",
      " 0.53790014 0.06675827 0.88188375 0.41715154 0.94775997 0.17261188\n",
      " 0.49606658 0.43147047 0.49566428 0.10343358 0.57272353 0.83569695\n",
      " 0.81329468 0.42946563 0.92934421 0.78246972 0.72879854 0.7744183\n",
      " 0.39658158 0.83009891 0.61144175 0.90700001 0.33408381 0.63203765\n",
      " 0.11782295 0.84475983 0.35710309 0.95483468 0.78181332 0.14594085\n",
      " 0.8661954  0.23400992]\n",
      "\n",
      " 0.28072818578364567\n",
      "\n",
      " 0.07880831429337708\n",
      "\n",
      " 0.5404674218254859\n",
      "\n",
      " 0.0498586793673057\n",
      "\n",
      " 0.9548346831045906\n"
     ]
    }
   ],
   "source": [
    "# YOUR CODE HERE\n",
    "array = np.random.rand(50)\n",
    "print(array)\n",
    "print('\\n', array.std())\n",
    "print('\\n', array.var())\n",
    "print('\\n', array.mean())\n",
    "print('\\n', array.min())\n",
    "print('\\n', array.max())\n"
   ]
  },
  {
   "attachments": {},
   "cell_type": "markdown",
   "metadata": {},
   "source": [
    "24. What are the differences between Pandas Series and NumPy arrays?"
   ]
  },
  {
   "attachments": {},
   "cell_type": "markdown",
   "metadata": {},
   "source": [
    "YOUR ANSWER HERE \n",
    "-When we have to work on Tabular data, we prefer the pandas module. When we have to work on Numerical data, we prefer the numpy module.\n",
    "-The powerful tools of pandas are Data frame and Series. Whereas the powerful tool of numpy is Arrays.\n",
    "-Pandas consume more memory. Numpy is memory efficient.\n",
    "-Pandas has a better performance when a number of rows is 500K or more. Numpy has a better performance when number of rows is 50K or less.\n",
    "-Indexing of the pandas series is very slow as compared to numpy arrays. Indexing of numpy Arrays is very fast.\n",
    "-Pandas offer a have2d table object called DataFrame. Numpy is capable of providing multi-dimensional arrays.\n",
    "-It was developed by Wes McKinney and was released in 2008. It was developed by Travis Oliphant and was released in 2005.\n",
    "-It has a higher industry application. It has a lower industry application.\n",
    "(You can find the information on the geeksforgeeks website)"
   ]
  },
  {
   "attachments": {},
   "cell_type": "markdown",
   "metadata": {},
   "source": [
    "25. Create a 5-element series with different data types, with an index of capital letters."
   ]
  },
  {
   "cell_type": "code",
   "execution_count": 110,
   "metadata": {},
   "outputs": [
    {
     "name": "stdout",
     "output_type": "stream",
     "text": [
      "A        1\n",
      "B    Hello\n",
      "C      3.5\n",
      "D     True\n",
      "E        9\n",
      "dtype: object\n"
     ]
    }
   ],
   "source": [
    "# YOUR CODE HERE\n",
    "a = [1, 'Hello', 3.5, True, 9]\n",
    "s = pd.Series(a, index = [\"A\", \"B\", \"C\", \"D\", \"E\"])\n",
    "print(s)"
   ]
  },
  {
   "attachments": {},
   "cell_type": "markdown",
   "metadata": {},
   "source": [
    "26. Create a 5-element dictionary with keys as country names and values as capitals and turn it into a series. An example: ` \"france\" : \"paris\"`)."
   ]
  },
  {
   "cell_type": "code",
   "execution_count": 113,
   "metadata": {},
   "outputs": [
    {
     "name": "stdout",
     "output_type": "stream",
     "text": [
      "Turkey            Ankara\n",
      "UK                London\n",
      "Belgium         Brussels\n",
      "Netherlands    Amsterdam\n",
      "Egypt              Cairo\n",
      "dtype: object\n"
     ]
    }
   ],
   "source": [
    "# YOUR CODE HERE\n",
    "a = {'Turkey':'Ankara', 'UK':'London', 'Belgium':'Brussels','Netherlands':'Amsterdam','Egypt':'Cairo'}\n",
    "s = pd.Series(a)\n",
    "print(s)"
   ]
  },
  {
   "attachments": {},
   "cell_type": "markdown",
   "metadata": {},
   "source": [
    "27. Create a random vector with 10 elements.\n",
    "- Convert the vector to series and with strings as indeces. For example, a,b,c,d,e,f,g..\n",
    "- Retrieve the 3rd element of the series using the index name (for example: c).\n",
    "- Retrieve the 1st element of the series using the index number.\n",
    "- Access the 2nd and 7th elements of the series at the same time, using the index name. (Example: values corresponding to index b and g)"
   ]
  },
  {
   "cell_type": "code",
   "execution_count": 146,
   "metadata": {},
   "outputs": [
    {
     "name": "stdout",
     "output_type": "stream",
     "text": [
      "a    13\n",
      "b     4\n",
      "c    10\n",
      "d     7\n",
      "e    17\n",
      "f     6\n",
      "k    17\n",
      "l    13\n",
      "m    16\n",
      "n     3\n",
      "dtype: int64\n",
      "\n",
      " 16\n",
      "\n",
      " 13\n",
      "\n",
      " 4 17\n"
     ]
    }
   ],
   "source": [
    "# YOUR CODE HERE\n",
    "array = np.random.randint(20, size=10)\n",
    "a = pd.Series(array, index= ['a', 'b', 'c', 'd', 'e', 'f', 'k', 'l', 'm', 'n'])\n",
    "print(a)\n",
    "print('\\n', a['m'])\n",
    "print('\\n', a[0])\n",
    "print('\\n', a['b'],a['k'])\n"
   ]
  },
  {
   "attachments": {},
   "cell_type": "markdown",
   "metadata": {},
   "source": [
    "28. Create two 5-element series with elements of your choice with default index.\n",
    "- Combine the series you have created.\n",
    "- Arrange the index of the resulting concatenated 10-element series from 1 to 10."
   ]
  },
  {
   "cell_type": "code",
   "execution_count": 145,
   "metadata": {},
   "outputs": [
    {
     "name": "stdout",
     "output_type": "stream",
     "text": [
      "0          appel\n",
      "1        aardbei\n",
      "2         wortel\n",
      "3    sinaasappel\n",
      "4      aardappel\n",
      "0              a\n",
      "1              b\n",
      "2              c\n",
      "3              d\n",
      "4              e\n",
      "dtype: object\n",
      "\n",
      " 0          appel\n",
      "1        aardbei\n",
      "2         wortel\n",
      "3    sinaasappel\n",
      "4      aardappel\n",
      "5              a\n",
      "6              b\n",
      "7              c\n",
      "8              d\n",
      "9              e\n",
      "dtype: object\n"
     ]
    }
   ],
   "source": [
    "# YOUR CODE HERE\n",
    "ser1= ['appel', 'aardbei', 'wortel', 'sinaasappel', 'aardappel']\n",
    "ser2 = ['a', 'b', 'c', 'd', 'e']\n",
    "ser1 = pd.Series(ser1)\n",
    "ser2 = pd.Series(ser2)\n",
    "both1 = pd.concat([ser1, ser2])\n",
    "both2 = pd.concat([ser1, ser2], ignore_index= True)\n",
    "print(both1)\n",
    "\n",
    "print('\\n', both2)"
   ]
  },
  {
   "attachments": {},
   "cell_type": "markdown",
   "metadata": {},
   "source": [
    "**Bonus homework**:\n",
    "\n",
    "\n",
    "Generate two 20x20 matrices with values between 0 and 1 randomly in a loop and take the difference of these\n",
    "matrices. Repeat this process until all elements on the diagonal of the difference matrix\n",
    "is between -0.1 and 0.1. When the desired matrix is found, let the program stop\n",
    "and print the total number of cycles, how long it took, and the desired matrix\n",
    "with print.\n",
    "\n",
    "\n",
    "Tip: Finding the 20 x 20 matrix can take hours. Therefore, to test the accuracy\n",
    "of your algorithm, you can first try it on small matrices such as 4x4, 5x5. And\n",
    "you can try the latest 20x20 by increasing the number of matrix. (You can do\n",
    "the matrix generation with the np.random.random((a,b)) function. It generates\n",
    "an array of desired sizes between 0-1.)\n"
   ]
  },
  {
   "cell_type": "code",
   "execution_count": 168,
   "metadata": {},
   "outputs": [
    {
     "name": "stdout",
     "output_type": "stream",
     "text": [
      "Time it took:  0.012932300567626953\n",
      "The matrix is: [ 0.05688423 -0.06957167  0.061774   -0.02813587  0.04745108]\n"
     ]
    }
   ],
   "source": [
    "# YOUR CODE HERE\n",
    "import time\n",
    "starting_point = time.time()\n",
    "while True:\n",
    "    difference = np.random.rand(5, 5) - np.random.rand(5, 5)\n",
    "    # print(difference)\n",
    "    diagonal = np.diag(difference)\n",
    "    if (diagonal < 0.1).all() and (diagonal > -0.1).all():\n",
    "        end_point = time.time()\n",
    "        print(\"Time it took: \", end_point - starting_point)\n",
    "        print(\"The matrix is:\", diagonal)\n",
    "        break\n"
   ]
  }
 ],
 "metadata": {
  "kernelspec": {
   "display_name": "Python 3",
   "language": "python",
   "name": "python3"
  },
  "language_info": {
   "codemirror_mode": {
    "name": "ipython",
    "version": 3
   },
   "file_extension": ".py",
   "mimetype": "text/x-python",
   "name": "python",
   "nbconvert_exporter": "python",
   "pygments_lexer": "ipython3",
   "version": "3.9.6"
  },
  "orig_nbformat": 4,
  "vscode": {
   "interpreter": {
    "hash": "31f2aee4e71d21fbe5cf8b01ff0e069b9275f58929596ceb00d14d90e3e16cd6"
   }
  }
 },
 "nbformat": 4,
 "nbformat_minor": 2
}
