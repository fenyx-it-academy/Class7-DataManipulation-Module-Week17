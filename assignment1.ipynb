{
 "cells": [
  {
   "attachments": {},
   "cell_type": "markdown",
   "metadata": {},
   "source": [
    "## Data Manipulation module\n",
    "### Homework assignment 1\n",
    "\n",
    "Welcome to the first homework assignment of the data manipulation module. In this assignment you will be working with NumPy and Pandas Series. The goal of this assignment is to get you familiar with these libraries and data types.\n",
    "\n",
    "### Instructions\n",
    "Read the exercises carefully and implement the requested functionality. Add your code in the cells provided with `YOUR CODE HERE` or `YOUR ANSWER HERE`. You can add cells if you need to. **Make sure to use NumPy methods** to find your answers. In some cases you might be able to read the answer, but we want to see you using the NumPy methods.\n",
    "\n",
    "### Hand-in\n",
    "To hand in your assignment, fork this notebook and commit your changes, then make a pull request to the original repository. The deadline for handing in the assignment is **Wednesday 18-01 23:59**."
   ]
  },
  {
   "cell_type": "code",
   "execution_count": 263,
   "metadata": {},
   "outputs": [],
   "source": [
    "# imports, no need to edit\n",
    "\n",
    "import numpy as np\n",
    "import pandas as pd\n",
    "\n",
    "np.random.seed(42)"
   ]
  },
  {
   "attachments": {},
   "cell_type": "markdown",
   "metadata": {},
   "source": [
    "1. Explain the difference between a vector and matrix in NumPy in one sentence."
   ]
  },
  {
   "attachments": {},
   "cell_type": "markdown",
   "metadata": {},
   "source": [
    "YOUR ANSWER HERE"
   ]
  },
  {
   "attachments": {},
   "cell_type": "markdown",
   "metadata": {},
   "source": [
    "2. Construct a NumPy Array from a list of 10 elements."
   ]
  },
  {
   "cell_type": "code",
   "execution_count": 3,
   "metadata": {},
   "outputs": [],
   "source": [
    "# YOUR CODE HERE\n",
    "\n",
    "a = np.array([1,2,3,4,5,6,7,8,9,0])"
   ]
  },
  {
   "attachments": {},
   "cell_type": "markdown",
   "metadata": {},
   "source": [
    "3. Construct a 10x10 matrix filled with '0's of the integer data type."
   ]
  },
  {
   "cell_type": "code",
   "execution_count": 6,
   "metadata": {},
   "outputs": [
    {
     "name": "stdout",
     "output_type": "stream",
     "text": [
      "[[0 0 0 0 0 0 0 0 0 0]\n",
      " [0 0 0 0 0 0 0 0 0 0]\n",
      " [0 0 0 0 0 0 0 0 0 0]\n",
      " [0 0 0 0 0 0 0 0 0 0]\n",
      " [0 0 0 0 0 0 0 0 0 0]\n",
      " [0 0 0 0 0 0 0 0 0 0]\n",
      " [0 0 0 0 0 0 0 0 0 0]\n",
      " [0 0 0 0 0 0 0 0 0 0]\n",
      " [0 0 0 0 0 0 0 0 0 0]\n",
      " [0 0 0 0 0 0 0 0 0 0]]\n"
     ]
    }
   ],
   "source": [
    "# YOUR CODE HERE\n",
    "\n",
    "a = np.zeros((10,10), dtype=int)\n",
    "\n",
    "print(a)"
   ]
  },
  {
   "attachments": {},
   "cell_type": "markdown",
   "metadata": {},
   "source": [
    "4. Construct a 10x10 matrix filled with '1's, data type float."
   ]
  },
  {
   "cell_type": "code",
   "execution_count": 10,
   "metadata": {},
   "outputs": [
    {
     "name": "stdout",
     "output_type": "stream",
     "text": [
      "[[1. 1. 1. 1. 1. 1. 1. 1. 1. 1.]\n",
      " [1. 1. 1. 1. 1. 1. 1. 1. 1. 1.]\n",
      " [1. 1. 1. 1. 1. 1. 1. 1. 1. 1.]\n",
      " [1. 1. 1. 1. 1. 1. 1. 1. 1. 1.]\n",
      " [1. 1. 1. 1. 1. 1. 1. 1. 1. 1.]\n",
      " [1. 1. 1. 1. 1. 1. 1. 1. 1. 1.]\n",
      " [1. 1. 1. 1. 1. 1. 1. 1. 1. 1.]\n",
      " [1. 1. 1. 1. 1. 1. 1. 1. 1. 1.]\n",
      " [1. 1. 1. 1. 1. 1. 1. 1. 1. 1.]\n",
      " [1. 1. 1. 1. 1. 1. 1. 1. 1. 1.]]\n"
     ]
    }
   ],
   "source": [
    "# YOUR CODE HERE\n",
    "\n",
    "a = np.ones((10,10), dtype=float)\n",
    "\n",
    "print(a)"
   ]
  },
  {
   "attachments": {},
   "cell_type": "markdown",
   "metadata": {},
   "source": [
    "5. Construct a 10x10 matrix filled with '9's of the integer data type."
   ]
  },
  {
   "cell_type": "code",
   "execution_count": 21,
   "metadata": {},
   "outputs": [
    {
     "name": "stdout",
     "output_type": "stream",
     "text": [
      "[[9 9 9 9 9 9 9 9 9 9]\n",
      " [9 9 9 9 9 9 9 9 9 9]\n",
      " [9 9 9 9 9 9 9 9 9 9]\n",
      " [9 9 9 9 9 9 9 9 9 9]\n",
      " [9 9 9 9 9 9 9 9 9 9]\n",
      " [9 9 9 9 9 9 9 9 9 9]\n",
      " [9 9 9 9 9 9 9 9 9 9]\n",
      " [9 9 9 9 9 9 9 9 9 9]\n",
      " [9 9 9 9 9 9 9 9 9 9]\n",
      " [9 9 9 9 9 9 9 9 9 9]]\n"
     ]
    }
   ],
   "source": [
    "# YOUR CODE HERE\n",
    "\n",
    "a = np.full((10,10), 9, dtype=int)\n",
    "\n",
    "print(a)"
   ]
  },
  {
   "attachments": {},
   "cell_type": "markdown",
   "metadata": {},
   "source": [
    "6. Construct a one-dimensional array with values between 5 and 25 that jumps with steps of 3 (`[5, 8, ...]`)"
   ]
  },
  {
   "cell_type": "code",
   "execution_count": 22,
   "metadata": {},
   "outputs": [
    {
     "name": "stdout",
     "output_type": "stream",
     "text": [
      "[ 5  8 11 14 17 20 23]\n"
     ]
    }
   ],
   "source": [
    "# YOUR CODE HERE\n",
    "\n",
    "l = (range(5,26,3))\n",
    "\n",
    "a = np.array(l)\n",
    "\n",
    "print(a)"
   ]
  },
  {
   "attachments": {},
   "cell_type": "markdown",
   "metadata": {},
   "source": [
    "7. Create an array of size 30 with evenly spaced values between -1 and 1."
   ]
  },
  {
   "cell_type": "code",
   "execution_count": 23,
   "metadata": {},
   "outputs": [
    {
     "name": "stdout",
     "output_type": "stream",
     "text": [
      "[-1.         -0.93103448 -0.86206897 -0.79310345 -0.72413793 -0.65517241\n",
      " -0.5862069  -0.51724138 -0.44827586 -0.37931034 -0.31034483 -0.24137931\n",
      " -0.17241379 -0.10344828 -0.03448276  0.03448276  0.10344828  0.17241379\n",
      "  0.24137931  0.31034483  0.37931034  0.44827586  0.51724138  0.5862069\n",
      "  0.65517241  0.72413793  0.79310345  0.86206897  0.93103448  1.        ]\n"
     ]
    }
   ],
   "source": [
    "# YOUR CODE HERE\n",
    "\n",
    "a = np.linspace(-1,1,30)\n",
    "\n",
    "print(a)\n",
    "\n"
   ]
  },
  {
   "attachments": {},
   "cell_type": "markdown",
   "metadata": {},
   "source": [
    "8. Construct a 5x6 matrix with integers from 0 to 30."
   ]
  },
  {
   "cell_type": "code",
   "execution_count": 38,
   "metadata": {},
   "outputs": [
    {
     "name": "stdout",
     "output_type": "stream",
     "text": [
      "[[ 0  1  2  3  4  5]\n",
      " [ 6  7  8  9 10 11]\n",
      " [12 13 14 15 16 17]\n",
      " [18 19 20 21 22 23]\n",
      " [24 25 26 27 28 29]]\n"
     ]
    }
   ],
   "source": [
    "# YOUR CODE HERE\n",
    "\n",
    "m = np.arange(0,30).reshape(5,6)\n",
    "\n",
    "print(m)\n"
   ]
  },
  {
   "attachments": {},
   "cell_type": "markdown",
   "metadata": {},
   "source": [
    "9. Create an array of 30 random integers and sort it in ascending order."
   ]
  },
  {
   "cell_type": "code",
   "execution_count": 52,
   "metadata": {},
   "outputs": [
    {
     "name": "stdout",
     "output_type": "stream",
     "text": [
      "[10 91 56 88 49 22 30 93 41 98  6 15 89 59  1  0 47 11 68 36 31  8 98 18\n",
      " 47 79  2 19 23 53] \n",
      "\n",
      "[ 0  1  2  6  8 10 11 15 18 19 22 23 30 31 36 41 47 47 49 53 56 59 68 79\n",
      " 88 89 91 93 98 98]\n"
     ]
    }
   ],
   "source": [
    "# YOUR CODE HERE\n",
    "\n",
    "a = np.random.randint(0,100,30)\n",
    "print(a,'\\n')\n",
    "print(np.sort(a))"
   ]
  },
  {
   "attachments": {},
   "cell_type": "markdown",
   "metadata": {},
   "source": [
    "10. Construct a 5x10 matrix filled with the value 1 at each location. Print the following details about this matrix:\n",
    "- number of elements\n",
    "- shape of the matrix\n",
    "- the data type (using numpy methods)\n"
   ]
  },
  {
   "cell_type": "code",
   "execution_count": 58,
   "metadata": {},
   "outputs": [
    {
     "name": "stdout",
     "output_type": "stream",
     "text": [
      "[[1. 1. 1. 1. 1. 1. 1. 1. 1. 1.]\n",
      " [1. 1. 1. 1. 1. 1. 1. 1. 1. 1.]\n",
      " [1. 1. 1. 1. 1. 1. 1. 1. 1. 1.]\n",
      " [1. 1. 1. 1. 1. 1. 1. 1. 1. 1.]\n",
      " [1. 1. 1. 1. 1. 1. 1. 1. 1. 1.]] \n",
      "\n",
      "Number of elements : 50 \n",
      "\n",
      "Shape of the matrix: (5, 10) \n",
      "\n",
      "The Data type is   : float64 \n",
      "\n"
     ]
    }
   ],
   "source": [
    "# YOUR CODE HERE\n",
    "\n",
    "m = np.ones((5,10))\n",
    "\n",
    "print(m, '\\n')\n",
    "print('Number of elements :',m.size, '\\n')\n",
    "print('Shape of the matrix:',m.shape, '\\n')\n",
    "print('The Data type is   :',m.dtype, '\\n')"
   ]
  },
  {
   "attachments": {},
   "cell_type": "markdown",
   "metadata": {},
   "source": [
    "11. Construct a 3x4x7 matrix with random integer values between 0 and 10 (a 3D matrix will be created).\n"
   ]
  },
  {
   "cell_type": "code",
   "execution_count": 66,
   "metadata": {},
   "outputs": [
    {
     "name": "stdout",
     "output_type": "stream",
     "text": [
      "[[[ 2  6 10 10  1  8  9]\n",
      "  [ 9  0  5  6  7  9  8]\n",
      "  [ 1 10  9  1  4  4  5]\n",
      "  [ 2  7  0  5  3  0  6]]\n",
      "\n",
      " [[ 8  3  3  5  2  5  6]\n",
      "  [10  9  9  2  6  2  1]\n",
      "  [ 9  3  7  8  6  0  2]\n",
      "  [ 8  0  8  7  0  5  4]]\n",
      "\n",
      " [[ 5  9  4  5  4 10  4]\n",
      "  [ 3  2  2  3  8  1  8]\n",
      "  [ 0  0  4  5  5  2  6]\n",
      "  [ 8 10  9  7  5  7  4]]]\n"
     ]
    }
   ],
   "source": [
    "# YOUR CODE HERE\n",
    "\n",
    "m = np.random.randint(11, size=(3, 4,7))\n",
    "\n",
    "print(m)"
   ]
  },
  {
   "attachments": {},
   "cell_type": "markdown",
   "metadata": {},
   "source": [
    "12. Create an array of 20 random integers and reshape it into a 4x5 matrix."
   ]
  },
  {
   "cell_type": "code",
   "execution_count": 79,
   "metadata": {},
   "outputs": [
    {
     "name": "stdout",
     "output_type": "stream",
     "text": [
      "[ 4  3  9 16  9 16 19  4  1  5  1 12 10 10 15 10 18 14 15 10] \n",
      "\n",
      "[[ 4  3  9 16  9]\n",
      " [16 19  4  1  5]\n",
      " [ 1 12 10 10 15]\n",
      " [10 18 14 15 10]]\n"
     ]
    }
   ],
   "source": [
    "# YOUR CODE HERE\n",
    "\n",
    "a = np.random.randint(0,20,20)\n",
    "\n",
    "print(a,'\\n')\n",
    "print(a.reshape(4,5))\n"
   ]
  },
  {
   "attachments": {},
   "cell_type": "markdown",
   "metadata": {},
   "source": [
    "13. Construct a one-dimensional array by concetanating 4 separate one-dimensional arrays."
   ]
  },
  {
   "cell_type": "code",
   "execution_count": 81,
   "metadata": {},
   "outputs": [
    {
     "name": "stdout",
     "output_type": "stream",
     "text": [
      "[ 1  2  3  4  5  6  7  8  9 10 11 12]\n"
     ]
    }
   ],
   "source": [
    "# YOUR CODE HERE\n",
    "\n",
    "a1 = np.array([1, 2, 3])\n",
    "a2 = np.array([4, 5, 6])\n",
    "a3 = np.array([7, 8, 9])\n",
    "a4 = np.array([10, 11, 12])\n",
    "r = np.concatenate((a1, a2, a3, a4))\n",
    "print(r,'\\n')"
   ]
  },
  {
   "attachments": {},
   "cell_type": "markdown",
   "metadata": {},
   "source": [
    "14. Create a vector of length 3 (3x1) and a matrix of size 3x3. Combine these two arrays on a\n",
    "    column-by-column basis using numpy methods.\n"
   ]
  },
  {
   "cell_type": "code",
   "execution_count": 110,
   "metadata": {},
   "outputs": [
    {
     "name": "stdout",
     "output_type": "stream",
     "text": [
      "Vector of length 3 :\n",
      " [[12]\n",
      " [ 7]\n",
      " [13]] \n",
      "\n",
      "Matrix of size 3x3 :\n",
      " [[17 24  0]\n",
      " [14  7 27]\n",
      " [10 11 11]] \n",
      "\n",
      "Combine these two arrays :\n",
      " [[12 17 24  0]\n",
      " [ 7 14  7 27]\n",
      " [13 10 11 11]]\n"
     ]
    }
   ],
   "source": [
    "# YOUR CODE HERE\n",
    "\n",
    "a1 = np.random.randint(0, 16,3).reshape(3,1)\n",
    "\n",
    "a2 = np.random.randint(0, 32,(3, 3))\n",
    "\n",
    "print('Vector of length 3 :\\n',a1,'\\n')\n",
    "print('Matrix of size 3x3 :\\n',a2,'\\n')\n",
    "m = np.column_stack((a1,a2))\n",
    "print('Combine these two arrays :\\n', m)"
   ]
  },
  {
   "attachments": {},
   "cell_type": "markdown",
   "metadata": {},
   "source": [
    "15. What is the difference between \"axis=1\" and \"axis=0\" in Numpy functions? "
   ]
  },
  {
   "attachments": {},
   "cell_type": "markdown",
   "metadata": {},
   "source": [
    "#### \"axis = 0\" means that the operation will be performed along the rows of the array.\n",
    "#### \"axis = 1\" means that the operation will be performed along the columns of the array."
   ]
  },
  {
   "attachments": {},
   "cell_type": "markdown",
   "metadata": {},
   "source": [
    "16. Create a random 1D vector with 20 elements. Find the 3rd, 5th and 7th elements of this vector.\n"
   ]
  },
  {
   "cell_type": "code",
   "execution_count": 122,
   "metadata": {},
   "outputs": [
    {
     "name": "stdout",
     "output_type": "stream",
     "text": [
      "[3 5 7]\n"
     ]
    }
   ],
   "source": [
    "# YOUR CODE HERE\n",
    "\n",
    "a1 = np.arange(0, 19)\n",
    "\n",
    "print(a1[3:8:2])\n",
    "\n"
   ]
  },
  {
   "attachments": {},
   "cell_type": "markdown",
   "metadata": {},
   "source": [
    "17. Create a random vector with 10 elements and replace the 4th element of this array with a different number."
   ]
  },
  {
   "cell_type": "code",
   "execution_count": 142,
   "metadata": {},
   "outputs": [
    {
     "name": "stdout",
     "output_type": "stream",
     "text": [
      "[18 16 10 17 12 17 14 10 16 14] \n",
      "\n",
      "[18 16 10  7 12 17 14 10 16 14] \n",
      "\n",
      "The 4th element of this array was replaced to \"7\"\n"
     ]
    }
   ],
   "source": [
    "# YOUR CODE HERE\n",
    "\n",
    "a = np.random.randint(10,20,10)\n",
    "\n",
    "print(a,'\\n')\n",
    "a[3] = 7\n",
    "print(a,'\\n\\nThe 4th element of this array was replaced to \"7\"')"
   ]
  },
  {
   "attachments": {},
   "cell_type": "markdown",
   "metadata": {},
   "source": [
    "18. Look up the concepts of *diagonal matrix* and *trace matrix* online and write a small explanation about what they are.\n"
   ]
  },
  {
   "attachments": {},
   "cell_type": "markdown",
   "metadata": {},
   "source": [
    "#### - A diagonal matrix is a special kind of square matrix whose entries are zero everywhere except for the main diagonal, which runs from the upper left corner to the lower right corner.\n",
    "\n",
    "#### - A trace of a square matrix is the sum of its diagonal elements. In other words, it is the sum of the elements on the main diagonal of the matrix."
   ]
  },
  {
   "attachments": {},
   "cell_type": "markdown",
   "metadata": {},
   "source": [
    "19. Create a 5x5 diagonal matrix with elements of your choosing. What are the indexes of the diagonal?\n"
   ]
  },
  {
   "cell_type": "code",
   "execution_count": 282,
   "metadata": {},
   "outputs": [
    {
     "name": "stdout",
     "output_type": "stream",
     "text": [
      "[[15  0  0]\n",
      " [ 0 16  0]\n",
      " [ 0  0 32]] \n",
      "\n",
      "The indexes of the diagonal are: \n",
      " 15 16 32 \n",
      "\n",
      "The trace is: 63\n"
     ]
    }
   ],
   "source": [
    "# YOUR CODE HERE\n",
    "\n",
    "g = np.array([[15, 0, 0], [0, 16, 0], [0, 0, 32]])\n",
    "\n",
    "print(g,'\\n')\n",
    "print('The indexes of the diagonal are:','\\n', g[0,0],g[1,1],g[2,2],'\\n')\n",
    "print('The trace is:',np.trace(g))"
   ]
  },
  {
   "attachments": {},
   "cell_type": "markdown",
   "metadata": {},
   "source": [
    "20. Create a vector that ranges from 10 to 20. Print the values from the 3rd index to the last index.\n"
   ]
  },
  {
   "cell_type": "code",
   "execution_count": 161,
   "metadata": {},
   "outputs": [
    {
     "name": "stdout",
     "output_type": "stream",
     "text": [
      "[10 11 12 13 14 15 16 17 18 19 20] \n",
      "\n",
      "The index to 3rd to the last index are: \n",
      " [12 13 14 15 16 17 18 19 20] \n",
      "\n"
     ]
    }
   ],
   "source": [
    "# YOUR CODE HERE\n",
    "\n",
    "a = np.arange(10,21)\n",
    "\n",
    "print(a,'\\n')\n",
    "print('The index to 3rd to the last index are:','\\n', a[2:],'\\n')"
   ]
  },
  {
   "attachments": {},
   "cell_type": "markdown",
   "metadata": {},
   "source": [
    "21. Construct a 10x10 matrix with random elements and perform the following indexing tasks on it. Each task should be a single indexing operation.\n",
    " - Retrieve column 5 of row 3. Moreover;\n",
    " - Retrieve all elements of column 5.\n",
    " - Retrieve the 2nd row of all columns.\n",
    " - Retrieve row 2 through 7 of all columns.\n",
    " - Retrieve values with row index 2 to 5 and column index 3 to 7.\n",
    " - Retrieve the values from row index 5 to the end and column index from the top to 4.\n",
    " - Replace the value corresponding to the 5th row and the 5th column with your year of birth."
   ]
  },
  {
   "cell_type": "code",
   "execution_count": 181,
   "metadata": {},
   "outputs": [
    {
     "name": "stdout",
     "output_type": "stream",
     "text": [
      "[[83 44 70 77 62 72 18 46 13 37]\n",
      " [52 60 35 39 80 29  8 63 32 51]\n",
      " [88 13 74 52 98 58 77 93 40 67]\n",
      " [67 91  7  1 85 40 54 15 92 61]\n",
      " [47 29 11 34 10 63 49 84 20 68]\n",
      " [47 19 66 43 32 72 60  8 67 34]\n",
      " [80 97 87 95 64  7 44 86 46 39]\n",
      " [75 53 75 45 46 14 18 25 51 92]\n",
      " [21 20 50 37 19 28 50  3 54 70]\n",
      " [91 27  3 21 75 44 66 85 65 87]] \n",
      "\n",
      "40 \n",
      "\n",
      "[72 29 58 40 63 72  7 14 28 44] \n",
      "\n",
      "[88 13 74 52 98 58 77 93 40 67] \n",
      "\n",
      "[[88 13 74 52 98 58 77 93 40 67]\n",
      " [67 91  7  1 85 40 54 15 92 61]\n",
      " [47 29 11 34 10 63 49 84 20 68]\n",
      " [47 19 66 43 32 72 60  8 67 34]\n",
      " [80 97 87 95 64  7 44 86 46 39]] \n",
      "\n",
      "[[52 98 58 77]\n",
      " [ 1 85 40 54]\n",
      " [34 10 63 49]] \n",
      "\n",
      "[[47 19 66 43]\n",
      " [80 97 87 95]\n",
      " [75 53 75 45]\n",
      " [21 20 50 37]\n",
      " [91 27  3 21]] \n",
      "\n",
      "[[  83   44   70   77   62   72   18   46   13   37]\n",
      " [  52   60   35   39   80   29    8   63   32   51]\n",
      " [  88   13   74   52   98   58   77   93   40   67]\n",
      " [  67   91    7    1   85   40   54   15   92   61]\n",
      " [  47   29   11   34 1989   63   49   84   20   68]\n",
      " [  47   19   66   43   32   72   60    8   67   34]\n",
      " [  80   97   87   95   64    7   44   86   46   39]\n",
      " [  75   53   75   45   46   14   18   25   51   92]\n",
      " [  21   20   50   37   19   28   50    3   54   70]\n",
      " [  91   27    3   21   75   44   66   85   65   87]] \n",
      "\n"
     ]
    }
   ],
   "source": [
    "# YOUR CODE HERE\n",
    "\n",
    "a = np.random.randint(0, 100,(10, 10))\n",
    "\n",
    "print(a,'\\n')\n",
    "print(a[3][5],'\\n')\n",
    "print(a[:,5],'\\n')\n",
    "print(a[2,:],'\\n')\n",
    "print(a[2:7,:],'\\n')\n",
    "print(a[2:5,3:7],'\\n')\n",
    "print(a[5:, :4],'\\n')\n",
    "a[4,4] = 1989\n",
    "print(a,'\\n')"
   ]
  },
  {
   "attachments": {},
   "cell_type": "markdown",
   "metadata": {},
   "source": [
    "22. Construct a one-dimensional array from 0 to 50 jumping with steps of 5 (`[5, 10, ...]`). Use the numpy methods to perform the following tasks;\n",
    "- Print all values greater than 20.\n",
    "- Print all values less than 30.\n",
    "- How many values are 33 in it?\n",
    "- Multiply all the elements of the created array by 5."
   ]
  },
  {
   "cell_type": "code",
   "execution_count": 211,
   "metadata": {},
   "outputs": [
    {
     "name": "stdout",
     "output_type": "stream",
     "text": [
      "The array from 0 to 50 jumping with steps:\n",
      " [ 0  5 10 15 20 25 30 35 40 45 50] \n",
      "\n",
      "The values greater than 20 are:\n",
      " [25 30 35 40 45 50] \n",
      "\n",
      "The values less than 30 are:\n",
      " [ 0  5 10 15 20 25] \n",
      "\n",
      "The values are 33 :\n",
      " 0 \n",
      "\n",
      "Array multiplied by 5:\n",
      " [  0  25  50  75 100 125 150 175 200 225 250] \n",
      "\n"
     ]
    }
   ],
   "source": [
    "# YOUR CODE HERE\n",
    "\n",
    "a = np.arange(0,55,5)\n",
    "\n",
    "print('The array from 0 to 50 jumping with steps:\\n',a,'\\n')\n",
    "print('The values greater than 20 are:\\n',a[a > 20],'\\n')\n",
    "print('The values less than 30 are:\\n',a[a < 30],'\\n',)\n",
    "print('The values are 33 :\\n',np.count_nonzero(a == 33),'\\n')\n",
    "print('Array multiplied by 5:\\n',a *5 ,'\\n')"
   ]
  },
  {
   "attachments": {},
   "cell_type": "markdown",
   "metadata": {},
   "source": [
    "23. Construct an array of 50 random floats between 0 and 1 and take the average. Moreover;\n",
    "- Get the standard deviation.\n",
    "- Get the variance.\n",
    "- Take the median.\n",
    "- Find the smallest value.\n",
    "- Find the largest value."
   ]
  },
  {
   "cell_type": "code",
   "execution_count": 214,
   "metadata": {},
   "outputs": [
    {
     "name": "stdout",
     "output_type": "stream",
     "text": [
      "The array of 50 ramdom floats between 0 and 1:\n",
      " \n",
      " [0.42870202 0.02916976 0.48089015 0.66243401 0.11850262 0.28888494\n",
      " 0.39783663 0.91953102 0.99325502 0.0449113  0.76100792 0.37172407\n",
      " 0.39245819 0.75426497 0.91842643 0.95092859 0.57712259 0.35712116\n",
      " 0.78754909 0.25100138 0.56407403 0.35857846 0.65663107 0.24039891\n",
      " 0.19159295 0.91823909 0.10180368 0.50595791 0.22085278 0.03892996\n",
      " 0.03601882 0.17522177 0.86677035 0.28247874 0.95045917 0.58162229\n",
      " 0.43661419 0.58008883 0.51669839 0.75877625 0.28249607 0.35305039\n",
      " 0.8940943  0.94645651 0.89255823 0.41944799 0.7803655  0.47633573\n",
      " 0.49753985 0.20468011] \n",
      "\n",
      "The average is: \n",
      " 0.5042910843004741 \n",
      "\n",
      "The variance is:\n",
      " 0.08330693590610988 \n",
      "\n",
      "The smallest value is:\n",
      " 0.029169763645264468 \n",
      "\n",
      "The largest value is:\n",
      " 0.993255015422964 \n",
      "\n"
     ]
    }
   ],
   "source": [
    "# YOUR CODE HERE\n",
    "\n",
    "a = np.random.rand((50))\n",
    "print('The array of 50 ramdom floats between 0 and 1:\\n \\n',a,'\\n')\n",
    "print('The average is: \\n',a.mean(),'\\n')\n",
    "print('The variance is:\\n',a.var(),'\\n')\n",
    "print('The smallest value is:\\n',a.min(),'\\n')\n",
    "print('The largest value is:\\n',a.max(),'\\n')"
   ]
  },
  {
   "attachments": {},
   "cell_type": "markdown",
   "metadata": {},
   "source": [
    "24. What are the differences between Pandas Series and NumPy arrays?"
   ]
  },
  {
   "attachments": {},
   "cell_type": "markdown",
   "metadata": {},
   "source": [
    "#### A Pandas Series has an explicit index associated with the values, while a NumPy array has an implicit index that is determined by the array's position in memor\n",
    "\n",
    "#### NumPy arrays support a wide range of data types (e.g. integers, floats, booleans, etc.), while Pandas Series are typically used for storing a single data type (e.g. integers, floats, or strings)."
   ]
  },
  {
   "attachments": {},
   "cell_type": "markdown",
   "metadata": {},
   "source": [
    "25. Create a 5-element series with different data types, with an index of capital letters."
   ]
  },
  {
   "cell_type": "code",
   "execution_count": 216,
   "metadata": {},
   "outputs": [
    {
     "name": "stdout",
     "output_type": "stream",
     "text": [
      "A    1\n",
      "B    2\n",
      "C    3\n",
      "D    4\n",
      "E    5\n",
      "dtype: int64\n"
     ]
    }
   ],
   "source": [
    "# YOUR CODE HERE\n",
    "\n",
    "s = pd.Series([1,2,3,4,5], index=['A','B', 'C','D','E'])\n",
    "\n",
    "print(s)"
   ]
  },
  {
   "attachments": {},
   "cell_type": "markdown",
   "metadata": {},
   "source": [
    "26. Create a 5-element dictionary with keys as country names and values as capitals and turn it into a series. An example: ` \"france\" : \"paris\"`)."
   ]
  },
  {
   "cell_type": "code",
   "execution_count": 225,
   "metadata": {},
   "outputs": [
    {
     "name": "stdout",
     "output_type": "stream",
     "text": [
      "Barcelona          Spain\n",
      "Istambul          Turkey\n",
      "New York             USA\n",
      "Berlin           Germany\n",
      "Amsterdam    Netherlands\n",
      "dtype: object\n"
     ]
    }
   ],
   "source": [
    "# YOUR CODE HERE\n",
    "\n",
    "d = {'Barcelona':'Spain','Istambul':'Turkey','New York':'USA','Berlin':'Germany','Amsterdam':'Netherlands'}\n",
    "print(pd.Series(d))"
   ]
  },
  {
   "attachments": {},
   "cell_type": "markdown",
   "metadata": {},
   "source": [
    "27. Create a random vector with 10 elements.\n",
    "- Convert the vector to series and with strings as indeces. For example, a,b,c,d,e,f,g..\n",
    "- Retrieve the 3rd element of the series using the index name (for example: c).\n",
    "- Retrieve the 1st element of the series using the index number.\n",
    "- Access the 2nd and 7th elements of the series at the same time, using the index name. (Example: values corresponding to index b and g)"
   ]
  },
  {
   "cell_type": "code",
   "execution_count": 244,
   "metadata": {},
   "outputs": [
    {
     "name": "stdout",
     "output_type": "stream",
     "text": [
      "The vector is :\n",
      " \n",
      " [6 8 1 2 9 3 6 5 2 7] \n",
      "\n",
      "The vector to series: \n",
      " a    6\n",
      "b    8\n",
      "c    1\n",
      "d    2\n",
      "e    9\n",
      "f    3\n",
      "g    6\n",
      "h    5\n",
      "i    2\n",
      "j    7\n",
      "dtype: int32 \n",
      "\n",
      "The 3rd element using the index name \"c\": \n",
      " 1 \n",
      "\n",
      "The 3rd element using the index number \"[1]:\" \n",
      " 6 \n",
      "\n",
      "The 2nd and 7th elements using the index name \"b & g:\" \n",
      " b    8\n",
      "g    6\n",
      "dtype: int32 \n",
      "\n"
     ]
    }
   ],
   "source": [
    "# YOUR CODE HERE\n",
    "\n",
    "a = np.random.randint(1,10,10)\n",
    "\n",
    "s = pd.Series(a,index=['a','b','c','d','e','f','g','h','i','j'])\n",
    "print('The vector is :\\n \\n',a,'\\n')\n",
    "print('The vector to series: \\n',s,'\\n')\n",
    "print('The 3rd element using the index name \"c\": \\n',s['c'],'\\n')\n",
    "print('The 3rd element using the index number \"[1]:\" \\n',s[0],'\\n')\n",
    "print('The 2nd and 7th elements using the index name \"b & g:\" \\n',s[['b','g']],'\\n')"
   ]
  },
  {
   "attachments": {},
   "cell_type": "markdown",
   "metadata": {},
   "source": [
    "28. Create two 5-element series with elements of your choice with default index.\n",
    "- Combine the series you have created.\n",
    "- Arrange the index of the resulting concatenated 10-element series from 1 to 10."
   ]
  },
  {
   "cell_type": "code",
   "execution_count": 250,
   "metadata": {},
   "outputs": [
    {
     "name": "stdout",
     "output_type": "stream",
     "text": [
      "0    A\n",
      "1    B\n",
      "2    C\n",
      "3    D\n",
      "4    E\n",
      "0    f\n",
      "1    g\n",
      "2    h\n",
      "3    i\n",
      "4    j\n",
      "dtype: object \n",
      "\n",
      "1     A\n",
      "2     B\n",
      "3     C\n",
      "4     D\n",
      "5     E\n",
      "6     f\n",
      "7     g\n",
      "8     h\n",
      "9     i\n",
      "10    j\n",
      "dtype: object \n",
      "\n"
     ]
    }
   ],
   "source": [
    "# YOUR CODE HERE\n",
    "\n",
    "s1 = pd.Series(['A','B','C','D','E',])\n",
    "s2 = pd.Series(['f','g','h','i','j'])\n",
    "s3 = pd.concat([s1,s2])\n",
    "print(s3,'\\n')\n",
    "\n",
    "s3.index = range(1,11)\n",
    "\n",
    "print(s3,'\\n')"
   ]
  },
  {
   "attachments": {},
   "cell_type": "markdown",
   "metadata": {},
   "source": [
    "**Bonus homework**:\n",
    "\n",
    "\n",
    "Generate two 20x20 matrices with values between 0 and 1 randomly in a loop and take the difference of these\n",
    "matrices. Repeat this process until all elements on the diagonal of the difference matrix\n",
    "is between -0.1 and 0.1. When the desired matrix is found, let the program stop\n",
    "and print the total number of cycles, how long it took, and the desired matrix\n",
    "with print.\n",
    "\n",
    "\n",
    "Tip: Finding the 20 x 20 matrix can take hours. Therefore, to test the accuracy\n",
    "of your algorithm, you can first try it on small matrices such as 4x4, 5x5. And\n",
    "you can try the latest 20x20 by increasing the number of matrix. (You can do\n",
    "the matrix generation with the np.random.random((a,b)) function. It generates\n",
    "an array of desired sizes between 0-1.)\n"
   ]
  },
  {
   "cell_type": "code",
   "execution_count": 280,
   "metadata": {},
   "outputs": [
    {
     "name": "stdout",
     "output_type": "stream",
     "text": [
      "Number of cycles:  615\n",
      "Time taken:  0.046007394790649414\n",
      "Matrix: \n",
      " [[ 5.12960497e-02  1.50895550e-01  5.31729811e-01  6.85444455e-01\n",
      "   4.91517525e-01]\n",
      " [ 3.21457365e-01  2.32746902e-02 -6.98088721e-01  4.58002488e-01\n",
      "   4.51868608e-02]\n",
      " [ 4.13905849e-01 -1.38195570e-01  8.19292213e-02 -8.21630987e-01\n",
      "  -4.56649574e-01]\n",
      " [-8.55747027e-02  2.26607804e-01  7.00156052e-01 -8.84234895e-03\n",
      "  -5.91992870e-01]\n",
      " [ 1.63624510e-01 -5.93161842e-01 -1.58079524e-01  5.53934336e-01\n",
      "   2.17963615e-04]]\n"
     ]
    }
   ],
   "source": [
    "# YOUR CODE HERE\n",
    "\n",
    "import time\n",
    "\n",
    "tim = time.time()\n",
    "n = 20\n",
    "\n",
    "# Create two random matrices\n",
    "m1 = np.random.random((n,n))\n",
    "m2 = np.random.random((n,n))\n",
    "\n",
    "\n",
    "cont = 0\n",
    "\n",
    "while True:\n",
    "    \n",
    "    cont += 1\n",
    "    \n",
    "    m_dif = m1 - m2\n",
    "    diag = np.diag(m_dif)\n",
    "    \n",
    "    if all(np.abs(diag) <= 0.1):\n",
    "        break\n",
    "   \n",
    "    m1 = np.random.random((n,n))\n",
    "    m2 = np.random.random((n,n))\n",
    "\n",
    "print(\"Number of cycles: \", cont)\n",
    "print(\"Time taken: \", time.time() - tim)\n",
    "print(\"Matrix: \\n\", m_dif)\n"
   ]
  }
 ],
 "metadata": {
  "kernelspec": {
   "display_name": "Python 3",
   "language": "python",
   "name": "python3"
  },
  "language_info": {
   "codemirror_mode": {
    "name": "ipython",
    "version": 3
   },
   "file_extension": ".py",
   "mimetype": "text/x-python",
   "name": "python",
   "nbconvert_exporter": "python",
   "pygments_lexer": "ipython3",
   "version": "3.11.1"
  },
  "orig_nbformat": 4,
  "vscode": {
   "interpreter": {
    "hash": "5238573367df39f7286bb46f9ff5f08f63a01a80960060ce41e3c79b190280fa"
   }
  }
 },
 "nbformat": 4,
 "nbformat_minor": 2
}
