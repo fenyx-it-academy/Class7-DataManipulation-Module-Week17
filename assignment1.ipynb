{
 "cells": [
  {
   "attachments": {},
   "cell_type": "markdown",
   "metadata": {},
   "source": [
    "## Data Manipulation module\n",
    "### Homework assignment 1\n",
    "\n",
    "Welcome to the first homework assignment of the data manipulation module. In this assignment you will be working with NumPy and Pandas Series. The goal of this assignment is to get you familiar with these libraries and data types.\n",
    "\n",
    "### Instructions\n",
    "Read the exercises carefully and implement the requested functionality. Add your code in the cells provided with `YOUR CODE HERE` or `YOUR ANSWER HERE`. You can add cells if you need to. **Make sure to use NumPy methods** to find your answers. In some cases you might be able to read the answer, but we want to see you using the NumPy methods.\n",
    "\n",
    "### Hand-in\n",
    "To hand in your assignment, fork this notebook and commit your changes, then make a pull request to the original repository. The deadline for handing in the assignment is **Wednesday 18-01 23:59**."
   ]
  },
  {
   "cell_type": "code",
   "execution_count": null,
   "metadata": {},
   "outputs": [],
   "source": []
  },
  {
   "cell_type": "code",
   "execution_count": null,
   "metadata": {},
   "outputs": [],
   "source": []
  },
  {
   "cell_type": "code",
   "execution_count": 1,
   "metadata": {},
   "outputs": [],
   "source": [
    "# imports, no need to edit\n",
    "\n",
    "import numpy as np\n",
    "import pandas as pd\n",
    "\n",
    "np.random.seed(42)"
   ]
  },
  {
   "attachments": {},
   "cell_type": "markdown",
   "metadata": {},
   "source": [
    "A vector is an array with a single dimension (there’s no difference between row and column vectors), while a matrix refers to an array with two dimensions."
   ]
  },
  {
   "attachments": {},
   "cell_type": "markdown",
   "metadata": {},
   "source": [
    "YOUR ANSWER HERE"
   ]
  },
  {
   "attachments": {},
   "cell_type": "markdown",
   "metadata": {},
   "source": [
    "2. Construct a NumPy Array from a list of 10 elements."
   ]
  },
  {
   "cell_type": "code",
   "execution_count": null,
   "metadata": {},
   "outputs": [],
   "source": [
    "a_list=[x for x in np.random.randint(1,10,10)]\n",
    "np.array(a_list)"
   ]
  },
  {
   "attachments": {},
   "cell_type": "markdown",
   "metadata": {},
   "source": [
    "3. Construct a 10x10 matrix filled with '0's of the integer data type."
   ]
  },
  {
   "cell_type": "code",
   "execution_count": null,
   "metadata": {},
   "outputs": [],
   "source": [
    "np.zeros((10,10),dtype=int)"
   ]
  },
  {
   "attachments": {},
   "cell_type": "markdown",
   "metadata": {},
   "source": [
    "4. Construct a 10x10 matrix filled with '1's, data type float."
   ]
  },
  {
   "cell_type": "code",
   "execution_count": null,
   "metadata": {},
   "outputs": [],
   "source": [
    "np.ones((10,10),dtype=float)"
   ]
  },
  {
   "attachments": {},
   "cell_type": "markdown",
   "metadata": {},
   "source": [
    "5. Construct a 10x10 matrix filled with '9's of the integer data type."
   ]
  },
  {
   "cell_type": "code",
   "execution_count": null,
   "metadata": {},
   "outputs": [],
   "source": [
    "np.ones((10,10))*9"
   ]
  },
  {
   "attachments": {},
   "cell_type": "markdown",
   "metadata": {},
   "source": [
    "6. Construct a one-dimensional array with values between 5 and 25 that jumps with steps of 3 (`[5, 8, ...]`)"
   ]
  },
  {
   "cell_type": "code",
   "execution_count": null,
   "metadata": {},
   "outputs": [],
   "source": [
    "np.arange(5,25,3)"
   ]
  },
  {
   "attachments": {},
   "cell_type": "markdown",
   "metadata": {},
   "source": [
    "7. Create an array of size 30 with evenly spaced values between -1 and 1."
   ]
  },
  {
   "cell_type": "code",
   "execution_count": null,
   "metadata": {},
   "outputs": [],
   "source": [
    "np.linspace(-1,1,30)"
   ]
  },
  {
   "attachments": {},
   "cell_type": "markdown",
   "metadata": {},
   "source": [
    "8. Construct a 5x6 matrix with integers from 0 to 30."
   ]
  },
  {
   "cell_type": "code",
   "execution_count": null,
   "metadata": {},
   "outputs": [],
   "source": [
    "np.random.randint(0,30,(5,6))"
   ]
  },
  {
   "attachments": {},
   "cell_type": "markdown",
   "metadata": {},
   "source": [
    "9. Create an array of 30 random integers and sort it in ascending order."
   ]
  },
  {
   "cell_type": "code",
   "execution_count": null,
   "metadata": {},
   "outputs": [],
   "source": [
    "np.sort(np.random.randint(1,30,30))"
   ]
  },
  {
   "attachments": {},
   "cell_type": "markdown",
   "metadata": {},
   "source": [
    "10. Construct a 5x10 matrix filled with the value 1 at each location. Print the following details about this matrix:\n",
    "- number of elements\n",
    "- shape of the matrix\n",
    "- the data type (using numpy methods)\n"
   ]
  },
  {
   "cell_type": "code",
   "execution_count": null,
   "metadata": {},
   "outputs": [],
   "source": [
    "ar=np.ones((5,10))\n",
    "print(ar)\n",
    "print(ar.size)\n",
    "print(ar.shape)\n",
    "print(ar.dtype)"
   ]
  },
  {
   "attachments": {},
   "cell_type": "markdown",
   "metadata": {},
   "source": [
    "11. Construct a 3x4x7 matrix with random integer values between 0 and 10 (a 3D matrix will be created).\n"
   ]
  },
  {
   "cell_type": "code",
   "execution_count": null,
   "metadata": {},
   "outputs": [],
   "source": [
    "np.random.randint(0,10,(3,4,7))"
   ]
  },
  {
   "attachments": {},
   "cell_type": "markdown",
   "metadata": {},
   "source": [
    "12. Create an array of 20 random integers and reshape it into a 4x5 matrix."
   ]
  },
  {
   "cell_type": "code",
   "execution_count": null,
   "metadata": {},
   "outputs": [],
   "source": [
    "np.random.randint(1,10,20).reshape(4,5)\n"
   ]
  },
  {
   "attachments": {},
   "cell_type": "markdown",
   "metadata": {},
   "source": [
    "13. Construct a one-dimensional array by concetanating 4 separate one-dimensional arrays."
   ]
  },
  {
   "cell_type": "code",
   "execution_count": null,
   "metadata": {},
   "outputs": [],
   "source": [
    "ar_1=np.random.randint(1,4,5)\n",
    "ar_2=np.random.randint(1,5,5)\n",
    "ar_3=np.random.randint(0,3,4)\n",
    "ar_4=np.random.randint(0,6,5)\n",
    "np.hstack([ar_1,ar_2,ar_3,ar_4])"
   ]
  },
  {
   "attachments": {},
   "cell_type": "markdown",
   "metadata": {},
   "source": [
    "14. Create a vector of length 3 (3x1) and a matrix of size 3x3. Combine these two arrays on a\n",
    "    column-by-column basis using numpy methods.\n"
   ]
  },
  {
   "cell_type": "code",
   "execution_count": null,
   "metadata": {},
   "outputs": [],
   "source": [
    "vec=np.random.randint(1,3,3)\n",
    "mat=np.random.randint(1,4,(3,3))\n",
    "np.vstack([vec,mat])\n"
   ]
  },
  {
   "attachments": {},
   "cell_type": "markdown",
   "metadata": {},
   "source": [
    "\n",
    "the axis arguments uses to undertake operation through the matrix elements across y or x axis.in this regard axis=1 helps to manipulate data elements in a matrix along column lines while axis=0 helps us to do manipulation along rows"
   ]
  },
  {
   "attachments": {},
   "cell_type": "markdown",
   "metadata": {},
   "source": [
    "YOUR ANSWER HERE"
   ]
  },
  {
   "attachments": {},
   "cell_type": "markdown",
   "metadata": {},
   "source": [
    "16. Create a random 1D vector with 20 elements. Find the 3rd, 5th and 7th elements of this vector.\n"
   ]
  },
  {
   "cell_type": "code",
   "execution_count": null,
   "metadata": {},
   "outputs": [],
   "source": [
    "ar_1=np.random.randint(1,10,20)\n",
    "print(ar_1)\n",
    "x=[3,5,7]\n",
    "ar_1[x]\n"
   ]
  },
  {
   "attachments": {},
   "cell_type": "markdown",
   "metadata": {},
   "source": [
    "17. Create a random vector with 10 elements and replace the 4th element of this array with a different number."
   ]
  },
  {
   "cell_type": "code",
   "execution_count": null,
   "metadata": {},
   "outputs": [],
   "source": [
    "ar_1=np.random.randint(1,7,10)\n",
    "ar_1[4]=100\n",
    "print(ar_1)\n"
   ]
  },
  {
   "attachments": {},
   "cell_type": "markdown",
   "metadata": {},
   "source": [
    "Diagonal matrix:Return specified diagonals.numpy.diagonal(a, offset=0, axis1=0, axis2=1)[\n",
    "\n",
    "trace matrix:Return the sum along diagonals of the array.trace numpy.trace(a, offset=0, axis1=0, axis2=1, dtype=None, out=None)\n",
    "\n"
   ]
  },
  {
   "attachments": {},
   "cell_type": "markdown",
   "metadata": {},
   "source": [
    "YOUR ANSWER HERE"
   ]
  },
  {
   "attachments": {},
   "cell_type": "markdown",
   "metadata": {},
   "source": [
    "19. Create a 5x5 diagonal matrix with elements of your choosing. What are the indexes of the diagonal?\n"
   ]
  },
  {
   "cell_type": "code",
   "execution_count": null,
   "metadata": {},
   "outputs": [],
   "source": [
    "np.diag([1,2,3,4,5])"
   ]
  },
  {
   "attachments": {},
   "cell_type": "markdown",
   "metadata": {},
   "source": [
    "20. Create a vector that ranges from 10 to 20. Print the values from the 3rd index to the last index.\n"
   ]
  },
  {
   "cell_type": "code",
   "execution_count": null,
   "metadata": {},
   "outputs": [],
   "source": [
    "np.random.randint(1,10,12)[3:12]"
   ]
  },
  {
   "attachments": {},
   "cell_type": "markdown",
   "metadata": {},
   "source": [
    "21. Construct a 10x10 matrix with random elements and perform the following indexing tasks on it. Each task should be a single indexing operation.\n",
    " - Retrieve column 5 of row 3. Moreover;\n",
    " - Retrieve all elements of column 5.\n",
    " - Retrieve the 2nd row of all columns.\n",
    " - Retrieve row 2 through 7 of all columns.\n",
    " - Retrieve values with row index 2 to 5 and column index 3 to 7.\n",
    " - Retrieve the values from row index 5 to the end and column index from the top to 4.\n",
    " - Replace the value corresponding to the 5th row and the 5th column with your year of birth."
   ]
  },
  {
   "cell_type": "code",
   "execution_count": null,
   "metadata": {},
   "outputs": [],
   "source": [
    "ar_10=np.random.randint(0,10,(10,10))\n",
    "print(ar_10)\n",
    "ar_10[5,3]\n",
    "ar_10[:,5:6]\n",
    "ar_10[2:3,:]\n",
    "ar_10[2:7,:]\n",
    "ar_10[2:5,3:7]\n",
    "ar_10[5:,4:]\n",
    "ar_10[5,5]=2023\n",
    "print(ar_10)"
   ]
  },
  {
   "attachments": {},
   "cell_type": "markdown",
   "metadata": {},
   "source": [
    "22. Construct a one-dimensional array from 0 to 50 jumping with steps of 5 (`[5, 10, ...]`). Use the numpy methods to perform the following tasks;\n",
    "- Print all values greater than 20.\n",
    "- Print all values less than 30.\n",
    "- How many values are 33 in it?\n",
    "- Multiply all the elements of the created array by 5."
   ]
  },
  {
   "cell_type": "code",
   "execution_count": null,
   "metadata": {},
   "outputs": [],
   "source": [
    "ar_22=np.arange(0,50,5)\n",
    "print(ar_22)\n",
    "ar_22[ar_22>20]\n",
    "ar_22[ar_22<30]\n",
    "ar_22*5"
   ]
  },
  {
   "attachments": {},
   "cell_type": "markdown",
   "metadata": {},
   "source": [
    "23. Construct an array of 50 random floats between 0 and 1 and take the average. Moreover;\n",
    "- Get the standard deviation.\n",
    "- Get the variance.\n",
    "- Take the median.\n",
    "- Find the smallest value.\n",
    "- Find the largest value."
   ]
  },
  {
   "cell_type": "code",
   "execution_count": null,
   "metadata": {},
   "outputs": [],
   "source": [
    "ar_23=np.random.rand(50)\n",
    "print(ar_23)\n",
    "print(ar_23.mean())\n",
    "print(ar_23.std())\n",
    "print(np.median(ar_23))\n",
    "print(ar_23.min())\n",
    "print(ar_23.max())\n"
   ]
  },
  {
   "attachments": {},
   "cell_type": "markdown",
   "metadata": {},
   "source": [
    "24. What are the differences between Pandas Series and NumPy arrays?"
   ]
  },
  {
   "attachments": {},
   "cell_type": "markdown",
   "metadata": {},
   "source": [
    "YOUR ANSWER HERE"
   ]
  },
  {
   "attachments": {},
   "cell_type": "markdown",
   "metadata": {},
   "source": [
    "25. Create a 5-element series with different data types, with an index of capital letters."
   ]
  },
  {
   "cell_type": "code",
   "execution_count": null,
   "metadata": {},
   "outputs": [],
   "source": [
    "df=pd.Series(['t','foo',3,4,5],index=('A','B','C','D','E'))\n",
    "print(df)\n",
    "# df.dtype\n"
   ]
  },
  {
   "attachments": {},
   "cell_type": "markdown",
   "metadata": {},
   "source": [
    "26. Create a 5-element dictionary with keys as country names and values as capitals and turn it into a series. An example: ` \"france\" : \"paris\"`)."
   ]
  },
  {
   "cell_type": "code",
   "execution_count": null,
   "metadata": {},
   "outputs": [],
   "source": [
    "data_26={'Netherlands':'Amsterdam',\n",
    "         'Italy':'Rome',\n",
    "         'Ethiopia':'Addis',\n",
    "         'Turky':'Ankara',\n",
    "         'German':'Berlin'}\n",
    "pd.Series(data_26)"
   ]
  },
  {
   "attachments": {},
   "cell_type": "markdown",
   "metadata": {},
   "source": [
    "27. Create a random vector with 10 elements.\n",
    "- Convert the vector to series and with strings as indeces. For example, a,b,c,d,e,f,g..\n",
    "- Retrieve the 3rd element of the series using the index name (for example: c).\n",
    "- Retrieve the 1st element of the series using the index number.\n",
    "- Access the 2nd and 7th elements of the series at the same time, using the index name. (Example: values corresponding to index b and g)"
   ]
  },
  {
   "cell_type": "code",
   "execution_count": null,
   "metadata": {},
   "outputs": [],
   "source": [
    "df_27=np.random.randint(1,5,10)\n",
    "df_27=pd.Series(df_27,index=['a','b','c','d','e','f','g','h','i','j'])\n",
    "print(df_27[\"c\"])\n",
    "print(df_27[0:1])\n",
    "print(df_27[[2,7]])\n",
    "print(df_27)"
   ]
  },
  {
   "attachments": {},
   "cell_type": "markdown",
   "metadata": {},
   "source": [
    "28. Create two 5-element series with elements of your choice with default index.\n",
    "- Combine the series you have created.\n",
    "- Arrange the index of the resulting concatenated 10-element series from 1 to 10."
   ]
  },
  {
   "cell_type": "code",
   "execution_count": null,
   "metadata": {},
   "outputs": [],
   "source": [
    "sr_28=pd.Series(np.random.randint(1,5,5))\n",
    "print(sr_28)\n",
    "sr_28_1=pd.Series(np.random.randint(1,5,5))\n",
    "print(sr_28_1)\n",
    "sr_28_2=np.concatenate([sr_28_1,sr_28])\n",
    "print(pd.Series(sr_28_2,index=[x for x in range(1,11)]))\n"
   ]
  },
  {
   "attachments": {},
   "cell_type": "markdown",
   "metadata": {},
   "source": [
    "**Bonus homework**:\n",
    "\n",
    "\n",
    "Generate two 20x20 matrices with values between 0 and 1 randomly in a loop and take the difference of these\n",
    "matrices. Repeat this process until all elements on the diagonal of the difference matrix\n",
    "is between -0.1 and 0.1. When the desired matrix is found, let the program stop\n",
    "and print the total number of cycles, how long it took, and the desired matrix\n",
    "with print.\n",
    "\n",
    "\n",
    "Tip: Finding the 20 x 20 matrix can take hours. Therefore, to test the accuracy\n",
    "of your algorithm, you can first try it on small matrices such as 4x4, 5x5. And\n",
    "you can try the latest 20x20 by increasing the number of matrix. (You can do\n",
    "the matrix generation with the np.random.random((a,b)) function. It generates\n",
    "an array of desired sizes between 0-1.)\n"
   ]
  },
  {
   "cell_type": "code",
   "execution_count": 405,
   "metadata": {},
   "outputs": [
    {
     "name": "stdout",
     "output_type": "stream",
     "text": [
      "[[ 4.92129534e-02  5.21282024e-01 -4.64379838e-01  4.47343310e-01\n",
      "   3.52481961e-01 -6.34183183e-01  8.88409462e-02  2.24779098e-01\n",
      "   1.43700003e-01  7.03147082e-01]\n",
      " [-5.24065704e-01 -2.89972134e-02  5.60511448e-01 -4.43710839e-01\n",
      "  -1.00238525e-01  7.89179316e-01  7.13911712e-02 -9.82170250e-02\n",
      "  -1.81366707e-01  3.27300704e-01]\n",
      " [-1.09582129e-01  5.66419317e-01  7.06782717e-02  2.53071925e-01\n",
      "   2.72839565e-01  5.64315430e-01  7.76760436e-01 -4.92303976e-01\n",
      "   2.68339344e-01  2.27508024e-01]\n",
      " [-7.26559976e-01 -3.25347871e-01  6.77584355e-01  5.86628955e-02\n",
      "   5.92192433e-02 -4.75195262e-01 -5.80481019e-01  3.62789403e-01\n",
      "  -7.90502823e-02  5.70610589e-01]\n",
      " [ 9.90977772e-02  6.69239072e-01 -2.52872870e-01  2.86565835e-01\n",
      "   8.21359721e-02 -2.58281271e-01  6.10224245e-01 -3.88896022e-02\n",
      "  -1.44577707e-01  1.15962817e-03]\n",
      " [ 1.87767211e-01 -6.16920217e-01 -6.31034840e-01  5.34771168e-01\n",
      "   7.54726602e-02  6.56658166e-02 -5.78569326e-02 -4.33840858e-01\n",
      "   9.24949787e-02 -5.84594074e-01]\n",
      " [-2.77184022e-01 -2.69427261e-01 -4.80529715e-01  2.25500651e-01\n",
      "  -5.97407468e-01 -8.54506440e-01 -1.09519330e-02 -5.71640022e-01\n",
      "  -1.66284007e-01 -1.05896691e-01]\n",
      " [ 3.89840145e-01  6.24870574e-01  5.08824082e-01  1.22997985e-01\n",
      "   9.28206760e-03  3.05363430e-02 -6.17729674e-01  5.52455592e-02\n",
      "   6.27919855e-01  2.71441679e-01]\n",
      " [ 2.36577216e-01  4.71345045e-01  6.44190653e-02  7.16065547e-01\n",
      "  -1.59840222e-01  4.66408667e-01 -5.96915864e-01 -1.83154849e-01\n",
      "   1.94845260e-04  5.67248142e-02]\n",
      " [-3.14574042e-01 -3.56804718e-01  1.37440279e-01 -8.13640110e-02\n",
      "   2.45889164e-01  1.77447087e-01 -1.32263236e-01  5.72756177e-01\n",
      "   4.97412257e-01  9.65858672e-02]]\n",
      "[ 0.04921295 -0.02899721  0.07067827  0.0586629   0.08213597  0.06566582\n",
      " -0.01095193  0.05524556  0.00019485  0.09658587]\n",
      "True\n",
      "19.247774839401245\n"
     ]
    }
   ],
   "source": [
    "import time\n",
    "def fun():\n",
    "        while True:\n",
    "                m_1=np.random.rand(10,10)\n",
    "                m_2=np.random.rand(10,10)\n",
    "\n",
    "                b= m_1-m_2\n",
    "                r=np.all(-0.1<np.diag(b)) and np.all(np.diag(b)<0.1)\n",
    "\n",
    "                if r==True:\n",
    "\n",
    "                        print(b)\n",
    "                        print(np.diag(b))\n",
    "                        print(r)\n",
    "                        break   \n",
    "                else:  \n",
    "                        continue\n",
    "if __name__==\"__main__\":\n",
    "        t1=time.time()\n",
    "        fun()\n",
    "        t2=time.time()\n",
    "        print(t2-t1)\n",
    "   \n",
    "        "
   ]
  }
 ],
 "metadata": {
  "kernelspec": {
   "display_name": "Python 3",
   "language": "python",
   "name": "python3"
  },
  "language_info": {
   "codemirror_mode": {
    "name": "ipython",
    "version": 3
   },
   "file_extension": ".py",
   "mimetype": "text/x-python",
   "name": "python",
   "nbconvert_exporter": "python",
   "pygments_lexer": "ipython3",
   "version": "3.10.9"
  },
  "orig_nbformat": 4,
  "vscode": {
   "interpreter": {
    "hash": "93abe0c30184fb20f96093f4135f34052a80558641e8231edb1496ac2c8e5b10"
   }
  }
 },
 "nbformat": 4,
 "nbformat_minor": 2
}
