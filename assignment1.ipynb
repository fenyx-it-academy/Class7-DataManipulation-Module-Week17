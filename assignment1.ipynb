{
 "cells": [
  {
   "attachments": {},
   "cell_type": "markdown",
   "metadata": {},
   "source": [
    "## Data Manipulation module\n",
    "### Homework assignment 1\n",
    "\n",
    "Welcome to the first homework assignment of the data manipulation module. In this assignment you will be working with NumPy and Pandas Series. The goal of this assignment is to get you familiar with these libraries and data types.\n",
    "\n",
    "### Instructions\n",
    "Read the exercises carefully and implement the requested functionality. Add your code in the cells provided with `YOUR CODE HERE` or `YOUR ANSWER HERE`. You can add cells if you need to. **Make sure to use NumPy methods** to find your answers. In some cases you might be able to read the answer, but we want to see you using the NumPy methods.\n",
    "\n",
    "### Hand-in\n",
    "To hand in your assignment, fork this notebook and commit your changes, then make a pull request to the original repository. The deadline for handing in the assignment is **Wednesday 18-01 23:59**."
   ]
  },
  {
   "cell_type": "code",
   "execution_count": 4,
   "metadata": {},
   "outputs": [],
   "source": [
    "# imports, no need to edit\n",
    "\n",
    "import numpy as np\n",
    "import pandas as pd\n",
    "\n",
    "np.random.seed(42)"
   ]
  },
  {
   "attachments": {},
   "cell_type": "markdown",
   "metadata": {},
   "source": [
    "1. Explain the difference between a vector and matrix in NumPy in one sentence."
   ]
  },
  {
   "attachments": {},
   "cell_type": "markdown",
   "metadata": {},
   "source": [
    "YOUR ANSWER HERE"
   ]
  },
  {
   "attachments": {},
   "cell_type": "markdown",
   "metadata": {},
   "source": [
    "2. Construct a NumPy Array from a list of 10 elements."
   ]
  },
  {
   "cell_type": "code",
   "execution_count": 6,
   "metadata": {},
   "outputs": [
    {
     "data": {
      "text/plain": [
       "array([ 1,  2,  3,  4,  5,  6,  7,  8,  9, 10])"
      ]
     },
     "execution_count": 6,
     "metadata": {},
     "output_type": "execute_result"
    }
   ],
   "source": [
    "x= np.array([1,2,3,4,5,6,7,8,9,10])\n",
    "x"
   ]
  },
  {
   "attachments": {},
   "cell_type": "markdown",
   "metadata": {},
   "source": [
    "3. Construct a 10x10 matrix filled with '0's of the integer data type."
   ]
  },
  {
   "cell_type": "code",
   "execution_count": 49,
   "metadata": {},
   "outputs": [
    {
     "data": {
      "text/plain": [
       "array([[0, 0, 0, 0, 0, 0, 0, 0, 0, 0],\n",
       "       [0, 0, 0, 0, 0, 0, 0, 0, 0, 0],\n",
       "       [0, 0, 0, 0, 0, 0, 0, 0, 0, 0],\n",
       "       [0, 0, 0, 0, 0, 0, 0, 0, 0, 0],\n",
       "       [0, 0, 0, 0, 0, 0, 0, 0, 0, 0],\n",
       "       [0, 0, 0, 0, 0, 0, 0, 0, 0, 0],\n",
       "       [0, 0, 0, 0, 0, 0, 0, 0, 0, 0],\n",
       "       [0, 0, 0, 0, 0, 0, 0, 0, 0, 0],\n",
       "       [0, 0, 0, 0, 0, 0, 0, 0, 0, 0],\n",
       "       [0, 0, 0, 0, 0, 0, 0, 0, 0, 0]])"
      ]
     },
     "execution_count": 49,
     "metadata": {},
     "output_type": "execute_result"
    }
   ],
   "source": [
    "x= np.zeros((10,10), dtype='int32')\n",
    "x"
   ]
  },
  {
   "attachments": {},
   "cell_type": "markdown",
   "metadata": {},
   "source": [
    "4. Construct a 10x10 matrix filled with '1's, data type float."
   ]
  },
  {
   "cell_type": "code",
   "execution_count": 150,
   "metadata": {},
   "outputs": [
    {
     "data": {
      "text/plain": [
       "array([[1., 1., 1., 1., 1., 1., 1., 1., 1., 1.],\n",
       "       [1., 1., 1., 1., 1., 1., 1., 1., 1., 1.],\n",
       "       [1., 1., 1., 1., 1., 1., 1., 1., 1., 1.],\n",
       "       [1., 1., 1., 1., 1., 1., 1., 1., 1., 1.],\n",
       "       [1., 1., 1., 1., 1., 1., 1., 1., 1., 1.],\n",
       "       [1., 1., 1., 1., 1., 1., 1., 1., 1., 1.],\n",
       "       [1., 1., 1., 1., 1., 1., 1., 1., 1., 1.],\n",
       "       [1., 1., 1., 1., 1., 1., 1., 1., 1., 1.],\n",
       "       [1., 1., 1., 1., 1., 1., 1., 1., 1., 1.],\n",
       "       [1., 1., 1., 1., 1., 1., 1., 1., 1., 1.]], dtype=float32)"
      ]
     },
     "execution_count": 150,
     "metadata": {},
     "output_type": "execute_result"
    }
   ],
   "source": [
    "x= np.ones((10,10),dtype= 'float32')\n",
    "x"
   ]
  },
  {
   "attachments": {},
   "cell_type": "markdown",
   "metadata": {},
   "source": [
    "5. Construct a 10x10 matrix filled with '9's of the integer data type."
   ]
  },
  {
   "cell_type": "code",
   "execution_count": 12,
   "metadata": {},
   "outputs": [
    {
     "data": {
      "text/plain": [
       "array([[9, 9, 9, 9, 9, 9, 9, 9, 9, 9],\n",
       "       [9, 9, 9, 9, 9, 9, 9, 9, 9, 9],\n",
       "       [9, 9, 9, 9, 9, 9, 9, 9, 9, 9],\n",
       "       [9, 9, 9, 9, 9, 9, 9, 9, 9, 9],\n",
       "       [9, 9, 9, 9, 9, 9, 9, 9, 9, 9],\n",
       "       [9, 9, 9, 9, 9, 9, 9, 9, 9, 9],\n",
       "       [9, 9, 9, 9, 9, 9, 9, 9, 9, 9],\n",
       "       [9, 9, 9, 9, 9, 9, 9, 9, 9, 9],\n",
       "       [9, 9, 9, 9, 9, 9, 9, 9, 9, 9],\n",
       "       [9, 9, 9, 9, 9, 9, 9, 9, 9, 9]])"
      ]
     },
     "execution_count": 12,
     "metadata": {},
     "output_type": "execute_result"
    }
   ],
   "source": [
    "x= np.full((10,10), 9)\n",
    "x"
   ]
  },
  {
   "attachments": {},
   "cell_type": "markdown",
   "metadata": {},
   "source": [
    "6. Construct a one-dimensional array with values between 5 and 25 that jumps with steps of 3 (`[5, 8, ...]`)"
   ]
  },
  {
   "cell_type": "code",
   "execution_count": 15,
   "metadata": {},
   "outputs": [
    {
     "data": {
      "text/plain": [
       "array([ 5,  8, 11, 14, 17, 20, 23])"
      ]
     },
     "execution_count": 15,
     "metadata": {},
     "output_type": "execute_result"
    }
   ],
   "source": [
    "x=np.arange(5,25,3)\n",
    "x\n"
   ]
  },
  {
   "attachments": {},
   "cell_type": "markdown",
   "metadata": {},
   "source": [
    "7. Create an array of size 30 with evenly spaced values between -1 and 1."
   ]
  },
  {
   "cell_type": "code",
   "execution_count": 17,
   "metadata": {},
   "outputs": [
    {
     "data": {
      "text/plain": [
       "array([-1.        , -0.93103448, -0.86206897, -0.79310345, -0.72413793,\n",
       "       -0.65517241, -0.5862069 , -0.51724138, -0.44827586, -0.37931034,\n",
       "       -0.31034483, -0.24137931, -0.17241379, -0.10344828, -0.03448276,\n",
       "        0.03448276,  0.10344828,  0.17241379,  0.24137931,  0.31034483,\n",
       "        0.37931034,  0.44827586,  0.51724138,  0.5862069 ,  0.65517241,\n",
       "        0.72413793,  0.79310345,  0.86206897,  0.93103448,  1.        ])"
      ]
     },
     "execution_count": 17,
     "metadata": {},
     "output_type": "execute_result"
    }
   ],
   "source": [
    "x=np.linspace(-1,1,30)\n",
    "x\n"
   ]
  },
  {
   "attachments": {},
   "cell_type": "markdown",
   "metadata": {},
   "source": [
    "8. Construct a 5x6 matrix with integers from 0 to 30."
   ]
  },
  {
   "cell_type": "code",
   "execution_count": 20,
   "metadata": {},
   "outputs": [
    {
     "data": {
      "text/plain": [
       "array([[ 6, 17,  3, 24, 27, 13],\n",
       "       [17, 25,  8, 25, 20,  1],\n",
       "       [19, 27, 14, 27,  6, 11],\n",
       "       [28,  7, 14,  2, 13, 16],\n",
       "       [ 3, 17,  7,  3,  1, 29]])"
      ]
     },
     "execution_count": 20,
     "metadata": {},
     "output_type": "execute_result"
    }
   ],
   "source": [
    "x= np.random.randint(30, size=(5,6))\n",
    "x"
   ]
  },
  {
   "attachments": {},
   "cell_type": "markdown",
   "metadata": {},
   "source": [
    "9. Create an array of 30 random integers and sort it in ascending order."
   ]
  },
  {
   "cell_type": "code",
   "execution_count": 160,
   "metadata": {},
   "outputs": [
    {
     "data": {
      "text/plain": [
       "array([ 27,  35,  85,  95, 159, 170, 230, 240, 242, 406, 484, 524, 540,\n",
       "       555, 556, 563, 573, 577, 619, 645, 654, 681, 698, 733, 748, 795,\n",
       "       795, 838, 899, 952])"
      ]
     },
     "execution_count": 160,
     "metadata": {},
     "output_type": "execute_result"
    }
   ],
   "source": [
    "x= np.random.randint(1000, size=(30))\n",
    "np.sort(x)\n"
   ]
  },
  {
   "attachments": {},
   "cell_type": "markdown",
   "metadata": {},
   "source": [
    "10. Construct a 5x10 matrix filled with the value 1 at each location. Print the following details about this matrix:\n",
    "- number of elements\n",
    "- shape of the matrix\n",
    "- the data type (using numpy methods)\n"
   ]
  },
  {
   "cell_type": "code",
   "execution_count": 162,
   "metadata": {},
   "outputs": [
    {
     "name": "stdout",
     "output_type": "stream",
     "text": [
      "[[1 1 1 1 1 1 1 1 1 1]\n",
      " [1 1 1 1 1 1 1 1 1 1]\n",
      " [1 1 1 1 1 1 1 1 1 1]\n",
      " [1 1 1 1 1 1 1 1 1 1]\n",
      " [1 1 1 1 1 1 1 1 1 1]]\n",
      "50\n",
      "(5, 10)\n",
      "int32\n"
     ]
    }
   ],
   "source": [
    "x= np.ones((5,10), dtype=np.int32)\n",
    "print(x)\n",
    "print(x.size)\n",
    "print(x.shape)\n",
    "print(x.dtype)"
   ]
  },
  {
   "attachments": {},
   "cell_type": "markdown",
   "metadata": {},
   "source": [
    "11. Construct a 3x4x7 matrix with random integer values between 0 and 10 (a 3D matrix will be created).\n"
   ]
  },
  {
   "cell_type": "code",
   "execution_count": 43,
   "metadata": {},
   "outputs": [
    {
     "data": {
      "text/plain": [
       "array([[[5, 7, 8, 3, 0, 0, 9],\n",
       "        [3, 6, 1, 2, 0, 4, 0],\n",
       "        [7, 0, 0, 1, 1, 5, 6],\n",
       "        [4, 0, 0, 2, 1, 4, 9]],\n",
       "\n",
       "       [[5, 6, 3, 6, 7, 0, 5],\n",
       "        [7, 4, 3, 1, 5, 5, 0],\n",
       "        [8, 5, 2, 3, 3, 2, 9],\n",
       "        [2, 2, 3, 6, 3, 8, 0]],\n",
       "\n",
       "       [[7, 6, 1, 7, 0, 8, 8],\n",
       "        [1, 6, 9, 2, 6, 9, 8],\n",
       "        [3, 0, 1, 0, 4, 4, 6],\n",
       "        [8, 8, 2, 2, 2, 3, 7]]])"
      ]
     },
     "execution_count": 43,
     "metadata": {},
     "output_type": "execute_result"
    }
   ],
   "source": [
    "x= np.random.randint(0,11, size=(3,4,7))\n",
    "x"
   ]
  },
  {
   "attachments": {},
   "cell_type": "markdown",
   "metadata": {},
   "source": [
    "12. Create an array of 20 random integers and reshape it into a 4x5 matrix."
   ]
  },
  {
   "cell_type": "code",
   "execution_count": 45,
   "metadata": {},
   "outputs": [
    {
     "data": {
      "text/plain": [
       "array([[40, 99, 32, 67, 32],\n",
       "       [13, 20, 47, 19,  7],\n",
       "       [ 6, 66, 16, 32, 47],\n",
       "       [75, 58, 85, 21, 29]])"
      ]
     },
     "execution_count": 45,
     "metadata": {},
     "output_type": "execute_result"
    }
   ],
   "source": [
    "x= np.random.randint(100, size=(20))\n",
    "x.reshape(4,5)"
   ]
  },
  {
   "attachments": {},
   "cell_type": "markdown",
   "metadata": {},
   "source": [
    "13. Construct a one-dimensional array by concetanating 4 separate one-dimensional arrays."
   ]
  },
  {
   "cell_type": "code",
   "execution_count": 47,
   "metadata": {},
   "outputs": [
    {
     "data": {
      "text/plain": [
       "array([2, 3, 4, 5, 6, 7, 8, 9])"
      ]
     },
     "execution_count": 47,
     "metadata": {},
     "output_type": "execute_result"
    }
   ],
   "source": [
    "x1= np.array([2,3])\n",
    "x2= np.array([4,5])\n",
    "x3= np.array([6,7])\n",
    "x4= np.array([8,9])\n",
    "np.concatenate((x1,x2,x3,x4))"
   ]
  },
  {
   "attachments": {},
   "cell_type": "markdown",
   "metadata": {},
   "source": [
    "14. Create a vector of length 3 (3x1) and a matrix of size 3x3. Combine these two arrays on a\n",
    "    column-by-column basis using numpy methods.\n"
   ]
  },
  {
   "cell_type": "code",
   "execution_count": 50,
   "metadata": {},
   "outputs": [
    {
     "data": {
      "text/plain": [
       "array([[1, 2, 3],\n",
       "       [6, 5, 9],\n",
       "       [4, 6, 8],\n",
       "       [9, 4, 7]])"
      ]
     },
     "execution_count": 50,
     "metadata": {},
     "output_type": "execute_result"
    }
   ],
   "source": [
    "x1= np.array([1,2,3])\n",
    "x2= np.array([[6,5,9],[4,6,8],[9,4,7]])\n",
    "np.vstack([x1, x2])"
   ]
  },
  {
   "attachments": {},
   "cell_type": "markdown",
   "metadata": {},
   "source": [
    "15. What is the difference between \"axis=1\" and \"axis=0\" in Numpy functions? "
   ]
  },
  {
   "attachments": {},
   "cell_type": "markdown",
   "metadata": {},
   "source": [
    "axis= 0 is reffering to the data in across columns\n",
    "axis= 1 is reffering to the data in across rows"
   ]
  },
  {
   "attachments": {},
   "cell_type": "markdown",
   "metadata": {},
   "source": [
    "16. Create a random 1D vector with 20 elements. Find the 3rd, 5th and 7th elements of this vector.\n"
   ]
  },
  {
   "cell_type": "code",
   "execution_count": 63,
   "metadata": {},
   "outputs": [
    {
     "name": "stdout",
     "output_type": "stream",
     "text": [
      "[51 92 14 71 60 20 82 86 74 74 87 99 23  2 21 52  1 87 29 37]\n",
      "14\n",
      "60\n",
      "82\n"
     ]
    }
   ],
   "source": [
    "np.random.seed(42)\n",
    "x= np.random.randint(100, size=20)\n",
    "print(x)\n",
    "print(x[2])\n",
    "print(x[4])\n",
    "print(x[6])"
   ]
  },
  {
   "attachments": {},
   "cell_type": "markdown",
   "metadata": {},
   "source": [
    "17. Create a random vector with 10 elements and replace the 4th element of this array with a different number."
   ]
  },
  {
   "cell_type": "code",
   "execution_count": 64,
   "metadata": {},
   "outputs": [
    {
     "data": {
      "text/plain": [
       "array([ 51,  92,  14, 112,  60,  20,  82,  86,  74,  74])"
      ]
     },
     "execution_count": 64,
     "metadata": {},
     "output_type": "execute_result"
    }
   ],
   "source": [
    "np.random.seed(42)\n",
    "x= np.random.randint(100, size=10)\n",
    "x[3]= 112\n",
    "x"
   ]
  },
  {
   "attachments": {},
   "cell_type": "markdown",
   "metadata": {},
   "source": [
    "18. Look up the concepts of *diagonal matrix* and *trace matrix* online and write a small explanation about what they are.\n"
   ]
  },
  {
   "attachments": {},
   "cell_type": "markdown",
   "metadata": {},
   "source": [
    "diagonal matrix is a square matrix in which every element except the principal diagonal elements is zero.\n",
    "trace of matrixis  the sum of elements of the principal diagonal of a square matrix."
   ]
  },
  {
   "attachments": {},
   "cell_type": "markdown",
   "metadata": {},
   "source": [
    "19. Create a 5x5 diagonal matrix with elements of your choosing. What are the indexes of the diagonal?\n"
   ]
  },
  {
   "cell_type": "code",
   "execution_count": 170,
   "metadata": {},
   "outputs": [
    {
     "name": "stdout",
     "output_type": "stream",
     "text": [
      "[[6 5 9 4 2]\n",
      " [4 6 8 9 1]\n",
      " [9 4 7 2 1]\n",
      " [3 6 4 9 0]\n",
      " [2 0 0 9 1]]\n",
      "6 6 7 9 1\n"
     ]
    }
   ],
   "source": [
    "\n",
    "x= np.array([[6,5,9,4,2],[4,6,8,9,1],[9,4,7,2,1],[3,6,4,9,0],[2,0,0,9,1]])\n",
    "print(x)\n",
    "print(x[0,0], x[1,1], x[2,2], x[3,3],x[4,4])"
   ]
  },
  {
   "attachments": {},
   "cell_type": "markdown",
   "metadata": {},
   "source": [
    "20. Create a vector that ranges from 10 to 20. Print the values from the 3rd index to the last index.\n"
   ]
  },
  {
   "cell_type": "code",
   "execution_count": 71,
   "metadata": {},
   "outputs": [
    {
     "data": {
      "text/plain": [
       "array([12, 13, 14, 15, 16, 17, 18, 19, 20])"
      ]
     },
     "execution_count": 71,
     "metadata": {},
     "output_type": "execute_result"
    }
   ],
   "source": [
    "x= np.arange(10,21)\n",
    "x[3:]"
   ]
  },
  {
   "attachments": {},
   "cell_type": "markdown",
   "metadata": {},
   "source": [
    "21. Construct a 10x10 matrix with random elements and perform the following indexing tasks on it. Each task should be a single indexing operation.\n",
    " - Retrieve column 5 of row 3. Moreover;\n",
    " - Retrieve all elements of column 5.\n",
    " - Retrieve the 2nd row of all columns.\n",
    " - Retrieve row 2 through 7 of all columns.\n",
    " - Retrieve values with row index 2 to 5 and column index 3 to 7.\n",
    " - Retrieve the values from row index 5 to the end and column index from the top to 4.\n",
    " - Replace the value corresponding to the 5th row and the 5th column with your year of birth."
   ]
  },
  {
   "cell_type": "code",
   "execution_count": 86,
   "metadata": {},
   "outputs": [
    {
     "name": "stdout",
     "output_type": "stream",
     "text": [
      "[[51 92 14 71 60 20 82 86 74 74]\n",
      " [87 99 23  2 21 52  1 87 29 37]\n",
      " [ 1 63 59 20 32 75 57 21 88 48]\n",
      " [90 58 41 91 59 79 14 61 61 46]\n",
      " [61 50 54 63  2 50  6 20 72 38]\n",
      " [17  3 88 59 13  8 89 52  1 83]\n",
      " [91 59 70 43  7 46 34 77 80 35]\n",
      " [49  3  1  5 53  3 53 92 62 17]\n",
      " [89 43 33 73 61 99 13 94 47 14]\n",
      " [71 77 86 61 39 84 79 81 52 23]]\n",
      "32\n",
      "[60 21 32 59  2 13  7 53 61 39]\n",
      "[87 99 23  2 21 52  1 87 29 37]\n",
      "[87 99 23  2 21 52  1]\n",
      "[[20 32 75 57]\n",
      " [91 59 79 14]\n",
      " [63  2 50  6]]\n",
      "[[17  3 88 59]\n",
      " [91 59 70 43]\n",
      " [49  3  1  5]\n",
      " [89 43 33 73]\n",
      " [71 77 86 61]]\n",
      "[[  51   92   14   71   60   20   82   86   74   74]\n",
      " [  87   99   23    2   21   52    1   87   29   37]\n",
      " [   1   63   59   20   32   75   57   21   88   48]\n",
      " [  90   58   41   91   59   79   14   61   61   46]\n",
      " [  61   50   54   63 1997   50    6   20   72   38]\n",
      " [  17    3   88   59   13    8   89   52    1   83]\n",
      " [  91   59   70   43    7   46   34   77   80   35]\n",
      " [  49    3    1    5   53    3   53   92   62   17]\n",
      " [  89   43   33   73   61   99   13   94   47   14]\n",
      " [  71   77   86   61   39   84   79   81   52   23]]\n"
     ]
    }
   ],
   "source": [
    "np.random.seed(42)\n",
    "x = np.random.randint(100, size=(10,10))\n",
    "print(x)\n",
    "print(x[2,4])\n",
    "print(x[:,4])\n",
    "print(x[1,:])\n",
    "print(x[1,:7])\n",
    "print(x[2:5,3:7])\n",
    "print(x[5:,:4])\n",
    "x[4,4]= 1997\n",
    "print(x)"
   ]
  },
  {
   "attachments": {},
   "cell_type": "markdown",
   "metadata": {},
   "source": [
    "\n",
    "\n",
    "\n",
    "\n",
    "\n",
    "\n",
    "\n",
    "\n",
    "\n",
    "22. Construct a one-dimensional array from 0 to 50 jumping with steps of 5 (`[5, 10, ...]`). Use the numpy methods to perform the following tasks;\n",
    "- Print all values greater than 20.\n",
    "- Print all values less than 30.\n",
    "- How many values are 33 in it?\n",
    "- Multiply all the elements of the created array by 5."
   ]
  },
  {
   "cell_type": "code",
   "execution_count": 163,
   "metadata": {},
   "outputs": [
    {
     "name": "stdout",
     "output_type": "stream",
     "text": [
      "[25 30 35 40 45 50]\n",
      "[ 0  5 10 15 20 25]\n",
      "0\n",
      "[  0  25  50  75 100 125 150 175 200 225 250]\n"
     ]
    }
   ],
   "source": [
    "x= np.arange(0,51,5)\n",
    "print(x[x>20])\n",
    "print(x[x<30])\n",
    "print(np.sum(x==33))\n",
    "print(x*5)"
   ]
  },
  {
   "attachments": {},
   "cell_type": "markdown",
   "metadata": {},
   "source": [
    "23. Construct an array of 50 random floats between 0 and 1 and take the average. Moreover;\n",
    "- Get the standard deviation.\n",
    "- Get the variance.\n",
    "- Take the median.\n",
    "- Find the smallest value.\n",
    "- Find the largest value."
   ]
  },
  {
   "cell_type": "code",
   "execution_count": 110,
   "metadata": {},
   "outputs": [
    {
     "name": "stdout",
     "output_type": "stream",
     "text": [
      "0.5530970721842713\n",
      "0.29507601826737473\n",
      "0.5691848867124183\n",
      "0.015456616528867428\n",
      "0.015456616528867428\n",
      "0.9900538501042633\n"
     ]
    }
   ],
   "source": [
    "x= np.random.rand(50)\n",
    "print(x.mean())\n",
    "print(x.std())\n",
    "print(np.median(x))\n",
    "print(x.min())\n",
    "print(x.max())\n"
   ]
  },
  {
   "attachments": {},
   "cell_type": "markdown",
   "metadata": {},
   "source": [
    "24. What are the differences between Pandas Series and NumPy arrays?"
   ]
  },
  {
   "attachments": {},
   "cell_type": "markdown",
   "metadata": {},
   "source": [
    "in panda you can set indexing method in array, you can also name your rows and columns and you can retrive date by the name of the array, unlike in numpy , arrays could be just indexed by the default indexing method!"
   ]
  },
  {
   "attachments": {},
   "cell_type": "markdown",
   "metadata": {},
   "source": [
    "25. Create a 5-element series with different data types, with an index of capital letters."
   ]
  },
  {
   "cell_type": "code",
   "execution_count": 112,
   "metadata": {},
   "outputs": [
    {
     "data": {
      "text/plain": [
       "A            1.5\n",
       "B              7\n",
       "C          Fenyx\n",
       "D      [1, 3, 4]\n",
       "E    {8, 5, 6.7}\n",
       "dtype: object"
      ]
     },
     "execution_count": 112,
     "metadata": {},
     "output_type": "execute_result"
    }
   ],
   "source": [
    "x = [1.5, 7, 'Fenyx',[1,3,4],{5,6.7,8}]\n",
    "pd.Series(x, index = [\"A\", \"B\", \"C\",\"D\",\"E\"])"
   ]
  },
  {
   "attachments": {},
   "cell_type": "markdown",
   "metadata": {},
   "source": [
    "26. Create a 5-element dictionary with keys as country names and values as capitals and turn it into a series. An example: ` \"france\" : \"paris\"`)."
   ]
  },
  {
   "cell_type": "code",
   "execution_count": 164,
   "metadata": {},
   "outputs": [
    {
     "data": {
      "text/plain": [
       "Netherlands    Amsterdam\n",
       "Hungary         Budapest\n",
       "Yemen              Sanaa\n",
       "Germany           Berlin\n",
       "Egypt              Cairo\n",
       "dtype: object"
      ]
     },
     "execution_count": 164,
     "metadata": {},
     "output_type": "execute_result"
    }
   ],
   "source": [
    "x = {\"Netherlands\": \"Amsterdam\", \"Hungary\": \"Budapest\", \"Yemen\": \"Sanaa\", \"Germany\": \"Berlin\", \"Egypt\": \"Cairo\"}\n",
    "pd.Series(x)"
   ]
  },
  {
   "attachments": {},
   "cell_type": "markdown",
   "metadata": {},
   "source": [
    "27. Create a random vector with 10 elements.\n",
    "- Convert the vector to series and with strings as indeces. For example, a,b,c,d,e,f,g..\n",
    "- Retrieve the 3rd element of the series using the index name (for example: c).\n",
    "- Retrieve the 1st element of the series using the index number.\n",
    "- Access the 2nd and 7th elements of the series at the same time, using the index name. (Example: values corresponding to index b and g)"
   ]
  },
  {
   "cell_type": "code",
   "execution_count": 124,
   "metadata": {},
   "outputs": [
    {
     "name": "stdout",
     "output_type": "stream",
     "text": [
      "[51 92 14 71 60 20 82 86 74 74]\n",
      "14\n",
      "51\n",
      "92 82\n"
     ]
    }
   ],
   "source": [
    "np.random.seed(42)\n",
    "x = np.random.randint(100, size=10)\n",
    "print(x)\n",
    "s= pd.Series(x, index = [\"A\", \"B\", \"C\",\"D\",\"E\",\"F\",\"G\",\"H\",\"I\",\"J\"])\n",
    "print(s['C'])\n",
    "print(s[0])\n",
    "print(s['B'] , s['G'])"
   ]
  },
  {
   "attachments": {},
   "cell_type": "markdown",
   "metadata": {},
   "source": [
    "28. Create two 5-element series with elements of your choice with default index.\n",
    "- Combine the series you have created.\n",
    "- Arrange the index of the resulting concatenated 10-element series from 1 to 10."
   ]
  },
  {
   "cell_type": "code",
   "execution_count": 149,
   "metadata": {},
   "outputs": [
    {
     "name": "stdout",
     "output_type": "stream",
     "text": [
      "0    a\n",
      "1    b\n",
      "2    c\n",
      "3    d\n",
      "4    e\n",
      "0    f\n",
      "1    g\n",
      "2    h\n",
      "3    i\n",
      "4    j\n",
      "dtype: object\n",
      "1     a\n",
      "2     b\n",
      "3     c\n",
      "4     d\n",
      "5     e\n",
      "6     f\n",
      "7     g\n",
      "8     h\n",
      "9     i\n",
      "10    j\n",
      "dtype: object\n"
     ]
    },
    {
     "name": "stderr",
     "output_type": "stream",
     "text": [
      "C:\\Users\\ghass\\AppData\\Local\\Temp\\ipykernel_16804\\1732683939.py:3: FutureWarning: The series.append method is deprecated and will be removed from pandas in a future version. Use pandas.concat instead.\n",
      "  print(s1.append(s2))\n"
     ]
    }
   ],
   "source": [
    "s1= pd.Series([\"a\", \"b\", \"c\", \"d\",\"e\"])\n",
    "s2= pd.Series([\"f\", \"g\", \"h\", \"i\",\"j\"])\n",
    "print(s1.append(s2))\n",
    "z= pd.concat([s1, s2], axis = 0)\n",
    "z.index= np.arange(1,(len(s1) + len(s2))+1)\n",
    "print(z)"
   ]
  },
  {
   "attachments": {},
   "cell_type": "markdown",
   "metadata": {},
   "source": [
    "**Bonus homework**:\n",
    "\n",
    "\n",
    "Generate two 20x20 matrices with values between 0 and 1 randomly in a loop and take the difference of these\n",
    "matrices. Repeat this process until all elements on the diagonal of the difference matrix\n",
    "is between -0.1 and 0.1. When the desired matrix is found, let the program stop\n",
    "and print the total number of cycles, how long it took, and the desired matrix\n",
    "with print.\n",
    "\n",
    "\n",
    "Tip: Finding the 20 x 20 matrix can take hours. Therefore, to test the accuracy\n",
    "of your algorithm, you can first try it on small matrices such as 4x4, 5x5. And\n",
    "you can try the latest 20x20 by increasing the number of matrix. (You can do\n",
    "the matrix generation with the np.random.random((a,b)) function. It generates\n",
    "an array of desired sizes between 0-1.)\n"
   ]
  },
  {
   "cell_type": "code",
   "execution_count": null,
   "metadata": {},
   "outputs": [],
   "source": [
    "# YOUR CODE HERE"
   ]
  }
 ],
 "metadata": {
  "kernelspec": {
   "display_name": "Python 3",
   "language": "python",
   "name": "python3"
  },
  "language_info": {
   "codemirror_mode": {
    "name": "ipython",
    "version": 3
   },
   "file_extension": ".py",
   "mimetype": "text/x-python",
   "name": "python",
   "nbconvert_exporter": "python",
   "pygments_lexer": "ipython3",
   "version": "3.10.6"
  },
  "orig_nbformat": 4,
  "vscode": {
   "interpreter": {
    "hash": "4f58e81c2e092e1deee7556cb116668ef0b81c0e3f6aa3662faaf88ffce4bde0"
   }
  }
 },
 "nbformat": 4,
 "nbformat_minor": 2
}
