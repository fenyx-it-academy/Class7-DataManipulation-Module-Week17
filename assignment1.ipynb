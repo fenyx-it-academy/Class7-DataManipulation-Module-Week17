{
 "cells": [
  {
   "cell_type": "markdown",
   "metadata": {},
   "source": [
    "## Data Manipulation module\n",
    "### Homework assignment 1\n",
    "\n",
    "Welcome to the first homework assignment of the data manipulation module. In this assignment you will be working with NumPy and Pandas Series. The goal of this assignment is to get you familiar with these libraries and data types.\n",
    "\n",
    "### Instructions\n",
    "Read the exercises carefully and implement the requested functionality. Add your code in the cells provided with `YOUR CODE HERE` or `YOUR ANSWER HERE`. You can add cells if you need to. **Make sure to use NumPy methods** to find your answers. In some cases you might be able to read the answer, but we want to see you using the NumPy methods.\n",
    "\n",
    "### Hand-in\n",
    "To hand in your assignment, fork this notebook and commit your changes, then make a pull request to the original repository. The deadline for handing in the assignment is **Wednesday 18-01 23:59**."
   ]
  },
  {
   "cell_type": "code",
   "execution_count": 2,
   "metadata": {},
   "outputs": [],
   "source": [
    "# imports, no need to edit\n",
    "\n",
    "import numpy as np\n",
    "import pandas as pd\n",
    "\n",
    "np.random.seed(42)"
   ]
  },
  {
   "cell_type": "markdown",
   "metadata": {},
   "source": [
    "1. Explain the difference between a vector and matrix in NumPy in one sentence."
   ]
  },
  {
   "cell_type": "markdown",
   "metadata": {},
   "source": [
    "A vecotor is one dimensional array while a matrix is 2d\n"
   ]
  },
  {
   "cell_type": "markdown",
   "metadata": {},
   "source": [
    "2. Construct a NumPy Array from a list of 10 elements."
   ]
  },
  {
   "cell_type": "code",
   "execution_count": 3,
   "metadata": {},
   "outputs": [
    {
     "data": {
      "text/plain": [
       "array([ 0,  1,  2,  3,  4,  5,  6,  7,  8,  9, 10])"
      ]
     },
     "execution_count": 3,
     "metadata": {},
     "output_type": "execute_result"
    }
   ],
   "source": [
    "# YOUR CODE HERE\n",
    "\n",
    "lis= list (range(11))\n",
    "lis= np.array(lis)\n",
    "lis"
   ]
  },
  {
   "cell_type": "markdown",
   "metadata": {},
   "source": [
    "3. Construct a 10x10 matrix filled with '0's of the integer data type."
   ]
  },
  {
   "cell_type": "code",
   "execution_count": 4,
   "metadata": {},
   "outputs": [
    {
     "data": {
      "text/plain": [
       "array([[0, 0, 0, 0, 0, 0, 0, 0, 0, 0],\n",
       "       [0, 0, 0, 0, 0, 0, 0, 0, 0, 0],\n",
       "       [0, 0, 0, 0, 0, 0, 0, 0, 0, 0],\n",
       "       [0, 0, 0, 0, 0, 0, 0, 0, 0, 0],\n",
       "       [0, 0, 0, 0, 0, 0, 0, 0, 0, 0],\n",
       "       [0, 0, 0, 0, 0, 0, 0, 0, 0, 0],\n",
       "       [0, 0, 0, 0, 0, 0, 0, 0, 0, 0],\n",
       "       [0, 0, 0, 0, 0, 0, 0, 0, 0, 0],\n",
       "       [0, 0, 0, 0, 0, 0, 0, 0, 0, 0],\n",
       "       [0, 0, 0, 0, 0, 0, 0, 0, 0, 0]], dtype=int64)"
      ]
     },
     "execution_count": 4,
     "metadata": {},
     "output_type": "execute_result"
    }
   ],
   "source": [
    "# YOUR CODE HERE\n",
    "z=np.zeros((10,10), dtype=np.int64)\n",
    "z"
   ]
  },
  {
   "cell_type": "markdown",
   "metadata": {},
   "source": [
    "4. Construct a 10x10 matrix filled with '1's, data type float."
   ]
  },
  {
   "cell_type": "code",
   "execution_count": 6,
   "metadata": {},
   "outputs": [
    {
     "data": {
      "text/plain": [
       "array([[1., 1., 1., 1., 1., 1., 1., 1., 1., 1.],\n",
       "       [1., 1., 1., 1., 1., 1., 1., 1., 1., 1.],\n",
       "       [1., 1., 1., 1., 1., 1., 1., 1., 1., 1.],\n",
       "       [1., 1., 1., 1., 1., 1., 1., 1., 1., 1.],\n",
       "       [1., 1., 1., 1., 1., 1., 1., 1., 1., 1.],\n",
       "       [1., 1., 1., 1., 1., 1., 1., 1., 1., 1.],\n",
       "       [1., 1., 1., 1., 1., 1., 1., 1., 1., 1.],\n",
       "       [1., 1., 1., 1., 1., 1., 1., 1., 1., 1.],\n",
       "       [1., 1., 1., 1., 1., 1., 1., 1., 1., 1.],\n",
       "       [1., 1., 1., 1., 1., 1., 1., 1., 1., 1.]])"
      ]
     },
     "execution_count": 6,
     "metadata": {},
     "output_type": "execute_result"
    }
   ],
   "source": [
    "# YOUR CODE HERE\n",
    "o=np.ones((10,10), dtype=np.float64)\n",
    "o"
   ]
  },
  {
   "cell_type": "markdown",
   "metadata": {},
   "source": [
    "5. Construct a 10x10 matrix filled with '9's of the integer data type."
   ]
  },
  {
   "cell_type": "code",
   "execution_count": 8,
   "metadata": {},
   "outputs": [
    {
     "data": {
      "text/plain": [
       "array([[9, 9, 9, 9, 9, 9, 9, 9, 9, 9],\n",
       "       [9, 9, 9, 9, 9, 9, 9, 9, 9, 9],\n",
       "       [9, 9, 9, 9, 9, 9, 9, 9, 9, 9],\n",
       "       [9, 9, 9, 9, 9, 9, 9, 9, 9, 9],\n",
       "       [9, 9, 9, 9, 9, 9, 9, 9, 9, 9],\n",
       "       [9, 9, 9, 9, 9, 9, 9, 9, 9, 9],\n",
       "       [9, 9, 9, 9, 9, 9, 9, 9, 9, 9],\n",
       "       [9, 9, 9, 9, 9, 9, 9, 9, 9, 9],\n",
       "       [9, 9, 9, 9, 9, 9, 9, 9, 9, 9],\n",
       "       [9, 9, 9, 9, 9, 9, 9, 9, 9, 9]], dtype=int64)"
      ]
     },
     "execution_count": 8,
     "metadata": {},
     "output_type": "execute_result"
    }
   ],
   "source": [
    "# YOUR CODE HERE\n",
    "n= z +9\n",
    "n"
   ]
  },
  {
   "cell_type": "markdown",
   "metadata": {},
   "source": [
    "6. Construct a one-dimensional array with values between 5 and 25 that jumps with steps of 3 (`[5, 8, ...]`)"
   ]
  },
  {
   "cell_type": "code",
   "execution_count": 10,
   "metadata": {},
   "outputs": [
    {
     "data": {
      "text/plain": [
       "array([ 5,  8, 11, 14, 17, 20, 23])"
      ]
     },
     "execution_count": 10,
     "metadata": {},
     "output_type": "execute_result"
    }
   ],
   "source": [
    "\n",
    "# YOUR CODE HERE\n",
    "r=np.arange (5,25,3)\n",
    "r"
   ]
  },
  {
   "cell_type": "markdown",
   "metadata": {},
   "source": [
    "7. Create an array of size 30 with evenly spaced values between -1 and 1."
   ]
  },
  {
   "cell_type": "code",
   "execution_count": 11,
   "metadata": {},
   "outputs": [
    {
     "data": {
      "text/plain": [
       "array([-1.        , -0.93103448, -0.86206897, -0.79310345, -0.72413793,\n",
       "       -0.65517241, -0.5862069 , -0.51724138, -0.44827586, -0.37931034,\n",
       "       -0.31034483, -0.24137931, -0.17241379, -0.10344828, -0.03448276,\n",
       "        0.03448276,  0.10344828,  0.17241379,  0.24137931,  0.31034483,\n",
       "        0.37931034,  0.44827586,  0.51724138,  0.5862069 ,  0.65517241,\n",
       "        0.72413793,  0.79310345,  0.86206897,  0.93103448,  1.        ])"
      ]
     },
     "execution_count": 11,
     "metadata": {},
     "output_type": "execute_result"
    }
   ],
   "source": [
    "# YOUR CODE HERE\n",
    "a30=np.linspace(-1, 1, num=30)\n",
    "a30"
   ]
  },
  {
   "cell_type": "markdown",
   "metadata": {},
   "source": [
    "8. Construct a 5x6 matrix with integers from 0 to 30."
   ]
  },
  {
   "cell_type": "code",
   "execution_count": 14,
   "metadata": {},
   "outputs": [
    {
     "data": {
      "text/plain": [
       "array([[ 0,  1,  2,  3,  4,  5],\n",
       "       [ 6,  7,  8,  9, 10, 11],\n",
       "       [12, 13, 14, 15, 16, 17],\n",
       "       [18, 19, 20, 21, 22, 23],\n",
       "       [24, 25, 26, 27, 28, 29]])"
      ]
     },
     "execution_count": 14,
     "metadata": {},
     "output_type": "execute_result"
    }
   ],
   "source": [
    "# YOUR CODE HERE\n",
    "i= np.arange(30)\n",
    "i.reshape(5,6)"
   ]
  },
  {
   "cell_type": "markdown",
   "metadata": {},
   "source": [
    "9. Create an array of 30 random integers and sort it in ascending order."
   ]
  },
  {
   "cell_type": "code",
   "execution_count": 22,
   "metadata": {},
   "outputs": [
    {
     "data": {
      "text/plain": [
       "array([ 0,  1,  1,  2,  2,  3,  4,  5,  6,  6,  7,  7,  9, 10, 10, 10, 11,\n",
       "       11, 11, 11, 14, 14, 14, 15, 16, 18, 18, 18, 19, 19])"
      ]
     },
     "execution_count": 22,
     "metadata": {},
     "output_type": "execute_result"
    }
   ],
   "source": [
    "# YOUR CODE HERE\n",
    "np.random.seed(42)\n",
    "rand= np.random.randint(20 , size=30)\n",
    "rand.sort()\n",
    "rand"
   ]
  },
  {
   "cell_type": "markdown",
   "metadata": {},
   "source": [
    "10. Construct a 5x10 matrix filled with the value 1 at each location. Print the following details about this matrix:\n",
    "- number of elements\n",
    "- shape of the matrix\n",
    "- the data type (using numpy methods)\n"
   ]
  },
  {
   "cell_type": "code",
   "execution_count": 28,
   "metadata": {},
   "outputs": [
    {
     "name": "stdout",
     "output_type": "stream",
     "text": [
      "number of elements: 50\n",
      "shape of the matrix (50,)\n",
      "the data type: float64\n"
     ]
    }
   ],
   "source": [
    "# YOUR CODE HERE\n",
    "o= np.ones((5*10))\n",
    "print (f\"number of elements: {o.size}\")\n",
    "print (f\"shape of the matrix {o.shape}\")\n",
    "print (f\"the data type: {o.dtype}\")\n"
   ]
  },
  {
   "cell_type": "markdown",
   "metadata": {},
   "source": [
    "11. Construct a 3x4x7 matrix with random integer values between 0 and 10 (a 3D matrix will be created).\n"
   ]
  },
  {
   "cell_type": "code",
   "execution_count": 32,
   "metadata": {},
   "outputs": [
    {
     "data": {
      "text/plain": [
       "array([[[6, 3, 7, 4, 6, 9, 2],\n",
       "        [6, 7, 4, 3, 7, 7, 2],\n",
       "        [5, 4, 1, 7, 5, 1, 4],\n",
       "        [0, 9, 5, 8, 0, 9, 2]],\n",
       "\n",
       "       [[6, 3, 8, 2, 4, 2, 6],\n",
       "        [4, 8, 6, 1, 3, 8, 1],\n",
       "        [9, 8, 9, 4, 1, 3, 6],\n",
       "        [7, 2, 0, 3, 1, 7, 3]],\n",
       "\n",
       "       [[1, 5, 5, 9, 3, 5, 1],\n",
       "        [9, 1, 9, 3, 7, 6, 8],\n",
       "        [7, 4, 1, 4, 7, 9, 8],\n",
       "        [8, 0, 8, 6, 8, 7, 0]]])"
      ]
     },
     "execution_count": 32,
     "metadata": {},
     "output_type": "execute_result"
    }
   ],
   "source": [
    "# YOUR CODE HERE\n",
    "np.random.seed(42)\n",
    "d= np.random.randint(10, size=(3,4,7))\n",
    "d"
   ]
  },
  {
   "cell_type": "markdown",
   "metadata": {},
   "source": [
    "12. Create an array of 20 random integers and reshape it into a 4x5 matrix."
   ]
  },
  {
   "cell_type": "code",
   "execution_count": 35,
   "metadata": {},
   "outputs": [
    {
     "data": {
      "text/plain": [
       "array([[61, 87, 36, 98, 43],\n",
       "       [85, 90, 34, 64, 98],\n",
       "       [46, 77,  2,  0,  4],\n",
       "       [89, 13, 26,  8, 78]])"
      ]
     },
     "execution_count": 35,
     "metadata": {},
     "output_type": "execute_result"
    }
   ],
   "source": [
    "# YOUR CODE HERE\n",
    "\n",
    "aa= np.random.randint ( 100,size=20)\n",
    "aa.reshape ( 4,5)\n"
   ]
  },
  {
   "cell_type": "markdown",
   "metadata": {},
   "source": [
    "13. Construct a one-dimensional array by concetanating 4 separate one-dimensional arrays."
   ]
  },
  {
   "cell_type": "code",
   "execution_count": 41,
   "metadata": {},
   "outputs": [
    {
     "data": {
      "text/plain": [
       "array([ 0,  1,  2,  3,  4,  5,  6,  7,  8,  9, 10, 11, 12, 13, 14, 15, 16,\n",
       "       17, 18, 19])"
      ]
     },
     "execution_count": 41,
     "metadata": {},
     "output_type": "execute_result"
    }
   ],
   "source": [
    "# YOUR CODE HERE\n",
    "first=np.arange(5)\n",
    "second=np.arange(5,10)\n",
    "third =np.arange(10,15)\n",
    "fourth=np.arange(15,20)\n",
    "all=np.concatenate ( (first , second,third,fourth) ) \n",
    "all"
   ]
  },
  {
   "cell_type": "markdown",
   "metadata": {},
   "source": [
    "14. Create a vector of length 3 (3x1) and a matrix of size 3x3. Combine these two arrays on a\n",
    "    column-by-column basis using numpy methods.\n"
   ]
  },
  {
   "cell_type": "code",
   "execution_count": 47,
   "metadata": {},
   "outputs": [
    {
     "data": {
      "text/plain": [
       "array([[1., 1., 1.],\n",
       "       [0., 0., 0.],\n",
       "       [0., 0., 0.],\n",
       "       [0., 0., 0.]])"
      ]
     },
     "execution_count": 47,
     "metadata": {},
     "output_type": "execute_result"
    }
   ],
   "source": [
    "# YOUR CODE HERE\n",
    "\n",
    "v=np.array([1,1,1])\n",
    "m=np.zeros((3,3))\n",
    "np.vstack((v,m))\n",
    "#did not understand what a 'column-by-column basis' means though"
   ]
  },
  {
   "cell_type": "markdown",
   "metadata": {},
   "source": [
    "15. What is the difference between \"axis=1\" and \"axis=0\" in Numpy functions? "
   ]
  },
  {
   "cell_type": "markdown",
   "metadata": {},
   "source": [
    "axis=0 the operation will be applied on every column ( vertical movement) \n",
    "axis=1 :the operation will be applied on every row ( horizantal  movement) "
   ]
  },
  {
   "cell_type": "markdown",
   "metadata": {},
   "source": [
    "16. Create a random 1D vector with 20 elements. Find the 3rd, 5th and 7th elements of this vector.\n"
   ]
  },
  {
   "cell_type": "code",
   "execution_count": 53,
   "metadata": {},
   "outputs": [
    {
     "name": "stdout",
     "output_type": "stream",
     "text": [
      "3\n",
      "5\n",
      "7\n"
     ]
    }
   ],
   "source": [
    "# YOUR CODE HERE\n",
    "b= np.arange ( 1,21)\n",
    "print( b[2])\n",
    "print(b[4])\n",
    "print(b[6])"
   ]
  },
  {
   "cell_type": "markdown",
   "metadata": {},
   "source": [
    "17. Create a random vector with 10 elements and replace the 4th element of this array with a different number."
   ]
  },
  {
   "cell_type": "code",
   "execution_count": 57,
   "metadata": {},
   "outputs": [
    {
     "name": "stdout",
     "output_type": "stream",
     "text": [
      "[0 1 2 3 4 5 6 7 8 9]\n",
      "[ 0  1  2 99  4  5  6  7  8  9]\n"
     ]
    }
   ],
   "source": [
    "# YOUR CODE HERE\n",
    " \n",
    "dt= np.arange(10)\n",
    "print ( dt)\n",
    "dt[3]=99\n",
    "print ( dt)"
   ]
  },
  {
   "cell_type": "markdown",
   "metadata": {},
   "source": [
    "18. Look up the concepts of *diagonal matrix* and *trace matrix* online and write a small explanation about what they are.\n"
   ]
  },
  {
   "cell_type": "markdown",
   "metadata": {},
   "source": [
    "- Diagonal matrix is a 2d matrix, where all its element other than the main diagnosal are zeros. Its shape can be square or rectagle, in the last case, all elements other than items(i,i) are zeros.\n",
    "- the trace of a matrix is the sum of all elements in its main diagnosal, it is defined only for a square matrix"
   ]
  },
  {
   "cell_type": "markdown",
   "metadata": {},
   "source": [
    "19. Create a 5x5 diagonal matrix with elements of your choosing. What are the indexes of the diagonal?\n"
   ]
  },
  {
   "cell_type": "code",
   "execution_count": 67,
   "metadata": {},
   "outputs": [
    {
     "name": "stdout",
     "output_type": "stream",
     "text": [
      "[[1. 0. 0. 0. 0.]\n",
      " [0. 2. 0. 0. 0.]\n",
      " [0. 0. 3. 0. 0.]\n",
      " [0. 0. 0. 4. 0.]\n",
      " [0. 0. 0. 0. 5.]]\n",
      " indices are : (array([0, 1, 2, 3, 4]), array([0, 1, 2, 3, 4]))\n"
     ]
    }
   ],
   "source": [
    "# YOUR CODE HERE\n",
    "diagnosal = np.zeros ( (5,5))\n",
    "l=[1,2,3,4,5]\n",
    "np.fill_diagonal ( diagnosal, l )\n",
    "print (diagnosal)\n",
    "print (f\" indices are : {np.diag_indices(5)}\")\n"
   ]
  },
  {
   "cell_type": "markdown",
   "metadata": {},
   "source": [
    "20. Create a vector that ranges from 10 to 20. Print the values from the 3rd index to the last index.\n"
   ]
  },
  {
   "cell_type": "code",
   "execution_count": 69,
   "metadata": {},
   "outputs": [
    {
     "data": {
      "text/plain": [
       "array([12, 13, 14, 15, 16, 17, 18, 19])"
      ]
     },
     "execution_count": 69,
     "metadata": {},
     "output_type": "execute_result"
    }
   ],
   "source": [
    "# YOUR CODE HERE\n",
    "w= np.arange ( 10,20)\n",
    "w[2:]"
   ]
  },
  {
   "cell_type": "markdown",
   "metadata": {},
   "source": [
    "21. Construct a 10x10 matrix with random elements and perform the following indexing tasks on it. Each task should be a single indexing operation.\n",
    " - Retrieve column 5 of row 3. Moreover;\n",
    " - Retrieve all elements of column 5.\n",
    " - Retrieve the 2nd row of all columns.\n",
    " - Retrieve row 2 through 7 of all columns.\n",
    " - Retrieve values with row index 2 to 5 and column index 3 to 7.\n",
    " - Retrieve the values from row index 5 to the end and column index from the top to 4.\n",
    " - Replace the value corresponding to the 5th row and the 5th column with your year of birth."
   ]
  },
  {
   "cell_type": "code",
   "execution_count": 73,
   "metadata": {},
   "outputs": [
    {
     "name": "stdout",
     "output_type": "stream",
     "text": [
      "[[6 3 7 4 6 9 2 6 7 4]\n",
      " [3 7 7 2 5 4 1 7 5 1]\n",
      " [4 0 9 5 8 0 9 2 6 3]\n",
      " [8 2 4 2 6 4 8 6 1 3]\n",
      " [8 1 9 8 9 4 1 3 6 7]\n",
      " [2 0 3 1 7 3 1 5 5 9]\n",
      " [3 5 1 9 1 9 3 7 6 8]\n",
      " [7 4 1 4 7 9 8 8 0 8]\n",
      " [6 8 7 0 7 7 2 0 7 2]\n",
      " [2 0 4 9 6 9 8 6 8 7]]\n",
      "column 5 of row 3 : 4\n",
      "all elements of column 5: [9 4 0 4 4 3 9 9 7 9]\n",
      "the 2nd row of all columns: [4 0 9 5 8 0 9 2 6 3]\n",
      " row 2 through 7 of all columns. : [[4 0 9 5 8 0 9 2 6 3]\n",
      " [8 2 4 2 6 4 8 6 1 3]\n",
      " [8 1 9 8 9 4 1 3 6 7]\n",
      " [2 0 3 1 7 3 1 5 5 9]\n",
      " [3 5 1 9 1 9 3 7 6 8]\n",
      " [7 4 1 4 7 9 8 8 0 8]]\n",
      "values with row index 2 to 5 and column index 3 to 7. : [[5 8 0 9 2]\n",
      " [2 6 4 8 6]\n",
      " [8 9 4 1 3]\n",
      " [1 7 3 1 5]]\n",
      "values from row index 5 to the end and column index from the top to 4. : [[2 0 3 1 7]\n",
      " [3 5 1 9 1]\n",
      " [7 4 1 4 7]\n",
      " [6 8 7 0 7]\n",
      " [2 0 4 9 6]]\n",
      "[[   6    3    7    4    6    9    2    6    7    4]\n",
      " [   3    7    7    2    5    4    1    7    5    1]\n",
      " [   4    0    9    5    8    0    9    2    6    3]\n",
      " [   8    2    4    2    6    4    8    6    1    3]\n",
      " [   8    1    9    8 1993    4    1    3    6    7]\n",
      " [   2    0    3    1    7    3    1    5    5    9]\n",
      " [   3    5    1    9    1    9    3    7    6    8]\n",
      " [   7    4    1    4    7    9    8    8    0    8]\n",
      " [   6    8    7    0    7    7    2    0    7    2]\n",
      " [   2    0    4    9    6    9    8    6    8    7]]\n"
     ]
    }
   ],
   "source": [
    "\n",
    "# YOUR CODE HERE\n",
    "np.random.seed(42)\n",
    "ra= np.random.randint(10, size=(10,10))\n",
    "print ( ra)\n",
    "\n",
    "print ( f\"column 5 of row 3 : {ra[3,5]}\" )\n",
    "print ( f\"all elements of column 5: {ra[:,5]}\" )\n",
    "print ( f\"the 2nd row of all columns: {ra[2,:]}\" )\n",
    "print ( f\" row 2 through 7 of all columns. : {ra[2:8,:]}\" )\n",
    "print ( f\"values with row index 2 to 5 and column index 3 to 7. : {ra[2:6,3:8]}\" )\n",
    "print ( f\"values from row index 5 to the end and column index from the top to 4. : {ra[5:,:5]}\" )\n",
    "ra[4,4]=1993\n",
    "print ( ra)"
   ]
  },
  {
   "cell_type": "markdown",
   "metadata": {},
   "source": [
    "22. Construct a one-dimensional array from 0 to 50 jumping with steps of 5 (`[5, 10, ...]`). Use the numpy methods to perform the following tasks;\n",
    "- Print all values greater than 20.\n",
    "- Print all values less than 30.\n",
    "- How many values are 33 in it?\n",
    "- Multiply all the elements of the created array by 5."
   ]
  },
  {
   "cell_type": "code",
   "execution_count": 77,
   "metadata": {},
   "outputs": [
    {
     "name": "stdout",
     "output_type": "stream",
     "text": [
      "[ 0  5 10 15 20 25 30 35 40 45]\n",
      " all values greater than 20 [25 30 35 40 45]\n",
      "  all values less than 30. [ 0  5 10 15 20 25]\n",
      " How many values are 33 in it? 0\n"
     ]
    },
    {
     "data": {
      "text/plain": [
       "array([  0,  25,  50,  75, 100, 125, 150, 175, 200, 225])"
      ]
     },
     "execution_count": 77,
     "metadata": {},
     "output_type": "execute_result"
    }
   ],
   "source": [
    "# YOUR CODE HERE\n",
    "y= np.arange ( 0,50, 5)\n",
    "print ( y)\n",
    "print ( f\" all values greater than 20 { y[y>20]}\")\n",
    "print ( f\"  all values less than 30. { y[y<30]}\")\n",
    "\n",
    "# did not understand what does 'values are 33 in it' mean ?\n",
    "print ( f\" How many values are 33 in it? { len( y[y==33])}\")\n",
    "y*=5\n",
    "y"
   ]
  },
  {
   "cell_type": "markdown",
   "metadata": {},
   "source": [
    "23. Construct an array of 50 random floats between 0 and 1 and take the average. Moreover;\n",
    "- Get the standard deviation.\n",
    "- Get the variance.\n",
    "- Take the median.\n",
    "- Find the smallest value.\n",
    "- Find the largest value."
   ]
  },
  {
   "cell_type": "code",
   "execution_count": 88,
   "metadata": {},
   "outputs": [
    {
     "name": "stdout",
     "output_type": "stream",
     "text": [
      "the standard deviation.0.2673340006927679\n",
      "the variance: 0.07146746792640082\n",
      "the median : 0.4974965783282541\n",
      " smallest value 0.04340078329817276\n",
      " largest value 0.9779006687542708\n"
     ]
    }
   ],
   "source": [
    "# YOUR CODE HERE\n",
    "f= np.random.rand(1,50 )\n",
    "print (f\"the standard deviation.{np.std(f)}\")\n",
    "print (f\"the variance: {np.var(f)}\")\n",
    "print (f\"the median : {np.median (f)}\")\n",
    "print (f\" smallest value {f.min()}\")\n",
    "print (f\" largest value {f.max()}\")"
   ]
  },
  {
   "cell_type": "markdown",
   "metadata": {},
   "source": [
    "24. What are the differences between Pandas Series and NumPy arrays?"
   ]
  },
  {
   "cell_type": "markdown",
   "metadata": {},
   "source": [
    "NumPy arrays can only store elements of the same data type, whereas Pandas Series can store elements of different data types."
   ]
  },
  {
   "cell_type": "markdown",
   "metadata": {},
   "source": [
    "25. Create a 5-element series with different data types, with an index of capital letters."
   ]
  },
  {
   "cell_type": "code",
   "execution_count": 89,
   "metadata": {},
   "outputs": [
    {
     "data": {
      "text/plain": [
       "A            1\n",
       "B          000\n",
       "C          1.2\n",
       "D    [1, 2, 3]\n",
       "E     {'1': 1}\n",
       "dtype: object"
      ]
     },
     "execution_count": 89,
     "metadata": {},
     "output_type": "execute_result"
    }
   ],
   "source": [
    "# YOUR CODE HERE\n",
    "dic= { 'A' : 1,\n",
    "     'B' : \"000\",\n",
    "     'C': 1.2,\n",
    "     'D' : [1,2,3],\n",
    "     'E': {'1': 1}}\n",
    "pd.Series(dic)"
   ]
  },
  {
   "cell_type": "markdown",
   "metadata": {},
   "source": [
    "26. Create a 5-element dictionary with keys as country names and values as capitals and turn it into a series. An example: ` \"france\" : \"paris\"`)."
   ]
  },
  {
   "cell_type": "code",
   "execution_count": 91,
   "metadata": {},
   "outputs": [
    {
     "data": {
      "text/plain": [
       "France       Paris\n",
       "UK          London\n",
       "USA            WDC\n",
       "UAE       AbuDhabi\n",
       "NL             AMS\n",
       "dtype: object"
      ]
     },
     "execution_count": 91,
     "metadata": {},
     "output_type": "execute_result"
    }
   ],
   "source": [
    "# YOUR CODE HERE\n",
    "c= { 'France' :'Paris',\n",
    "     'UK' : \"London\",\n",
    "     'USA': 'WDC',\n",
    "     'UAE' : 'AbuDhabi',\n",
    "     'NL': 'AMS'}\n",
    "pd.Series(c)"
   ]
  },
  {
   "cell_type": "markdown",
   "metadata": {},
   "source": [
    "27. Create a random vector with 10 elements.\n",
    "- Convert the vector to series and with strings as indeces. For example, a,b,c,d,e,f,g..\n",
    "- Retrieve the 3rd element of the series using the index name (for example: c).\n",
    "- Retrieve the 1st element of the series using the index number.\n",
    "- Access the 2nd and 7th elements of the series at the same time, using the index name. (Example: values corresponding to index b and g)"
   ]
  },
  {
   "cell_type": "code",
   "execution_count": 106,
   "metadata": {},
   "outputs": [
    {
     "name": "stdout",
     "output_type": "stream",
     "text": [
      "a    7\n",
      "b    3\n",
      "c    7\n",
      "d    8\n",
      "e    2\n",
      "f    2\n",
      "g    1\n",
      "h    9\n",
      "i    2\n",
      "j    2\n",
      "dtype: int32\n",
      "  the 3rd element of the series using the index name  7\n",
      "  1st element of the series using the index number  7\n",
      "  2nd : 3 and 7th : 1\n"
     ]
    }
   ],
   "source": [
    "# YOUR CODE HERE\n",
    "vec= np.random.randint (10, size=10)\n",
    "letters='abcdefghij'\n",
    "indeces=[]\n",
    "for i in letters : \n",
    "    indeces.append(i)\n",
    " \n",
    "s=pd.Series (vec, index= indeces)\n",
    "print (s)\n",
    "print (f\"  the 3rd element of the series using the index name  {s['c']}\")\n",
    "print (f\"  1st element of the series using the index number  {s[0]}\")\n",
    "print (f\"  2nd : {s['b']} and 7th : {s['g']}\")\n"
   ]
  },
  {
   "cell_type": "markdown",
   "metadata": {},
   "source": [
    "28. Create two 5-element series with elements of your choice with default index.\n",
    "- Combine the series you have created.\n",
    "- Arrange the index of the resulting concatenated 10-element series from 1 to 10."
   ]
  },
  {
   "cell_type": "code",
   "execution_count": 118,
   "metadata": {},
   "outputs": [
    {
     "name": "stdout",
     "output_type": "stream",
     "text": [
      " Combine the series you have created \n",
      " 0    30\n",
      "1    31\n",
      "2    32\n",
      "3    33\n",
      "4    34\n",
      "5    35\n",
      "0    36\n",
      "1    37\n",
      "2    38\n",
      "3    39\n",
      "dtype: int64\n",
      " Combine the series you have created  \n",
      " 1     30\n",
      "2     31\n",
      "3     32\n",
      "4     33\n",
      "5     34\n",
      "6     35\n",
      "7     36\n",
      "8     37\n",
      "9     38\n",
      "10    39\n",
      "dtype: int64\n"
     ]
    }
   ],
   "source": [
    "# YOUR CODE HERE\n",
    "a1 = list ( range ( 30,36))\n",
    "a2=  list ( range ( 36,40))\n",
    "a1=pd.Series(a1)\n",
    "a2=pd.Series(a2)\n",
    "a3=pd.concat([a1,a2])\n",
    " \n",
    "\n",
    "print (f\" Combine the series you have created \\n {a3}\")\n",
    "a3.index=list ( range ( 1,11))\n",
    "print (f\" Combine the series you have created  \\n {a3}\")\n"
   ]
  },
  {
   "cell_type": "markdown",
   "metadata": {},
   "source": [
    "**Bonus homework**:\n",
    "\n",
    "\n",
    "Generate two 20x20 matrices with values between 0 and 1 randomly in a loop and take the difference of these\n",
    "matrices. Repeat this process until all elements on the diagonal of the difference matrix\n",
    "is between -0.1 and 0.1. When the desired matrix is found, let the program stop\n",
    "and print the total number of cycles, how long it took, and the desired matrix\n",
    "with print.\n",
    "\n",
    "\n",
    "Tip: Finding the 20 x 20 matrix can take hours. Therefore, to test the accuracy\n",
    "of your algorithm, you can first try it on small matrices such as 4x4, 5x5. And\n",
    "you can try the latest 20x20 by increasing the number of matrix. (You can do\n",
    "the matrix generation with the np.random.random((a,b)) function. It generates\n",
    "an array of desired sizes between 0-1.)\n"
   ]
  },
  {
   "cell_type": "code",
   "execution_count": null,
   "metadata": {},
   "outputs": [],
   "source": [
    "# YOUR CODE HERE"
   ]
  }
 ],
 "metadata": {
  "kernelspec": {
   "display_name": "Python 3 (ipykernel)",
   "language": "python",
   "name": "python3"
  },
  "language_info": {
   "codemirror_mode": {
    "name": "ipython",
    "version": 3
   },
   "file_extension": ".py",
   "mimetype": "text/x-python",
   "name": "python",
   "nbconvert_exporter": "python",
   "pygments_lexer": "ipython3",
   "version": "3.9.12"
  },
  "vscode": {
   "interpreter": {
    "hash": "8a94588eda9d64d9e9a351ab8144e55b1fabf5113b54e67dd26a8c27df0381b3"
   }
  }
 },
 "nbformat": 4,
 "nbformat_minor": 2
}
