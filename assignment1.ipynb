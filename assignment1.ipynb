{
 "cells": [
  {
   "attachments": {},
   "cell_type": "markdown",
   "metadata": {},
   "source": [
    "## Data Manipulation module\n",
    "### Homework assignment 1\n",
    "\n",
    "Welcome to the first homework assignment of the data manipulation module. In this assignment you will be working with NumPy and Pandas Series. The goal of this assignment is to get you familiar with these libraries and data types.\n",
    "\n",
    "### Instructions\n",
    "Read the exercises carefully and implement the requested functionality. Add your code in the cells provided with `YOUR CODE HERE` or `YOUR ANSWER HERE`. You can add cells if you need to. **Make sure to use NumPy methods** to find your answers. In some cases you might be able to read the answer, but we want to see you using the NumPy methods.\n",
    "\n",
    "### Hand-in\n",
    "To hand in your assignment, fork this notebook and commit your changes, then make a pull request to the original repository. The deadline for handing in the assignment is **Wednesday 18-01 23:59**."
   ]
  },
  {
   "cell_type": "code",
   "execution_count": 35,
   "metadata": {},
   "outputs": [],
   "source": [
    "# imports, no need to edit\n",
    "\n",
    "import numpy as np\n",
    "import time\n",
    "from numpy import random\n",
    "import pandas as pd\n",
    "\n",
    "np.random.seed(42)"
   ]
  },
  {
   "attachments": {},
   "cell_type": "markdown",
   "metadata": {},
   "source": [
    "1. Explain the difference between a vector and matrix in NumPy in one sentence."
   ]
  },
  {
   "attachments": {},
   "cell_type": "markdown",
   "metadata": {},
   "source": [
    "A vector is a 1-dimensional array and a matrix is a 2-dimensional array in NumPy."
   ]
  },
  {
   "attachments": {},
   "cell_type": "markdown",
   "metadata": {},
   "source": [
    "2. Construct a NumPy Array from a list of 10 elements."
   ]
  },
  {
   "cell_type": "code",
   "execution_count": 36,
   "metadata": {},
   "outputs": [
    {
     "name": "stdout",
     "output_type": "stream",
     "text": [
      "[ 1  2  3  4  5  6  7  8  9 10]\n"
     ]
    }
   ],
   "source": [
    "arr = np.arange(1, 11)\n",
    "print(arr)"
   ]
  },
  {
   "attachments": {},
   "cell_type": "markdown",
   "metadata": {},
   "source": [
    "3. Construct a 10x10 matrix filled with '0's of the integer data type."
   ]
  },
  {
   "cell_type": "code",
   "execution_count": 37,
   "metadata": {},
   "outputs": [
    {
     "name": "stdout",
     "output_type": "stream",
     "text": [
      "[[0. 0. 0. 0. 0. 0. 0. 0. 0. 0.]\n",
      " [0. 0. 0. 0. 0. 0. 0. 0. 0. 0.]\n",
      " [0. 0. 0. 0. 0. 0. 0. 0. 0. 0.]\n",
      " [0. 0. 0. 0. 0. 0. 0. 0. 0. 0.]\n",
      " [0. 0. 0. 0. 0. 0. 0. 0. 0. 0.]\n",
      " [0. 0. 0. 0. 0. 0. 0. 0. 0. 0.]\n",
      " [0. 0. 0. 0. 0. 0. 0. 0. 0. 0.]\n",
      " [0. 0. 0. 0. 0. 0. 0. 0. 0. 0.]\n",
      " [0. 0. 0. 0. 0. 0. 0. 0. 0. 0.]\n",
      " [0. 0. 0. 0. 0. 0. 0. 0. 0. 0.]]\n"
     ]
    }
   ],
   "source": [
    "arr = np.zeros((10,10))\n",
    "print(arr)"
   ]
  },
  {
   "attachments": {},
   "cell_type": "markdown",
   "metadata": {},
   "source": [
    "4. Construct a 10x10 matrix filled with '1's, data type float."
   ]
  },
  {
   "cell_type": "code",
   "execution_count": 38,
   "metadata": {},
   "outputs": [
    {
     "name": "stdout",
     "output_type": "stream",
     "text": [
      "[[1. 1. 1. 1. 1. 1. 1. 1. 1. 1.]\n",
      " [1. 1. 1. 1. 1. 1. 1. 1. 1. 1.]\n",
      " [1. 1. 1. 1. 1. 1. 1. 1. 1. 1.]\n",
      " [1. 1. 1. 1. 1. 1. 1. 1. 1. 1.]\n",
      " [1. 1. 1. 1. 1. 1. 1. 1. 1. 1.]\n",
      " [1. 1. 1. 1. 1. 1. 1. 1. 1. 1.]\n",
      " [1. 1. 1. 1. 1. 1. 1. 1. 1. 1.]\n",
      " [1. 1. 1. 1. 1. 1. 1. 1. 1. 1.]\n",
      " [1. 1. 1. 1. 1. 1. 1. 1. 1. 1.]\n",
      " [1. 1. 1. 1. 1. 1. 1. 1. 1. 1.]]\n"
     ]
    }
   ],
   "source": [
    "arr = np.ones((10,10), dtype=float)\n",
    "print(arr)"
   ]
  },
  {
   "attachments": {},
   "cell_type": "markdown",
   "metadata": {},
   "source": [
    "5. Construct a 10x10 matrix filled with '9's of the integer data type."
   ]
  },
  {
   "cell_type": "code",
   "execution_count": 39,
   "metadata": {},
   "outputs": [
    {
     "name": "stdout",
     "output_type": "stream",
     "text": [
      "[[9 9 9 9 9 9 9 9 9 9]\n",
      " [9 9 9 9 9 9 9 9 9 9]\n",
      " [9 9 9 9 9 9 9 9 9 9]\n",
      " [9 9 9 9 9 9 9 9 9 9]\n",
      " [9 9 9 9 9 9 9 9 9 9]\n",
      " [9 9 9 9 9 9 9 9 9 9]\n",
      " [9 9 9 9 9 9 9 9 9 9]\n",
      " [9 9 9 9 9 9 9 9 9 9]\n",
      " [9 9 9 9 9 9 9 9 9 9]\n",
      " [9 9 9 9 9 9 9 9 9 9]]\n"
     ]
    }
   ],
   "source": [
    "arr = np.full((10,10), 9, dtype=int)\n",
    "print(arr)"
   ]
  },
  {
   "attachments": {},
   "cell_type": "markdown",
   "metadata": {},
   "source": [
    "6. Construct a one-dimensional array with values between 5 and 25 that jumps with steps of 3 (`[5, 8, ...]`)"
   ]
  },
  {
   "cell_type": "code",
   "execution_count": 40,
   "metadata": {},
   "outputs": [
    {
     "name": "stdout",
     "output_type": "stream",
     "text": [
      "[ 5  8 11 14 17 20 23]\n"
     ]
    }
   ],
   "source": [
    "vector = np.arange(start = 5, stop = 25, step = 3)\n",
    "print(vector)"
   ]
  },
  {
   "attachments": {},
   "cell_type": "markdown",
   "metadata": {},
   "source": [
    "7. Create an array of size 30 with evenly spaced values between -1 and 1."
   ]
  },
  {
   "cell_type": "code",
   "execution_count": 41,
   "metadata": {},
   "outputs": [
    {
     "name": "stdout",
     "output_type": "stream",
     "text": [
      "[-1.         -0.93103448 -0.86206897 -0.79310345 -0.72413793 -0.65517241\n",
      " -0.5862069  -0.51724138 -0.44827586 -0.37931034 -0.31034483 -0.24137931\n",
      " -0.17241379 -0.10344828 -0.03448276  0.03448276  0.10344828  0.17241379\n",
      "  0.24137931  0.31034483  0.37931034  0.44827586  0.51724138  0.5862069\n",
      "  0.65517241  0.72413793  0.79310345  0.86206897  0.93103448  1.        ]\n"
     ]
    }
   ],
   "source": [
    "arr = np.linspace(-1, 1, 30)\n",
    "print(arr)"
   ]
  },
  {
   "attachments": {},
   "cell_type": "markdown",
   "metadata": {},
   "source": [
    "8. Construct a 5x6 matrix with integers from 0 to 30."
   ]
  },
  {
   "cell_type": "code",
   "execution_count": 42,
   "metadata": {},
   "outputs": [
    {
     "name": "stdout",
     "output_type": "stream",
     "text": [
      "[[ 0  1  2  3  4  5]\n",
      " [ 6  7  8  9 10 11]\n",
      " [12 13 14 15 16 17]\n",
      " [18 19 20 21 22 23]\n",
      " [24 25 26 27 28 29]]\n"
     ]
    }
   ],
   "source": [
    "arr = np.arange(start = 0, stop = 30).reshape(5,6)\n",
    "print(arr)"
   ]
  },
  {
   "attachments": {},
   "cell_type": "markdown",
   "metadata": {},
   "source": [
    "9. Create an array of 30 random integers and sort it in ascending order."
   ]
  },
  {
   "cell_type": "code",
   "execution_count": 43,
   "metadata": {},
   "outputs": [
    {
     "name": "stdout",
     "output_type": "stream",
     "text": [
      "[ 1  1  2  7 10 10 11 14 18 20 20 21 21 22 23 23 23 24 28 29 32 35 37 38\n",
      " 38 39 42 43 43 48]\n"
     ]
    }
   ],
   "source": [
    "arr = np.random.randint(50, size = 30)\n",
    "print(np.sort(arr))"
   ]
  },
  {
   "attachments": {},
   "cell_type": "markdown",
   "metadata": {},
   "source": [
    "10. Construct a 5x10 matrix filled with the value 1 at each location. Print the following details about this matrix:\n",
    "- number of elements\n",
    "- shape of the matrix\n",
    "- the data type (using numpy methods)\n"
   ]
  },
  {
   "cell_type": "code",
   "execution_count": 44,
   "metadata": {},
   "outputs": [
    {
     "name": "stdout",
     "output_type": "stream",
     "text": [
      "[[1. 1. 1. 1. 1. 1. 1. 1. 1. 1.]\n",
      " [1. 1. 1. 1. 1. 1. 1. 1. 1. 1.]\n",
      " [1. 1. 1. 1. 1. 1. 1. 1. 1. 1.]\n",
      " [1. 1. 1. 1. 1. 1. 1. 1. 1. 1.]\n",
      " [1. 1. 1. 1. 1. 1. 1. 1. 1. 1.]]\n",
      "50\n",
      "(5, 10)\n",
      "float64\n"
     ]
    }
   ],
   "source": [
    "arr = np.ones((5,10))\n",
    "print(arr)\n",
    "print(arr.size)\n",
    "print(arr.shape)\n",
    "print(arr.dtype)"
   ]
  },
  {
   "attachments": {},
   "cell_type": "markdown",
   "metadata": {},
   "source": [
    "11. Construct a 3x4x7 matrix with random integer values between 0 and 10 (a 3D matrix will be created).\n"
   ]
  },
  {
   "cell_type": "code",
   "execution_count": 45,
   "metadata": {},
   "outputs": [
    {
     "name": "stdout",
     "output_type": "stream",
     "text": [
      "[[[9 2 6 3 8 2 4]\n",
      "  [2 6 4 8 6 1 3]\n",
      "  [8 1 9 8 9 4 1]\n",
      "  [3 6 7 2 0 3 1]]\n",
      "\n",
      " [[7 3 1 5 5 9 3]\n",
      "  [5 1 9 1 9 3 7]\n",
      "  [6 8 7 4 1 4 7]\n",
      "  [9 8 8 0 8 6 8]]\n",
      "\n",
      " [[7 0 7 7 2 0 7]\n",
      "  [2 2 0 4 9 6 9]\n",
      "  [8 6 8 7 1 0 6]\n",
      "  [6 7 4 2 7 5 2]]]\n"
     ]
    }
   ],
   "source": [
    "arr = np.random.randint(10, size = (3,4,7))\n",
    "print(arr)"
   ]
  },
  {
   "attachments": {},
   "cell_type": "markdown",
   "metadata": {},
   "source": [
    "12. Create an array of 20 random integers and reshape it into a 4x5 matrix."
   ]
  },
  {
   "cell_type": "code",
   "execution_count": 46,
   "metadata": {},
   "outputs": [
    {
     "name": "stdout",
     "output_type": "stream",
     "text": [
      "[[ 0 34 36 46 13]\n",
      " [ 2  0  4 25 13]\n",
      " [38 26  8 14 14]\n",
      " [25 41 12 31 38]]\n"
     ]
    }
   ],
   "source": [
    "arr = np.random.randint(0, 50, 20)\n",
    "x = np.reshape(arr, (4,5))\n",
    "print(x)"
   ]
  },
  {
   "attachments": {},
   "cell_type": "markdown",
   "metadata": {},
   "source": [
    "13. Construct a one-dimensional array by concetanating 4 separate one-dimensional arrays."
   ]
  },
  {
   "cell_type": "code",
   "execution_count": 47,
   "metadata": {},
   "outputs": [
    {
     "name": "stdout",
     "output_type": "stream",
     "text": [
      "[1 2 3 4 5 6 7 8]\n"
     ]
    }
   ],
   "source": [
    "arr = np.array([1,2])\n",
    "arr2 = np.array([3,4])\n",
    "arr3 = np.array([5,6])\n",
    "arr4 = np.array([7,8])\n",
    "x = np.concatenate((arr, arr2, arr3, arr4))\n",
    "print(x)"
   ]
  },
  {
   "attachments": {},
   "cell_type": "markdown",
   "metadata": {},
   "source": [
    "14. Create a vector of length 3 (3x1) and a matrix of size 3x3. Combine these two arrays on a\n",
    "    column-by-column basis using numpy methods.\n"
   ]
  },
  {
   "cell_type": "code",
   "execution_count": 48,
   "metadata": {},
   "outputs": [
    {
     "name": "stdout",
     "output_type": "stream",
     "text": [
      "[[ 1  4  5  6]\n",
      " [ 2  7  8  9]\n",
      " [ 3 10 11 12]]\n"
     ]
    }
   ],
   "source": [
    "vector = np.array([1,2,3]).reshape(3,1)\n",
    "matrix = np.array([[4,5,6], [7,8,9], [10,11,12]])\n",
    "\n",
    "x = np.hstack((vector, matrix))\n",
    "# x = np.concatenate((vector, matrix), axis=1)\n",
    "print(x)"
   ]
  },
  {
   "attachments": {},
   "cell_type": "markdown",
   "metadata": {},
   "source": [
    "15. What is the difference between \"axis=1\" and \"axis=0\" in Numpy functions? "
   ]
  },
  {
   "attachments": {},
   "cell_type": "markdown",
   "metadata": {},
   "source": [
    "'axis = 0' is the other name of 'row', 'axis = 1' is the other name of 'column'"
   ]
  },
  {
   "attachments": {},
   "cell_type": "markdown",
   "metadata": {},
   "source": [
    "16. Create a random 1D vector with 20 elements. Find the 3rd, 5th and 7th elements of this vector.\n"
   ]
  },
  {
   "cell_type": "code",
   "execution_count": 49,
   "metadata": {},
   "outputs": [
    {
     "name": "stdout",
     "output_type": "stream",
     "text": [
      "[28 29 22]\n"
     ]
    }
   ],
   "source": [
    "arr = np.random.randint(0, 30, 20)\n",
    "x = [2,4,6]\n",
    "print(arr[x])"
   ]
  },
  {
   "attachments": {},
   "cell_type": "markdown",
   "metadata": {},
   "source": [
    "17. Create a random vector with 10 elements and replace the 4th element of this array with a different number."
   ]
  },
  {
   "cell_type": "code",
   "execution_count": 50,
   "metadata": {},
   "outputs": [
    {
     "name": "stdout",
     "output_type": "stream",
     "text": [
      "[ 0.62435405  0.29563369  0.10549426 88.          0.21844044  0.41650995\n",
      "  0.88328026  0.32434502  0.12208795  0.35629784]\n"
     ]
    }
   ],
   "source": [
    "vector = np.random.rand(10)\n",
    "\n",
    "vector[3] = 88\n",
    "\n",
    "print(vector)"
   ]
  },
  {
   "attachments": {},
   "cell_type": "markdown",
   "metadata": {},
   "source": [
    "18. Look up the concepts of *diagonal matrix* and *trace matrix* online and write a small explanation about what they are.\n"
   ]
  },
  {
   "attachments": {},
   "cell_type": "markdown",
   "metadata": {},
   "source": [
    "Diagonal Matrix:\n",
    "A square matrix in which all the non-diagonal elements are zero is called a diagonal matrix. The diagonal elements of a diagonal matrix are the elements that are present in the main diagonal of the matrix.\n",
    "\n",
    "Trace Matrix:\n",
    "Trace of a matrix is the sum of the diagonal elements of a square matrix. It is also known as the diagonal sum of a matrix. The trace of a matrix is represented by the symbol Tr or tr(A). It is only applicable to square matrices."
   ]
  },
  {
   "attachments": {},
   "cell_type": "markdown",
   "metadata": {},
   "source": [
    "19. Create a 5x5 diagonal matrix with elements of your choosing. What are the indexes of the diagonal?\n"
   ]
  },
  {
   "cell_type": "code",
   "execution_count": 51,
   "metadata": {},
   "outputs": [
    {
     "name": "stdout",
     "output_type": "stream",
     "text": [
      "[[1 0 0 0 0]\n",
      " [0 2 0 0 0]\n",
      " [0 0 3 0 0]\n",
      " [0 0 0 4 0]\n",
      " [0 0 0 0 5]]\n",
      "Value 1 is located at index (0, 0)\n",
      "Value 0 is located at index (0, 1)\n",
      "Value 0 is located at index (0, 2)\n",
      "Value 0 is located at index (0, 3)\n",
      "Value 0 is located at index (0, 4)\n",
      "Value 0 is located at index (1, 0)\n",
      "Value 2 is located at index (1, 1)\n",
      "Value 0 is located at index (1, 2)\n",
      "Value 0 is located at index (1, 3)\n",
      "Value 0 is located at index (1, 4)\n",
      "Value 0 is located at index (2, 0)\n",
      "Value 0 is located at index (2, 1)\n",
      "Value 3 is located at index (2, 2)\n",
      "Value 0 is located at index (2, 3)\n",
      "Value 0 is located at index (2, 4)\n",
      "Value 0 is located at index (3, 0)\n",
      "Value 0 is located at index (3, 1)\n",
      "Value 0 is located at index (3, 2)\n",
      "Value 4 is located at index (3, 3)\n",
      "Value 0 is located at index (3, 4)\n",
      "Value 0 is located at index (4, 0)\n",
      "Value 0 is located at index (4, 1)\n",
      "Value 0 is located at index (4, 2)\n",
      "Value 0 is located at index (4, 3)\n",
      "Value 5 is located at index (4, 4)\n"
     ]
    }
   ],
   "source": [
    "arr = [1,2,3,4,5]\n",
    "dia = np.diag(arr)\n",
    "\n",
    "print(dia)\n",
    "\n",
    "for index, value in np.ndenumerate(dia):\n",
    "    print(f\"Value {value} is located at index {index}\")\n",
    "    \n",
    "    \n",
    "# indexes = np.where(dia != 0)\n",
    "# print(indexes)"
   ]
  },
  {
   "attachments": {},
   "cell_type": "markdown",
   "metadata": {},
   "source": [
    "20. Create a vector that ranges from 10 to 20. Print the values from the 3rd index to the last index.\n"
   ]
  },
  {
   "cell_type": "code",
   "execution_count": 52,
   "metadata": {},
   "outputs": [
    {
     "name": "stdout",
     "output_type": "stream",
     "text": [
      "[10 11 12 13 14 15 16 17 18 19 20]\n",
      "[12 13 14 15 16 17 18 19 20]\n"
     ]
    }
   ],
   "source": [
    "vector = np.arange(start = 10, stop = 21)\n",
    "print(vector)\n",
    "\n",
    "print(vector[2:])"
   ]
  },
  {
   "attachments": {},
   "cell_type": "markdown",
   "metadata": {},
   "source": [
    "21. Construct a 10x10 matrix with random elements and perform the following indexing tasks on it. Each task should be a single indexing operation.\n",
    " - Retrieve column 5 of row 3. Moreover;\n",
    " - Retrieve all elements of column 5.\n",
    " - Retrieve the 2nd row of all columns.\n",
    " - Retrieve row 2 through 7 of all columns.\n",
    " - Retrieve values with row index 2 to 5 and column index 3 to 7.\n",
    " - Retrieve the values from row index 5 to the end and column index from the top to 4.\n",
    " - Replace the value corresponding to the 5th row and the 5th column with your year of birth."
   ]
  },
  {
   "cell_type": "code",
   "execution_count": 53,
   "metadata": {},
   "outputs": [
    {
     "name": "stdout",
     "output_type": "stream",
     "text": [
      "[[9.06828442e-01 2.72132249e-01 6.47690121e-01 5.20376995e-04\n",
      "  3.52568856e-01 3.04781258e-01 1.64655853e-01 5.34089419e-01\n",
      "  4.84829971e-01 6.92436033e-01]\n",
      " [2.69412334e-01 2.44125522e-01 1.68291042e-01 2.18764220e-01\n",
      "  5.58102002e-01 4.03836171e-01 6.48922471e-02 2.53915414e-01\n",
      "  2.46876063e-01 6.96304273e-01]\n",
      " [7.12270590e-01 1.48086930e-01 9.97740485e-01 2.66781014e-01\n",
      "  9.76614956e-01 4.11037013e-01 3.30507329e-02 3.45071248e-01\n",
      "  6.34351345e-01 6.80705452e-01]\n",
      " [5.30934583e-01 4.47783165e-01 5.52893089e-01 5.92696724e-01\n",
      "  8.08533263e-02 3.69654456e-01 2.42159938e-01 8.03139756e-01\n",
      "  4.70300634e-01 9.83423141e-01]\n",
      " [3.98824442e-01 8.16431873e-01 7.98345125e-01 1.50717544e-01\n",
      "  5.08198777e-01 6.95812807e-01 8.58358805e-01 3.25958905e-01\n",
      "  2.20241048e-01 7.11149532e-01]\n",
      " [8.09501046e-01 3.48665987e-01 9.61765511e-02 9.40523264e-01\n",
      "  3.97572021e-01 5.17751351e-01 8.37710106e-01 6.75690117e-01\n",
      "  7.35216119e-01 2.09071621e-01]\n",
      " [5.41447974e-01 6.95784399e-01 2.28550022e-01 1.74954927e-01\n",
      "  9.82168343e-01 5.16635891e-01 2.60829175e-01 9.96253700e-01\n",
      "  9.65419351e-01 5.58293454e-01]\n",
      " [8.82636343e-01 1.88707108e-01 2.78871353e-01 7.00357830e-01\n",
      "  8.46661142e-01 8.56324292e-01 4.04508127e-01 8.87770099e-01\n",
      "  8.50928449e-01 9.35634994e-01]\n",
      " [7.85340651e-01 6.68988255e-01 5.80686621e-01 3.72282767e-01\n",
      "  9.40133442e-01 9.73663837e-01 2.83920975e-01 3.05363860e-01\n",
      "  4.85613754e-01 4.48424143e-01]\n",
      " [9.94457463e-01 1.75925253e-01 1.80753636e-02 4.93893715e-01\n",
      "  1.78822709e-01 3.66468785e-01 7.44170523e-01 7.20939924e-01\n",
      "  3.08060792e-01 5.42540231e-01]] \n",
      "\n",
      "0.9766149558326529 \n",
      "\n",
      "[0.35256886 0.558102   0.97661496 0.08085333 0.50819878 0.39757202\n",
      " 0.98216834 0.84666114 0.94013344 0.17882271] \n",
      "\n",
      "[0.26941233 0.24412552 0.16829104 0.21876422 0.558102   0.40383617\n",
      " 0.06489225 0.25391541 0.24687606 0.69630427] \n",
      "\n",
      "[[0.26941233 0.24412552 0.16829104 0.21876422 0.558102   0.40383617\n",
      "  0.06489225 0.25391541 0.24687606 0.69630427]\n",
      " [0.71227059 0.14808693 0.99774049 0.26678101 0.97661496 0.41103701\n",
      "  0.03305073 0.34507125 0.63435134 0.68070545]\n",
      " [0.53093458 0.44778316 0.55289309 0.59269672 0.08085333 0.36965446\n",
      "  0.24215994 0.80313976 0.47030063 0.98342314]\n",
      " [0.39882444 0.81643187 0.79834512 0.15071754 0.50819878 0.69581281\n",
      "  0.8583588  0.32595891 0.22024105 0.71114953]\n",
      " [0.80950105 0.34866599 0.09617655 0.94052326 0.39757202 0.51775135\n",
      "  0.83771011 0.67569012 0.73521612 0.20907162]\n",
      " [0.54144797 0.6957844  0.22855002 0.17495493 0.98216834 0.51663589\n",
      "  0.26082917 0.9962537  0.96541935 0.55829345]] \n",
      "\n",
      "[[0.71227059]\n",
      " [0.53093458]\n",
      " [0.39882444]\n",
      " [0.80950105]] \n",
      "\n",
      "[[0.80950105 0.34866599 0.09617655 0.94052326]\n",
      " [0.54144797 0.6957844  0.22855002 0.17495493]\n",
      " [0.88263634 0.18870711 0.27887135 0.70035783]\n",
      " [0.78534065 0.66898825 0.58068662 0.37228277]\n",
      " [0.99445746 0.17592525 0.01807536 0.49389372]] \n",
      "\n",
      "1995\n"
     ]
    }
   ],
   "source": [
    "matrix = np.random.rand(10,10)\n",
    "print(matrix, '\\n')\n",
    "\n",
    "print(matrix[2,4], '\\n')\n",
    "\n",
    "print(matrix[ : , 4], '\\n')\n",
    "\n",
    "print(matrix[1, : ], '\\n')\n",
    "\n",
    "print(matrix[1:7, : ], '\\n')\n",
    "\n",
    "print(matrix[2:6, : 4:8 ], '\\n')\n",
    "\n",
    "print(matrix[5:, :4 ], '\\n')\n",
    "\n",
    "x = matrix[4:4] = 1995\n",
    "print(x)"
   ]
  },
  {
   "attachments": {},
   "cell_type": "markdown",
   "metadata": {},
   "source": [
    "22. Construct a one-dimensional array from 0 to 50 jumping with steps of 5 (`[5, 10, ...]`). Use the numpy methods to perform the following tasks;\n",
    "- Print all values greater than 20.\n",
    "- Print all values less than 30.\n",
    "- How many values are 33 in it?\n",
    "- Multiply all the elements of the created array by 5."
   ]
  },
  {
   "cell_type": "code",
   "execution_count": 54,
   "metadata": {},
   "outputs": [
    {
     "name": "stdout",
     "output_type": "stream",
     "text": [
      "[ 0  5 10 15 20 25 30 35 40 45 50]\n",
      "[25 30 35 40 45 50] \n",
      "\n",
      "[ 0  5 10 15 20 25] \n",
      "\n",
      "0 \n",
      "\n",
      "[  0  25  50  75 100 125 150 175 200 225 250]\n"
     ]
    }
   ],
   "source": [
    "arr = np.arange(start = 0, stop = 51, step = 5)\n",
    "print(arr)\n",
    "\n",
    "print(arr[arr>20], '\\n')\n",
    "\n",
    "print(arr[arr<30], '\\n')\n",
    "\n",
    "count = np.count_nonzero(arr == 33)\n",
    "print(count, '\\n')\n",
    "\n",
    "x = arr * 5\n",
    "print(x)\n"
   ]
  },
  {
   "attachments": {},
   "cell_type": "markdown",
   "metadata": {},
   "source": [
    "23. Construct an array of 50 random floats between 0 and 1 and take the average. Moreover;\n",
    "- Get the standard deviation.\n",
    "- Get the variance.\n",
    "- Take the median.\n",
    "- Find the smallest value.\n",
    "- Find the largest value."
   ]
  },
  {
   "cell_type": "code",
   "execution_count": 55,
   "metadata": {},
   "outputs": [
    {
     "name": "stdout",
     "output_type": "stream",
     "text": [
      "[0.50881408 0.63633262 0.25046182 0.58987085 0.97889286 0.48674215\n",
      " 0.90609879 0.43439437 0.35007841 0.64510336 0.66892406 0.86416757\n",
      " 0.23018527 0.49919338 0.5720042  0.76855401 0.04360377 0.99455051\n",
      " 0.46994451 0.27956034 0.88349402 0.74771877 0.95307185 0.3307503\n",
      " 0.55276497 0.57229247 0.98033158 0.07534626 0.30569702 0.19091103\n",
      " 0.26847486 0.48527987 0.37268687 0.39469147 0.84421314 0.93001683\n",
      " 0.07041613 0.20891872 0.67114352 0.35864678 0.25416365 0.29529059\n",
      " 0.32255076 0.84866979 0.13662133 0.708911   0.55281998 0.29651014\n",
      " 0.41978086 0.25620694] \n",
      "\n",
      "0.5093173685382544 \n",
      "\n",
      "0.2675625278204558 \n",
      "\n",
      "0.0715897062936722 \n",
      "\n",
      "0.4860110136178854 \n",
      "\n",
      "0.04360377175443375 \n",
      "\n",
      "0.994550510797341\n"
     ]
    }
   ],
   "source": [
    "arr = np.random.rand(50)\n",
    "print(arr, '\\n')\n",
    "\n",
    "print(np.mean(arr), '\\n')\n",
    "\n",
    "print(np.std(arr), '\\n')\n",
    "\n",
    "print(np.var(arr), '\\n')\n",
    "\n",
    "print(np.median(arr), '\\n')\n",
    "\n",
    "print(np.min(arr), '\\n')\n",
    "\n",
    "print(np.max(arr))\n"
   ]
  },
  {
   "attachments": {},
   "cell_type": "markdown",
   "metadata": {},
   "source": [
    "24. What are the differences between Pandas Series and NumPy arrays?"
   ]
  },
  {
   "attachments": {},
   "cell_type": "markdown",
   "metadata": {},
   "source": [
    "YOUR ANSWER HERE"
   ]
  },
  {
   "attachments": {},
   "cell_type": "markdown",
   "metadata": {},
   "source": [
    "25. Create a 5-element series with different data types, with an index of capital letters."
   ]
  },
  {
   "cell_type": "code",
   "execution_count": 56,
   "metadata": {},
   "outputs": [
    {
     "name": "stdout",
     "output_type": "stream",
     "text": [
      "       A     B     C     D     E\n",
      "0      1     3     5     7     9\n",
      "1      2     4     6     8    10\n",
      "2  Kamil  Safo  Keko  Seko  Tefo \n",
      "\n",
      "A    Kamil\n",
      "B     Safo\n",
      "C     Keko\n",
      "D     Seko\n",
      "E     Tefo\n",
      "Name: 2, dtype: object\n"
     ]
    }
   ],
   "source": [
    "data = {\n",
    "    'A': [1,2, 'Kamil'],\n",
    "    'B': [3,4, 'Safo'],\n",
    "    'C': [5,6, 'Keko'],\n",
    "    'D': [7,8, 'Seko'],\n",
    "    'E': [9,10, 'Tefo']\n",
    "}\n",
    "\n",
    "df = pd.DataFrame(data)\n",
    "\n",
    "print(df, '\\n')\n",
    "\n",
    "s = pd.Series(df.loc[2])\n",
    "print(s)"
   ]
  },
  {
   "attachments": {},
   "cell_type": "markdown",
   "metadata": {},
   "source": [
    "26. Create a 5-element dictionary with keys as country names and values as capitals and turn it into a series. An example: ` \"france\" : \"paris\"`)."
   ]
  },
  {
   "cell_type": "code",
   "execution_count": 57,
   "metadata": {},
   "outputs": [
    {
     "name": "stdout",
     "output_type": "stream",
     "text": [
      "  France  Turkey Netherlands Germany   Belgium\n",
      "0  Paris  Angara   Amsterdam  Berlin  Brussels \n",
      "\n",
      "France             [Paris]\n",
      "Turkey            [Angara]\n",
      "Netherlands    [Amsterdam]\n",
      "Germany           [Berlin]\n",
      "Belgium         [Brussels]\n",
      "dtype: object\n"
     ]
    }
   ],
   "source": [
    "data = {\n",
    "    'France': ['Paris'],\n",
    "    'Turkey': ['Angara'],\n",
    "    'Netherlands': ['Amsterdam'],\n",
    "    'Germany': ['Berlin'],\n",
    "    'Belgium': ['Brussels']\n",
    "} \n",
    "\n",
    "df = pd.DataFrame(data)\n",
    "\n",
    "print(df, '\\n')\n",
    "\n",
    "x = pd.Series(data.values(), index=data.keys())\n",
    "print(x)"
   ]
  },
  {
   "attachments": {},
   "cell_type": "markdown",
   "metadata": {},
   "source": [
    "27. Create a random vector with 10 elements.\n",
    "- Convert the vector to series and with strings as indeces. For example, a,b,c,d,e,f,g..\n",
    "- Retrieve the 3rd element of the series using the index name (for example: c).\n",
    "- Retrieve the 1st element of the series using the index number.\n",
    "- Access the 2nd and 7th elements of the series at the same time, using the index name. (Example: values corresponding to index b and g)"
   ]
  },
  {
   "cell_type": "code",
   "execution_count": 58,
   "metadata": {},
   "outputs": [
    {
     "name": "stdout",
     "output_type": "stream",
     "text": [
      "[0.61151371 0.08159418 0.00518486 0.62789441 0.19427395 0.07094092\n",
      " 0.39678383 0.05076853 0.88661715 0.02761677]\n",
      "a    0.611514\n",
      "b    0.081594\n",
      "c    0.005185\n",
      "d    0.627894\n",
      "e    0.194274\n",
      "f    0.070941\n",
      "g    0.396784\n",
      "h    0.050769\n",
      "i    0.886617\n",
      "j    0.027617\n",
      "dtype: float64 \n",
      "\n",
      "0.005184862773986776 \n",
      "\n",
      "0.6115137108656805 \n",
      "\n",
      "0.08159418040024036 0.3967838272138884\n"
     ]
    }
   ],
   "source": [
    "vector = np.random.rand(10)\n",
    "print(vector)\n",
    "\n",
    "series = pd.Series(vector, index = list('abcdefghij'))\n",
    "print(series, '\\n')\n",
    "\n",
    "print(series['c'], '\\n')\n",
    "\n",
    "print(series[0], '\\n')\n",
    "\n",
    "print(series['b'], series['g'])"
   ]
  },
  {
   "attachments": {},
   "cell_type": "markdown",
   "metadata": {},
   "source": [
    "28. Create two 5-element series with elements of your choice with default index.\n",
    "- Combine the series you have created.\n",
    "- Arrange the index of the resulting concatenated 10-element series from 1 to 10."
   ]
  },
  {
   "cell_type": "code",
   "execution_count": 59,
   "metadata": {},
   "outputs": [
    {
     "name": "stdout",
     "output_type": "stream",
     "text": [
      "0    1\n",
      "1    2\n",
      "2    3\n",
      "3    4\n",
      "4    5\n",
      "0    a\n",
      "1    b\n",
      "2    c\n",
      "3    d\n",
      "4    e\n",
      "dtype: object\n",
      "Index([1, 2, 3, 4, 5, 'a', 'b', 'c', 'd', 'e'], dtype='object')\n"
     ]
    }
   ],
   "source": [
    "serie1 = pd.Series([1,2,3,4,5])\n",
    "serie2 = pd.Series(['a', 'b', 'c', 'd', 'e'])\n",
    "\n",
    "\n",
    "df = pd.concat([serie1, serie2], axis=0)\n",
    "print(df)\n",
    "\n",
    "ind = pd.Index(df)\n",
    "print(ind)"
   ]
  },
  {
   "attachments": {},
   "cell_type": "markdown",
   "metadata": {},
   "source": [
    "**Bonus homework**:\n",
    "\n",
    "\n",
    "Generate two 20x20 matrices with values between 0 and 1 randomly in a loop and take the difference of these\n",
    "matrices. Repeat this process until all elements on the diagonal of the difference matrix\n",
    "is between -0.1 and 0.1. When the desired matrix is found, let the program stop\n",
    "and print the total number of cycles, how long it took, and the desired matrix\n",
    "with print.\n",
    "\n",
    "\n",
    "Tip: Finding the 20 x 20 matrix can take hours. Therefore, to test the accuracy\n",
    "of your algorithm, you can first try it on small matrices such as 4x4, 5x5. And\n",
    "you can try the latest 20x20 by increasing the number of matrix. (You can do\n",
    "the matrix generation with the np.random.random((a,b)) function. It generates\n",
    "an array of desired sizes between 0-1.)\n"
   ]
  },
  {
   "cell_type": "code",
   "execution_count": 70,
   "metadata": {},
   "outputs": [
    {
     "name": "stdout",
     "output_type": "stream",
     "text": [
      "Desired matrix found at this cycle:  551852 \n",
      "\n",
      "It took:  12.148749828338623 seconds. \n",
      "\n",
      "Desired matrix:  \n",
      "\n",
      "[[ 9.62850883e-02  1.41050533e-01 -9.45192285e-02 -5.09998621e-01\n",
      "  -3.70454790e-01  1.92359767e-01  3.67482006e-01  4.18821688e-01]\n",
      " [ 3.19500032e-01  1.07714627e-02  7.22883453e-01  3.81354269e-01\n",
      "  -1.71174016e-01  5.56973048e-01 -1.67324129e-02  4.32238400e-02]\n",
      " [-9.32322205e-02  3.92030318e-01  4.47309719e-02  6.53511809e-01\n",
      "  -2.90995933e-01  1.22392792e-01 -1.15194622e-01  2.95910905e-01]\n",
      " [-1.28642342e-01 -1.35695446e-01  3.60499119e-01  4.65806376e-02\n",
      "   6.66176114e-02 -5.17508316e-02 -4.49993556e-02 -9.12314516e-02]\n",
      " [ 4.21329148e-01  8.24865996e-01 -5.66380785e-01  5.36974836e-01\n",
      "  -9.38794366e-04 -3.57214820e-01 -3.75203581e-01 -3.35668969e-01]\n",
      " [ 1.98415844e-01  4.14403471e-01  6.78453777e-01  2.15622973e-01\n",
      "  -1.54635909e-02 -9.86843353e-03  6.37233608e-01  2.63854843e-01]\n",
      " [ 4.14294394e-01 -2.01788269e-01  4.46025670e-01  2.26164475e-01\n",
      "   4.70720407e-01  2.32694980e-02 -5.11836320e-02  7.63564421e-01]\n",
      " [ 3.57284473e-01 -1.49123931e-01  9.90082371e-02  6.11261697e-01\n",
      "  -3.73907707e-01 -9.71491945e-01 -6.21498522e-01  2.87646545e-02]]\n"
     ]
    }
   ],
   "source": [
    "start_time = time.time()\n",
    "\n",
    "cycles = 0\n",
    "\n",
    "while True:\n",
    "    difference = np.random.rand(20, 20) - np.random.rand(20, 20) \n",
    "    \n",
    "    diag = abs(np.diag(difference))\n",
    "    \n",
    "    if (diag <= 0.1).all():\n",
    "        end_time = time.time()\n",
    "        print(\"Desired matrix found at this cycle: \", cycles, '\\n')\n",
    "        print(\"It took: \", end_time - start_time, \"seconds.\", '\\n')\n",
    "        print(\"Desired matrix: \", '\\n')\n",
    "        print(difference)\n",
    "        break\n",
    "    cycles += 1\n"
   ]
  }
 ],
 "metadata": {
  "kernelspec": {
   "display_name": "Python 3",
   "language": "python",
   "name": "python3"
  },
  "language_info": {
   "codemirror_mode": {
    "name": "ipython",
    "version": 3
   },
   "file_extension": ".py",
   "mimetype": "text/x-python",
   "name": "python",
   "nbconvert_exporter": "python",
   "pygments_lexer": "ipython3",
   "version": "3.11.0"
  },
  "orig_nbformat": 4,
  "vscode": {
   "interpreter": {
    "hash": "593696b998611ad139fa4fdad38b30a9d6351632b7875b9e89633be04189f30a"
   }
  }
 },
 "nbformat": 4,
 "nbformat_minor": 2
}
