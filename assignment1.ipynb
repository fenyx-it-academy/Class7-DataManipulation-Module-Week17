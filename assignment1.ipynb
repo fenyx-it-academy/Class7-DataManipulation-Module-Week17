{
 "cells": [
  {
   "attachments": {},
   "cell_type": "markdown",
   "metadata": {},
   "source": [
    "## Data Manipulation module\n",
    "### Homework assignment 1\n",
    "\n",
    "Welcome to the first homework assignment of the data manipulation module. In this assignment you will be working with NumPy and Pandas Series. The goal of this assignment is to get you familiar with these libraries and data types.\n",
    "\n",
    "### Instructions\n",
    "Read the exercises carefully and implement the requested functionality. Add your code in the cells provided with `YOUR CODE HERE` or `YOUR ANSWER HERE`. You can add cells if you need to. **Make sure to use NumPy methods** to find your answers. In some cases you might be able to read the answer, but we want to see you using the NumPy methods.\n",
    "\n",
    "### Hand-in\n",
    "To hand in your assignment, fork this notebook and commit your changes, then make a pull request to the original repository. The deadline for handing in the assignment is **Wednesday 18-01 23:59**."
   ]
  },
  {
   "cell_type": "code",
   "execution_count": 40,
   "metadata": {},
   "outputs": [],
   "source": [
    "# imports, no need to edit\n",
    "\n",
    "import numpy as np\n",
    "import pandas as pd\n",
    "from numpy import random\n",
    "\n",
    "np.random.seed(42)"
   ]
  },
  {
   "attachments": {},
   "cell_type": "markdown",
   "metadata": {},
   "source": [
    "1. Explain the difference between a vector and matrix in NumPy in one sentence."
   ]
  },
  {
   "attachments": {},
   "cell_type": "markdown",
   "metadata": {},
   "source": [
    "the vector is one dimensional array, while the matrix is 2 dimensional which has rows and colomns! "
   ]
  },
  {
   "attachments": {},
   "cell_type": "markdown",
   "metadata": {},
   "source": [
    "2. Construct a NumPy Array from a list of 10 elements."
   ]
  },
  {
   "cell_type": "code",
   "execution_count": 3,
   "metadata": {},
   "outputs": [
    {
     "data": {
      "text/plain": [
       "array([ 1,  2,  3,  4,  5,  6,  7,  8,  9, 10])"
      ]
     },
     "execution_count": 3,
     "metadata": {},
     "output_type": "execute_result"
    }
   ],
   "source": [
    "# YOUR CODE HERE\n",
    "lst = [1, 2, 3, 4, 5, 6, 7, 8, 9, 10]\n",
    "arr = np.array(lst)\n",
    "arr"
   ]
  },
  {
   "attachments": {},
   "cell_type": "markdown",
   "metadata": {},
   "source": [
    "3. Construct a 10x10 matrix filled with '0's of the integer data type."
   ]
  },
  {
   "cell_type": "code",
   "execution_count": 31,
   "metadata": {},
   "outputs": [
    {
     "data": {
      "text/plain": [
       "array([[0, 0, 0, 0, 0, 0, 0, 0, 0, 0],\n",
       "       [0, 0, 0, 0, 0, 0, 0, 0, 0, 0],\n",
       "       [0, 0, 0, 0, 0, 0, 0, 0, 0, 0],\n",
       "       [0, 0, 0, 0, 0, 0, 0, 0, 0, 0],\n",
       "       [0, 0, 0, 0, 0, 0, 0, 0, 0, 0],\n",
       "       [0, 0, 0, 0, 0, 0, 0, 0, 0, 0],\n",
       "       [0, 0, 0, 0, 0, 0, 0, 0, 0, 0],\n",
       "       [0, 0, 0, 0, 0, 0, 0, 0, 0, 0],\n",
       "       [0, 0, 0, 0, 0, 0, 0, 0, 0, 0],\n",
       "       [0, 0, 0, 0, 0, 0, 0, 0, 0, 0]])"
      ]
     },
     "execution_count": 31,
     "metadata": {},
     "output_type": "execute_result"
    }
   ],
   "source": [
    "# YOUR CODE HERE\n",
    "np.zeros((10,10)).astype(int)"
   ]
  },
  {
   "cell_type": "code",
   "execution_count": 32,
   "metadata": {},
   "outputs": [
    {
     "data": {
      "text/plain": [
       "array([[0, 0, 0, 0, 0, 0, 0, 0, 0, 0],\n",
       "       [0, 0, 0, 0, 0, 0, 0, 0, 0, 0],\n",
       "       [0, 0, 0, 0, 0, 0, 0, 0, 0, 0],\n",
       "       [0, 0, 0, 0, 0, 0, 0, 0, 0, 0],\n",
       "       [0, 0, 0, 0, 0, 0, 0, 0, 0, 0],\n",
       "       [0, 0, 0, 0, 0, 0, 0, 0, 0, 0],\n",
       "       [0, 0, 0, 0, 0, 0, 0, 0, 0, 0],\n",
       "       [0, 0, 0, 0, 0, 0, 0, 0, 0, 0],\n",
       "       [0, 0, 0, 0, 0, 0, 0, 0, 0, 0],\n",
       "       [0, 0, 0, 0, 0, 0, 0, 0, 0, 0]])"
      ]
     },
     "execution_count": 32,
     "metadata": {},
     "output_type": "execute_result"
    }
   ],
   "source": [
    "np.zeros((10,10), dtype=(int))"
   ]
  },
  {
   "attachments": {},
   "cell_type": "markdown",
   "metadata": {},
   "source": [
    "4. Construct a 10x10 matrix filled with '1's, data type float."
   ]
  },
  {
   "cell_type": "code",
   "execution_count": 33,
   "metadata": {},
   "outputs": [
    {
     "data": {
      "text/plain": [
       "array([[1., 1., 1., 1., 1., 1., 1., 1., 1., 1.],\n",
       "       [1., 1., 1., 1., 1., 1., 1., 1., 1., 1.],\n",
       "       [1., 1., 1., 1., 1., 1., 1., 1., 1., 1.],\n",
       "       [1., 1., 1., 1., 1., 1., 1., 1., 1., 1.],\n",
       "       [1., 1., 1., 1., 1., 1., 1., 1., 1., 1.],\n",
       "       [1., 1., 1., 1., 1., 1., 1., 1., 1., 1.],\n",
       "       [1., 1., 1., 1., 1., 1., 1., 1., 1., 1.],\n",
       "       [1., 1., 1., 1., 1., 1., 1., 1., 1., 1.],\n",
       "       [1., 1., 1., 1., 1., 1., 1., 1., 1., 1.],\n",
       "       [1., 1., 1., 1., 1., 1., 1., 1., 1., 1.]])"
      ]
     },
     "execution_count": 33,
     "metadata": {},
     "output_type": "execute_result"
    }
   ],
   "source": [
    "# YOUR CODE HERE\n",
    "np.ones((10,10))"
   ]
  },
  {
   "attachments": {},
   "cell_type": "markdown",
   "metadata": {},
   "source": [
    "5. Construct a 10x10 matrix filled with '9's of the integer data type."
   ]
  },
  {
   "cell_type": "code",
   "execution_count": 34,
   "metadata": {},
   "outputs": [
    {
     "data": {
      "text/plain": [
       "array([[9, 9, 9, 9, 9, 9, 9, 9, 9, 9],\n",
       "       [9, 9, 9, 9, 9, 9, 9, 9, 9, 9],\n",
       "       [9, 9, 9, 9, 9, 9, 9, 9, 9, 9],\n",
       "       [9, 9, 9, 9, 9, 9, 9, 9, 9, 9],\n",
       "       [9, 9, 9, 9, 9, 9, 9, 9, 9, 9],\n",
       "       [9, 9, 9, 9, 9, 9, 9, 9, 9, 9],\n",
       "       [9, 9, 9, 9, 9, 9, 9, 9, 9, 9],\n",
       "       [9, 9, 9, 9, 9, 9, 9, 9, 9, 9],\n",
       "       [9, 9, 9, 9, 9, 9, 9, 9, 9, 9],\n",
       "       [9, 9, 9, 9, 9, 9, 9, 9, 9, 9]])"
      ]
     },
     "execution_count": 34,
     "metadata": {},
     "output_type": "execute_result"
    }
   ],
   "source": [
    "# YOUR CODE HERE\n",
    "np.ones((10,10)).astype(int)*9"
   ]
  },
  {
   "attachments": {},
   "cell_type": "markdown",
   "metadata": {},
   "source": [
    "6. Construct a one-dimensional array with values between 5 and 25 that jumps with steps of 3 (`[5, 8, ...]`)"
   ]
  },
  {
   "cell_type": "code",
   "execution_count": 38,
   "metadata": {},
   "outputs": [
    {
     "data": {
      "text/plain": [
       "array([ 5,  8, 11, 14, 17, 20, 23])"
      ]
     },
     "execution_count": 38,
     "metadata": {},
     "output_type": "execute_result"
    }
   ],
   "source": [
    "# YOUR CODE HERE\n",
    "np.arange(5, 25, 3)"
   ]
  },
  {
   "attachments": {},
   "cell_type": "markdown",
   "metadata": {},
   "source": [
    "7. Create an array of size 30 with evenly spaced values between -1 and 1."
   ]
  },
  {
   "cell_type": "code",
   "execution_count": 39,
   "metadata": {},
   "outputs": [
    {
     "data": {
      "text/plain": [
       "array([-1.        , -0.93103448, -0.86206897, -0.79310345, -0.72413793,\n",
       "       -0.65517241, -0.5862069 , -0.51724138, -0.44827586, -0.37931034,\n",
       "       -0.31034483, -0.24137931, -0.17241379, -0.10344828, -0.03448276,\n",
       "        0.03448276,  0.10344828,  0.17241379,  0.24137931,  0.31034483,\n",
       "        0.37931034,  0.44827586,  0.51724138,  0.5862069 ,  0.65517241,\n",
       "        0.72413793,  0.79310345,  0.86206897,  0.93103448,  1.        ])"
      ]
     },
     "execution_count": 39,
     "metadata": {},
     "output_type": "execute_result"
    }
   ],
   "source": [
    "# YOUR CODE HERE\n",
    "np.linspace(-1, 1, num=30)"
   ]
  },
  {
   "attachments": {},
   "cell_type": "markdown",
   "metadata": {},
   "source": [
    "8. Construct a 5x6 matrix with integers from 0 to 30."
   ]
  },
  {
   "cell_type": "code",
   "execution_count": 42,
   "metadata": {},
   "outputs": [
    {
     "data": {
      "text/plain": [
       "array([[ 0, 11, 25, 21, 28, 11],\n",
       "       [24, 16, 26, 26,  9, 27],\n",
       "       [27, 15, 14, 29, 29, 14],\n",
       "       [29, 18, 11, 22, 19, 24],\n",
       "       [ 2,  4, 18,  6, 20,  8]])"
      ]
     },
     "execution_count": 42,
     "metadata": {},
     "output_type": "execute_result"
    }
   ],
   "source": [
    "# YOUR CODE HERE\n",
    "x = random.randint(30, size=(5, 6))\n",
    "x"
   ]
  },
  {
   "attachments": {},
   "cell_type": "markdown",
   "metadata": {},
   "source": [
    "9. Create an array of 30 random integers and sort it in ascending order."
   ]
  },
  {
   "cell_type": "code",
   "execution_count": 61,
   "metadata": {},
   "outputs": [
    {
     "name": "stdout",
     "output_type": "stream",
     "text": [
      "[ 11  34  42  74  89  98 114 167 191 195 252 267 276 284 301 375 393 396\n",
      " 412 416 417 419 426 456 492 498 500 547 555 576]\n"
     ]
    }
   ],
   "source": [
    "# YOUR CODE HERE\n",
    "arr = random.randint(600, size=30).astype(int)\n",
    "print(np.sort(arr))"
   ]
  },
  {
   "attachments": {},
   "cell_type": "markdown",
   "metadata": {},
   "source": [
    "10. Construct a 5x10 matrix filled with the value 1 at each location. Print the following details about this matrix:\n",
    "- number of elements\n",
    "- shape of the matrix\n",
    "- the data type (using numpy methods)\n"
   ]
  },
  {
   "cell_type": "code",
   "execution_count": 65,
   "metadata": {},
   "outputs": [
    {
     "name": "stdout",
     "output_type": "stream",
     "text": [
      "50\n",
      "(5, 10)\n",
      "float64\n"
     ]
    }
   ],
   "source": [
    "# YOUR CODE HERE\n",
    "e = np.ones((5,10))\n",
    "print(e.size)\n",
    "print(e.shape)\n",
    "print(e.dtype)\n"
   ]
  },
  {
   "attachments": {},
   "cell_type": "markdown",
   "metadata": {},
   "source": [
    "11. Construct a 3x4x7 matrix with random integer values between 0 and 10 (a 3D matrix will be created).\n"
   ]
  },
  {
   "cell_type": "code",
   "execution_count": 66,
   "metadata": {},
   "outputs": [
    {
     "data": {
      "text/plain": [
       "array([[[1, 0, 6, 7, 6, 4, 0],\n",
       "        [6, 6, 8, 2, 8, 0, 0],\n",
       "        [3, 8, 5, 2, 0, 3, 8],\n",
       "        [2, 8, 6, 3, 2, 9, 4]],\n",
       "\n",
       "       [[4, 2, 8, 3, 4, 3, 4],\n",
       "        [6, 8, 6, 4, 9, 9, 6],\n",
       "        [9, 4, 2, 6, 1, 8, 9],\n",
       "        [9, 0, 5, 6, 7, 9, 8]],\n",
       "\n",
       "       [[1, 9, 1, 4, 4, 5, 2],\n",
       "        [7, 0, 5, 3, 0, 6, 8],\n",
       "        [3, 3, 5, 2, 5, 6, 9],\n",
       "        [9, 2, 6, 2, 1, 9, 3]]])"
      ]
     },
     "execution_count": 66,
     "metadata": {},
     "output_type": "execute_result"
    }
   ],
   "source": [
    "# YOUR CODE HERE\n",
    "np.random.randint(0, 10, size=(3,4,7))"
   ]
  },
  {
   "attachments": {},
   "cell_type": "markdown",
   "metadata": {},
   "source": [
    "12. Create an array of 20 random integers and reshape it into a 4x5 matrix."
   ]
  },
  {
   "cell_type": "code",
   "execution_count": 78,
   "metadata": {},
   "outputs": [
    {
     "name": "stdout",
     "output_type": "stream",
     "text": [
      "[13 65 50 37 63 37 49 29 50 62 51 37 29 50  4 28  3  9 55 16]\n",
      "[[13 65 50 37 63]\n",
      " [37 49 29 50 62]\n",
      " [51 37 29 50  4]\n",
      " [28  3  9 55 16]]\n"
     ]
    }
   ],
   "source": [
    "# YOUR CODE HERE\n",
    "c = np.random.randint(70, size=20, dtype=int)\n",
    "print(c)\n",
    "print(c.reshape((4, 5)))"
   ]
  },
  {
   "attachments": {},
   "cell_type": "markdown",
   "metadata": {},
   "source": [
    "13. Construct a one-dimensional array by concetanating 4 separate one-dimensional arrays."
   ]
  },
  {
   "cell_type": "code",
   "execution_count": 83,
   "metadata": {},
   "outputs": [
    {
     "data": {
      "text/plain": [
       "array([ 1,  2, 10,  3,  3, 44,  9, 12,  0])"
      ]
     },
     "execution_count": 83,
     "metadata": {},
     "output_type": "execute_result"
    }
   ],
   "source": [
    "# YOUR CODE HERE\n",
    "a = np.array([1, 2, 10])\n",
    "b = np.array([3, 3, 44])\n",
    "c = np.array([9, 12, 0])\n",
    "np.concatenate((a, b, c))"
   ]
  },
  {
   "attachments": {},
   "cell_type": "markdown",
   "metadata": {},
   "source": [
    "14. Create a vector of length 3 (3x1) and a matrix of size 3x3. Combine these two arrays on a\n",
    "    column-by-column basis using numpy methods.\n"
   ]
  },
  {
   "cell_type": "code",
   "execution_count": 92,
   "metadata": {},
   "outputs": [
    {
     "name": "stdout",
     "output_type": "stream",
     "text": [
      "[0 1 2]\n",
      "[[28 31 18]\n",
      " [20  4 17]\n",
      " [27 21 20]]\n"
     ]
    },
    {
     "data": {
      "text/plain": [
       "array([[28, 32, 20],\n",
       "       [20,  5, 19],\n",
       "       [27, 22, 22]])"
      ]
     },
     "execution_count": 92,
     "metadata": {},
     "output_type": "execute_result"
    }
   ],
   "source": [
    "# YOUR CODE HERE\n",
    "e = np.arange(3)\n",
    "print(e)\n",
    "d = np.random.randint(40, size=(3,3))\n",
    "print(d)\n",
    "e + d"
   ]
  },
  {
   "attachments": {},
   "cell_type": "markdown",
   "metadata": {},
   "source": [
    "15. What is the difference between \"axis=1\" and \"axis=0\" in Numpy functions? "
   ]
  },
  {
   "attachments": {},
   "cell_type": "markdown",
   "metadata": {},
   "source": [
    "axis=1 is the second axis, when talking about multi-dimensional arrays, axis 1 is the axis that runs forward the colomns.\n",
    "axis=0 is the first axis, when talking about multi-dimensional arrays, axis 0 is the axis that runs downward down the rows."
   ]
  },
  {
   "attachments": {},
   "cell_type": "markdown",
   "metadata": {},
   "source": [
    "16. Create a random 1D vector with 20 elements. Find the 3rd, 5th and 7th elements of this vector.\n"
   ]
  },
  {
   "cell_type": "code",
   "execution_count": 99,
   "metadata": {},
   "outputs": [
    {
     "name": "stdout",
     "output_type": "stream",
     "text": [
      "[81 79 69 97 94 28 53 95 54 20 59 83 41 79 83 91 30 33 79 49]\n",
      "69\n",
      "94\n",
      "53\n"
     ]
    }
   ],
   "source": [
    "# YOUR CODE HERE\n",
    "r = np.random.randint(20, 100, 20)\n",
    "print(r)\n",
    "print(r[2])\n",
    "print(r[4])\n",
    "print(r[6])"
   ]
  },
  {
   "attachments": {},
   "cell_type": "markdown",
   "metadata": {},
   "source": [
    "17. Create a random vector with 10 elements and replace the 4th element of this array with a different number."
   ]
  },
  {
   "cell_type": "code",
   "execution_count": 105,
   "metadata": {},
   "outputs": [
    {
     "name": "stdout",
     "output_type": "stream",
     "text": [
      "[71 41 63 14 28 32 93 26 35 28]\n",
      "[ 71  41  63 100  28  32  93  26  35  28]\n"
     ]
    }
   ],
   "source": [
    "# YOUR CODE HERE\n",
    "g = np.random.randint(100,size=10)\n",
    "print(g)\n",
    "g[3]=100\n",
    "print(g)"
   ]
  },
  {
   "attachments": {},
   "cell_type": "markdown",
   "metadata": {},
   "source": [
    "18. Look up the concepts of * diagonal matrix* and *trace matrix*online and write a small explanation about what they are.\n"
   ]
  },
  {
   "attachments": {},
   "cell_type": "markdown",
   "metadata": {},
   "source": [
    "Diagonal matrix is a matrix (usually a square matrix of order n) filled with values on the main diagonal and zeros everywhere else.\n",
    "Trace of Matrix is the sum of main diagonal elements of the matrix."
   ]
  },
  {
   "attachments": {},
   "cell_type": "markdown",
   "metadata": {},
   "source": [
    "19. Create a 5x5 diagonal matrix with elements of your choosing. What are the indexes of the diagonal?\n"
   ]
  },
  {
   "cell_type": "code",
   "execution_count": 113,
   "metadata": {},
   "outputs": [
    {
     "name": "stdout",
     "output_type": "stream",
     "text": [
      "[[3 0 0 0 0]\n",
      " [0 2 0 0 0]\n",
      " [0 0 5 0 0]\n",
      " [0 0 0 6 0]\n",
      " [0 0 0 0 9]]\n"
     ]
    },
    {
     "data": {
      "text/plain": [
       "(array([0, 1, 2, 3, 4]),\n",
       " array([0, 1, 2, 3, 4]),\n",
       " array([0, 1, 2, 3, 4]),\n",
       " array([0, 1, 2, 3, 4]),\n",
       " array([0, 1, 2, 3, 4]))"
      ]
     },
     "execution_count": 113,
     "metadata": {},
     "output_type": "execute_result"
    }
   ],
   "source": [
    "# YOUR CODE HERE\n",
    "v = [3, 2, 5, 6, 9]\n",
    "e = np.diag(v)\n",
    "print(e)\n",
    "np.diag_indices(5, ndim=5)"
   ]
  },
  {
   "attachments": {},
   "cell_type": "markdown",
   "metadata": {},
   "source": [
    "20. Create a vector that ranges from 10 to 20. Print the values from the 3rd index to the last index.\n"
   ]
  },
  {
   "cell_type": "code",
   "execution_count": 122,
   "metadata": {},
   "outputs": [
    {
     "data": {
      "text/plain": [
       "array([13, 14, 15, 16, 17, 18, 19])"
      ]
     },
     "execution_count": 122,
     "metadata": {},
     "output_type": "execute_result"
    }
   ],
   "source": [
    "# YOUR CODE HERE\n",
    "x = np.arange(10, 20)\n",
    "x[3 : ]\n"
   ]
  },
  {
   "attachments": {},
   "cell_type": "markdown",
   "metadata": {},
   "source": [
    "21. Construct a 10x10 matrix with random elements and perform the following indexing tasks on it. Each task should be a single indexing operation.\n",
    " - Retrieve column 5 of row 3. Moreover;\n",
    " - Retrieve all elements of column 5.\n",
    " - Retrieve the 2nd row of all columns.\n",
    " - Retrieve row 2 through 7 of all columns.\n",
    " - Retrieve values with row index 2 to 5 and column index 3 to 7.\n",
    " - Retrieve the values from row index 5 to the end and column index from the top to 4.\n",
    " - Replace the value corresponding to the 5th row and the 5th column with your year of birth."
   ]
  },
  {
   "cell_type": "code",
   "execution_count": 148,
   "metadata": {},
   "outputs": [
    {
     "name": "stdout",
     "output_type": "stream",
     "text": [
      "0= [[51 14 71 60 20 82 86 74 74 87]\n",
      " [23  2 21 52  1 87 29 37  1 63]\n",
      " [59 20 32 75 57 21 88 48 58 41]\n",
      " [59 79 14 61 61 46 61 50 54 63]\n",
      " [ 2 50  6 20 72 38 17  3 88 59]\n",
      " [13  8 89 52  1 83 59 70 43  7]\n",
      " [46 34 77 80 35 49  3  1  5 53]\n",
      " [ 3 53 62 17 89 43 33 73 61 13]\n",
      " [47 14 71 77 86 61 39 84 79 81]\n",
      " [52 23 25 88 59 40 28 14 44 64]]\n",
      "1= 57\n",
      "2= [20  1 57 61 72  1 35 89 86 59]\n",
      "3= [23  2 21 52  1 87 29 37  1 63]\n",
      "4= [23  2 21 52  1 87 29]\n",
      "5= [[75 57 21 88]\n",
      " [61 61 46 61]\n",
      " [20 72 38 17]]\n",
      "6= [[13  8 89 52]\n",
      " [46 34 77 80]\n",
      " [ 3 53 62 17]\n",
      " [47 14 71 77]\n",
      " [52 23 25 88]]\n"
     ]
    }
   ],
   "source": [
    "# YOUR CODE HERE\n",
    "np.random.seed(42)\n",
    "w = random.randint(90, size=(10,10)).astype(int)\n",
    "print(\"0=\",w)\n",
    "print(\"1=\",w[2, 4])\n",
    "print(\"2=\",w[:, 4])\n",
    "print(\"3=\",w[1, :])\n",
    "print(\"4=\",w[1, :7])\n",
    "print(\"5=\",w[2:5, 3:7])\n",
    "print(\"6=\",w[5:, :4])\n"
   ]
  },
  {
   "cell_type": "code",
   "execution_count": 150,
   "metadata": {},
   "outputs": [
    {
     "name": "stdout",
     "output_type": "stream",
     "text": [
      "92\n",
      "7= [[  51   14   71   60   20   82   86   74   74   87]\n",
      " [  23    2   21   52    1   87   29   37    1   63]\n",
      " [  59   20   32   75   57   21   88   48   58   41]\n",
      " [  59   79   14   61   61   46   61   50   54   63]\n",
      " [   2   50    6   20 1992   38   17    3   88   59]\n",
      " [  13    8   89   52    1   83   59   70   43    7]\n",
      " [  46   34   77   80   35   49    3    1    5   53]\n",
      " [   3   53   62   17   89   43   33   73   61   13]\n",
      " [  47   14   71   77   86   61   39   84   79   81]\n",
      " [  52   23   25   88   59   40   28   14   44   64]]\n"
     ]
    }
   ],
   "source": [
    "print(w[4, 4])\n",
    "w[4, 4] = 1992\n",
    "print(\"7=\",w)"
   ]
  },
  {
   "attachments": {},
   "cell_type": "markdown",
   "metadata": {},
   "source": [
    "22. Construct a one-dimensional array from 0 to 50 jumping with steps of 5 (`[5, 10, ...]`). Use the numpy methods to perform the following tasks;\n",
    "- Print all values greater than 20.\n",
    "- Print all values less than 30.\n",
    "- How many values are 33 in it?\n",
    "- Multiply all the elements of the created array by 5."
   ]
  },
  {
   "cell_type": "code",
   "execution_count": 165,
   "metadata": {},
   "outputs": [
    {
     "name": "stdout",
     "output_type": "stream",
     "text": [
      "[ 0  5 10 15 20 25 30 35 40 45]\n",
      "[25 30 35 40 45]\n",
      "[ 0  5 10 15 20 25]\n",
      "10\n",
      "[  0  25  50  75 100 125 150 175 200 225]\n"
     ]
    }
   ],
   "source": [
    "# YOUR CODE HERE\n",
    "arr = np.arange(0, 50, 5)\n",
    "print(arr)\n",
    "a = arr>20\n",
    "print(arr[a])\n",
    "b = arr < 30\n",
    "print(arr[b])\n",
    "c = arr.size\n",
    "print(c)\n",
    "print(arr * 5)\n",
    "\n"
   ]
  },
  {
   "attachments": {},
   "cell_type": "markdown",
   "metadata": {},
   "source": [
    "23. Construct an array of 50 random floats between 0 and 1 and take the average. Moreover;\n",
    "- Get the standard deviation.\n",
    "- Get the variance.\n",
    "- Take the median.\n",
    "- Find the smallest value.\n",
    "- Find the largest value."
   ]
  },
  {
   "cell_type": "code",
   "execution_count": 178,
   "metadata": {},
   "outputs": [
    {
     "name": "stdout",
     "output_type": "stream",
     "text": [
      "[0.         0.02040816 0.04081633 0.06122449 0.08163265 0.10204082\n",
      " 0.12244898 0.14285714 0.16326531 0.18367347 0.20408163 0.2244898\n",
      " 0.24489796 0.26530612 0.28571429 0.30612245 0.32653061 0.34693878\n",
      " 0.36734694 0.3877551  0.40816327 0.42857143 0.44897959 0.46938776\n",
      " 0.48979592 0.51020408 0.53061224 0.55102041 0.57142857 0.59183673\n",
      " 0.6122449  0.63265306 0.65306122 0.67346939 0.69387755 0.71428571\n",
      " 0.73469388 0.75510204 0.7755102  0.79591837 0.81632653 0.83673469\n",
      " 0.85714286 0.87755102 0.89795918 0.91836735 0.93877551 0.95918367\n",
      " 0.97959184 1.        ]\n",
      "a: 0.5\n",
      "b: 0.2945075446869757\n",
      "c: 0.086734693877551\n",
      "d: 0.5\n",
      "e: 0.0\n",
      "f: 1.0\n"
     ]
    }
   ],
   "source": [
    "# YOUR CODE HERE\n",
    "arr = np.linspace(0, 1, num=50)\n",
    "print(arr)\n",
    "print(\"a:\", arr.mean())\n",
    "print(\"b:\", arr.std())\n",
    "print(\"c:\", arr.var())\n",
    "import statistics\n",
    "print(\"d:\", statistics.median(arr))\n",
    "print(\"e:\", arr.min())\n",
    "print(\"f:\", arr.max())"
   ]
  },
  {
   "attachments": {},
   "cell_type": "markdown",
   "metadata": {},
   "source": [
    "24. What are the differences between Pandas Series and NumPy arrays?"
   ]
  },
  {
   "attachments": {},
   "cell_type": "markdown",
   "metadata": {},
   "source": [
    "the presence of the index, while the Numpy Array has an implicitly defined integer index used to access the values, the Pandas Series has an explicitly defined index associated with the values. "
   ]
  },
  {
   "attachments": {},
   "cell_type": "markdown",
   "metadata": {},
   "source": [
    "25. Create a 5-element series with different data types, with an index of capital letters."
   ]
  },
  {
   "cell_type": "code",
   "execution_count": 182,
   "metadata": {},
   "outputs": [
    {
     "data": {
      "text/plain": [
       "A      1\n",
       "B    7.5\n",
       "C      n\n",
       "D      L\n",
       "E     13\n",
       "dtype: object"
      ]
     },
     "execution_count": 182,
     "metadata": {},
     "output_type": "execute_result"
    }
   ],
   "source": [
    "# YOUR CODE HERE\n",
    "a = [1, 7.5, \"n\", \"L\", 13]\n",
    "s = pd.Series(a , index = [\"A\", \"B\", \"C\", \"D\", \"E\"])\n",
    "s"
   ]
  },
  {
   "attachments": {},
   "cell_type": "markdown",
   "metadata": {},
   "source": [
    "26. Create a 5-element dictionary with keys as country names and values as capitals and turn it into a series. An example: ` \"france\" : \"paris\"`)."
   ]
  },
  {
   "cell_type": "code",
   "execution_count": 183,
   "metadata": {},
   "outputs": [
    {
     "data": {
      "text/plain": [
       "Syria           Damascus\n",
       "France             Paris\n",
       "Egypt              Cairo\n",
       "USA           Washington\n",
       "Netherland     Amsterdam\n",
       "dtype: object"
      ]
     },
     "execution_count": 183,
     "metadata": {},
     "output_type": "execute_result"
    }
   ],
   "source": [
    "# YOUR CODE HERE\n",
    "d = {\"Syria\": \"Damascus\", \"France\": \"Paris\", \"Egypt\": \"Cairo\", \"USA\": \"Washington\", \"Netherland\": \"Amsterdam\"}\n",
    "pd.Series(d)"
   ]
  },
  {
   "attachments": {},
   "cell_type": "markdown",
   "metadata": {},
   "source": [
    "27. Create a random vector with 10 elements.\n",
    "- Convert the vector to series and with strings as indeces. For example, a,b,c,d,e,f,g..\n",
    "- Retrieve the 3rd element of the series using the index name (for example: c).\n",
    "- Retrieve the 1st element of the series using the index number.\n",
    "- Access the 2nd and 7th elements of the series at the same time, using the index name. (Example: values corresponding to index b and g)"
   ]
  },
  {
   "cell_type": "code",
   "execution_count": 205,
   "metadata": {},
   "outputs": [
    {
     "name": "stdout",
     "output_type": "stream",
     "text": [
      "a    0.198716\n",
      "b    0.005522\n",
      "c    0.815461\n",
      "d    0.706857\n",
      "e    0.729007\n",
      "f    0.771270\n",
      "g    0.074045\n",
      "h    0.358466\n",
      "i    0.115869\n",
      "j    0.863103\n",
      "dtype: float64\n"
     ]
    }
   ],
   "source": [
    "# YOUR CODE HERE\n",
    "vector = np.random.rand(10)\n",
    "series = pd.Series(vector, index=list(\"abcdefghij\"))\n",
    "print(series)\n"
   ]
  },
  {
   "cell_type": "code",
   "execution_count": 206,
   "metadata": {},
   "outputs": [
    {
     "name": "stdout",
     "output_type": "stream",
     "text": [
      "0.8154614284548342\n",
      "0.1987156815341724\n",
      "b    0.005522\n",
      "g    0.074045\n",
      "dtype: float64\n"
     ]
    }
   ],
   "source": [
    "# Retrieve the 3rd element of the series using the index name\n",
    "print(series['c'])\n",
    "\n",
    "# Retrieve the 1st element of the series using the index number\n",
    "print(series[0])\n",
    "\n",
    "# Access the 2nd and 7th elements of the series at the same time, using the index name\n",
    "print(series[['b','g']])\n"
   ]
  },
  {
   "attachments": {},
   "cell_type": "markdown",
   "metadata": {},
   "source": [
    "28. Create two 5-element series with elements of your choice with default index.\n",
    "- Combine the series you have created.\n",
    "- Arrange the index of the resulting concatenated 10-element series from 1 to 10."
   ]
  },
  {
   "cell_type": "code",
   "execution_count": 192,
   "metadata": {},
   "outputs": [
    {
     "name": "stdout",
     "output_type": "stream",
     "text": [
      "0    1\n",
      "1    2\n",
      "2    3\n",
      "3    4\n",
      "4    5\n",
      "0    a\n",
      "1    b\n",
      "2    c\n",
      "3    d\n",
      "4    e\n",
      "dtype: object\n"
     ]
    }
   ],
   "source": [
    "# YOUR CODE HERE\n",
    "\n",
    "# Series 1\n",
    "data = [1, 2, 3, 4, 5]\n",
    "series1 = pd.Series(data)\n",
    "\n",
    "# Series 2\n",
    "data = [\"a\", \"b\", \"c\", \"d\", \"e\"]\n",
    "series2 = pd.Series(data)\n",
    "\n",
    "combined_series = pd.concat([series1, series2])\n",
    "print(combined_series)"
   ]
  },
  {
   "cell_type": "code",
   "execution_count": 204,
   "metadata": {},
   "outputs": [
    {
     "name": "stdout",
     "output_type": "stream",
     "text": [
      "1     1\n",
      "2     2\n",
      "3     3\n",
      "4     4\n",
      "5     5\n",
      "6     a\n",
      "7     b\n",
      "8     c\n",
      "9     d\n",
      "10    e\n",
      "dtype: object\n"
     ]
    }
   ],
   "source": [
    "combined_series = combined_series.reset_index(drop=True)\n",
    "combined_series.index = range(1, len(combined_series) + 1)\n",
    "print(combined_series)"
   ]
  },
  {
   "attachments": {},
   "cell_type": "markdown",
   "metadata": {},
   "source": [
    "**Bonus homework**:\n",
    "\n",
    "\n",
    "Generate two 20x20 matrices with values between 0 and 1 randomly in a loop and take the difference of these\n",
    "matrices. Repeat this process until all elements on the diagonal of the difference matrix\n",
    "is between -0.1 and 0.1. When the desired matrix is found, let the program stop\n",
    "and print the total number of cycles, how long it took, and the desired matrix\n",
    "with print.\n",
    "\n",
    "\n",
    "Tip: Finding the 20 x 20 matrix can take hours. Therefore, to test the accuracy\n",
    "of your algorithm, you can first try it on small matrices such as 4x4, 5x5. And\n",
    "you can try the latest 20x20 by increasing the number of matrix. (You can do\n",
    "the matrix generation with the np.random.random((a,b)) function. It generates\n",
    "an array of desired sizes between 0-1.)\n"
   ]
  },
  {
   "cell_type": "code",
   "execution_count": 214,
   "metadata": {},
   "outputs": [
    {
     "name": "stdout",
     "output_type": "stream",
     "text": [
      "Total number of cycles:  16581\n",
      "Time taken:  0.19650721549987793\n",
      "Desired matrix: \n",
      " [[ 1.88770629e-04  1.54911372e-01  5.28436483e-03  2.69086826e-01\n",
      "   6.69150392e-03 -2.97881514e-01]\n",
      " [ 5.09348442e-01  3.87223586e-02 -3.48577961e-01  4.26104476e-01\n",
      "  -3.93289261e-01 -8.91401652e-01]\n",
      " [-5.93988302e-01  3.55237679e-01 -6.32081807e-02 -1.90073506e-01\n",
      "  -5.99995087e-01  6.02194863e-01]\n",
      " [ 2.56908443e-01  8.41527920e-02 -1.66327802e-01 -4.78160826e-02\n",
      "  -2.69172885e-01  5.79087798e-01]\n",
      " [-3.30480888e-01 -2.02376717e-01 -1.56926843e-01 -1.63066774e-01\n",
      "   8.97774376e-03 -2.90405048e-01]\n",
      " [-2.67663664e-01 -1.23413518e-01  1.67124818e-01 -1.13277448e-01\n",
      "   2.17478870e-01  4.62009121e-02]]\n"
     ]
    }
   ],
   "source": [
    "# YOUR CODE HERE\n",
    "import numpy as np\n",
    "import time\n",
    "\n",
    "# Define the size of the matrices\n",
    "size = 6\n",
    "\n",
    "# Set the loop limit\n",
    "limit = 1000000\n",
    "\n",
    "# Initialize the count for number of iterations\n",
    "count = 0\n",
    "\n",
    "start_time = time.time()\n",
    "\n",
    "while True:\n",
    "    # Generate two matrices\n",
    "    matrix1 = np.random.random((size,size))\n",
    "    matrix2 = np.random.random((size,size))\n",
    "\n",
    "    # Take the difference of the matrices\n",
    "    diff_matrix = matrix1 - matrix2\n",
    "\n",
    "    # Check if all the elements on the diagonal are between -0.1 and 0.1\n",
    "    if np.all(np.abs(np.diag(diff_matrix)) < 0.1):\n",
    "        end_time = time.time()\n",
    "        print(\"Total number of cycles: \", count)\n",
    "        print(\"Time taken: \", end_time - start_time)\n",
    "        print(\"Desired matrix: \\n\", diff_matrix)\n",
    "        break\n",
    "\n",
    "    count += 1\n",
    "    if count > limit:\n",
    "        print(\"Desired matrix not found after \", limit, \" iterations.\")\n",
    "        break\n"
   ]
  }
 ],
 "metadata": {
  "kernelspec": {
   "display_name": "Python 3",
   "language": "python",
   "name": "python3"
  },
  "language_info": {
   "codemirror_mode": {
    "name": "ipython",
    "version": 3
   },
   "file_extension": ".py",
   "mimetype": "text/x-python",
   "name": "python",
   "nbconvert_exporter": "python",
   "pygments_lexer": "ipython3",
   "version": "3.10.6"
  },
  "orig_nbformat": 4,
  "vscode": {
   "interpreter": {
    "hash": "bac75f92805af78f4c3d905bf4b7769093ac074cfb83aa4dc437efeee303fdc9"
   }
  }
 },
 "nbformat": 4,
 "nbformat_minor": 2
}
