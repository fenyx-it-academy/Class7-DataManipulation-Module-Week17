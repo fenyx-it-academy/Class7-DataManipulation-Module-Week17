{
 "cells": [
  {
   "attachments": {},
   "cell_type": "markdown",
   "metadata": {},
   "source": [
    "## Data Manipulation module\n",
    "### Homework assignment 1\n",
    "\n",
    "Welcome to the first homework assignment of the data manipulation module. In this assignment you will be working with NumPy and Pandas Series. The goal of this assignment is to get you familiar with these libraries and data types.\n",
    "\n",
    "### Instructions\n",
    "Read the exercises carefully and implement the requested functionality. Add your code in the cells provided with `YOUR CODE HERE` or `YOUR ANSWER HERE`. You can add cells if you need to. **Make sure to use NumPy methods** to find your answers. In some cases you might be able to read the answer, but we want to see you using the NumPy methods.\n",
    "\n",
    "### Hand-in\n",
    "To hand in your assignment, fork this notebook and commit your changes, then make a pull request to the original repository. The deadline for handing in the assignment is **Wednesday 18-01 23:59**."
   ]
  },
  {
   "cell_type": "code",
   "execution_count": 1,
   "metadata": {},
   "outputs": [],
   "source": [
    "# imports, no need to edit\n",
    "\n",
    "import numpy as np\n",
    "import pandas as pd\n",
    "\n",
    "np.random.seed(42)"
   ]
  },
  {
   "attachments": {},
   "cell_type": "markdown",
   "metadata": {},
   "source": [
    "1. Explain the difference between a vector and matrix in NumPy in one sentence."
   ]
  },
  {
   "attachments": {},
   "cell_type": "markdown",
   "metadata": {},
   "source": [
    "A vector is an array with a single dimension, while a matrix refers to an array with two or more dimensions."
   ]
  },
  {
   "attachments": {},
   "cell_type": "markdown",
   "metadata": {},
   "source": [
    "2. Construct a NumPy Array from a list of 10 elements."
   ]
  },
  {
   "cell_type": "code",
   "execution_count": 2,
   "metadata": {},
   "outputs": [],
   "source": [
    "list = [1,2,3,4,5,6,7,8,9,10]\n",
    "a = np.array(list)"
   ]
  },
  {
   "attachments": {},
   "cell_type": "markdown",
   "metadata": {},
   "source": [
    "3. Construct a 10x10 matrix filled with '0's of the integer data type."
   ]
  },
  {
   "cell_type": "code",
   "execution_count": 3,
   "metadata": {},
   "outputs": [],
   "source": [
    "a = np.zeros([10, 10], dtype = int)"
   ]
  },
  {
   "attachments": {},
   "cell_type": "markdown",
   "metadata": {},
   "source": [
    "4. Construct a 10x10 matrix filled with '1's, data type float."
   ]
  },
  {
   "cell_type": "code",
   "execution_count": 4,
   "metadata": {},
   "outputs": [],
   "source": [
    "a = np.ones([10, 10], dtype = float)"
   ]
  },
  {
   "attachments": {},
   "cell_type": "markdown",
   "metadata": {},
   "source": [
    "5. Construct a 10x10 matrix filled with '9's of the integer data type."
   ]
  },
  {
   "cell_type": "code",
   "execution_count": 5,
   "metadata": {},
   "outputs": [
    {
     "name": "stdout",
     "output_type": "stream",
     "text": [
      "[[9 9 9 9 9 9 9 9 9 9]\n",
      " [9 9 9 9 9 9 9 9 9 9]\n",
      " [9 9 9 9 9 9 9 9 9 9]\n",
      " [9 9 9 9 9 9 9 9 9 9]\n",
      " [9 9 9 9 9 9 9 9 9 9]\n",
      " [9 9 9 9 9 9 9 9 9 9]\n",
      " [9 9 9 9 9 9 9 9 9 9]\n",
      " [9 9 9 9 9 9 9 9 9 9]\n",
      " [9 9 9 9 9 9 9 9 9 9]\n",
      " [9 9 9 9 9 9 9 9 9 9]]\n"
     ]
    }
   ],
   "source": [
    "a= np.full((10,10),9, dtype=int)\n",
    "print(a)"
   ]
  },
  {
   "attachments": {},
   "cell_type": "markdown",
   "metadata": {},
   "source": [
    "6. Construct a one-dimensional array with values between 5 and 25 that jumps with steps of 3 (`[5, 8, ...]`)"
   ]
  },
  {
   "cell_type": "code",
   "execution_count": 6,
   "metadata": {},
   "outputs": [
    {
     "name": "stdout",
     "output_type": "stream",
     "text": [
      "[ 5  8 11 14 17 20 23]\n"
     ]
    }
   ],
   "source": [
    "a = np.arange(5, 25, 3)\n",
    "print(a)"
   ]
  },
  {
   "attachments": {},
   "cell_type": "markdown",
   "metadata": {},
   "source": [
    "7. Create an array of size 30 with evenly spaced values between -1 and 1."
   ]
  },
  {
   "cell_type": "code",
   "execution_count": 7,
   "metadata": {},
   "outputs": [
    {
     "name": "stdout",
     "output_type": "stream",
     "text": [
      "[-1.         -0.93103448 -0.86206897 -0.79310345 -0.72413793 -0.65517241\n",
      " -0.5862069  -0.51724138 -0.44827586 -0.37931034 -0.31034483 -0.24137931\n",
      " -0.17241379 -0.10344828 -0.03448276  0.03448276  0.10344828  0.17241379\n",
      "  0.24137931  0.31034483  0.37931034  0.44827586  0.51724138  0.5862069\n",
      "  0.65517241  0.72413793  0.79310345  0.86206897  0.93103448  1.        ]\n"
     ]
    }
   ],
   "source": [
    "a = np.linspace(-1, 1, 30)\n",
    "print(a)"
   ]
  },
  {
   "attachments": {},
   "cell_type": "markdown",
   "metadata": {},
   "source": [
    "8. Construct a 5x6 matrix with integers from 0 to 30."
   ]
  },
  {
   "cell_type": "code",
   "execution_count": 8,
   "metadata": {},
   "outputs": [
    {
     "name": "stdout",
     "output_type": "stream",
     "text": [
      "[[ 6 19 28 14 10  7]\n",
      " [28 20  6 25 18 22]\n",
      " [10 10 23 20  3  7]\n",
      " [23  2 21 20  1 23]\n",
      " [11 29  5  1 27 20]]\n"
     ]
    }
   ],
   "source": [
    "a = np.random.randint(0,30,size=(5,6))\n",
    "print(a)"
   ]
  },
  {
   "attachments": {},
   "cell_type": "markdown",
   "metadata": {},
   "source": [
    "9. Create an array of 30 random integers and sort it in ascending order."
   ]
  },
  {
   "cell_type": "code",
   "execution_count": 9,
   "metadata": {},
   "outputs": [
    {
     "name": "stdout",
     "output_type": "stream",
     "text": [
      "[[ 2  3  6 14 17 20 21 32 38 41 46 48 50 50 54 57 58 59 59 61 61 61 63 72\n",
      "  75 79 88 88 90 91]]\n"
     ]
    }
   ],
   "source": [
    "a = np.random.randint(100,size=(1,30))\n",
    "a= np.sort(a)\n",
    "print(a)"
   ]
  },
  {
   "attachments": {},
   "cell_type": "markdown",
   "metadata": {},
   "source": [
    "10. Construct a 5x10 matrix filled with the value 1 at each location. Print the following details about this matrix:\n",
    "- number of elements\n",
    "- shape of the matrix\n",
    "- the data type (using numpy methods)\n"
   ]
  },
  {
   "cell_type": "code",
   "execution_count": 10,
   "metadata": {},
   "outputs": [
    {
     "name": "stdout",
     "output_type": "stream",
     "text": [
      "[[1 1 1 1 1 1 1 1 1 1]\n",
      " [1 1 1 1 1 1 1 1 1 1]\n",
      " [1 1 1 1 1 1 1 1 1 1]\n",
      " [1 1 1 1 1 1 1 1 1 1]\n",
      " [1 1 1 1 1 1 1 1 1 1]]\n",
      "50\n",
      "(5, 10)\n",
      "int32\n"
     ]
    }
   ],
   "source": [
    "a = np.ones([5, 10], dtype = int)\n",
    "print(a)\n",
    "print(a.size)\n",
    "print(a.shape)\n",
    "print(a.dtype)"
   ]
  },
  {
   "attachments": {},
   "cell_type": "markdown",
   "metadata": {},
   "source": [
    "11. Construct a 3x4x7 matrix with random integer values between 0 and 10 (a 3D matrix will be created).\n"
   ]
  },
  {
   "cell_type": "code",
   "execution_count": 11,
   "metadata": {},
   "outputs": [
    {
     "name": "stdout",
     "output_type": "stream",
     "text": [
      "[[[1 9 8 9 4 1 3]\n",
      "  [6 7 2 0 3 1 7]\n",
      "  [3 1 5 5 9 3 5]\n",
      "  [1 9 1 9 3 7 6]]\n",
      "\n",
      " [[8 7 4 1 4 7 9]\n",
      "  [8 8 0 8 6 8 7]\n",
      "  [0 7 7 2 0 7 2]\n",
      "  [2 0 4 9 6 9 8]]\n",
      "\n",
      " [[6 8 7 1 0 6 6]\n",
      "  [7 4 2 7 5 2 0]\n",
      "  [2 4 2 0 4 9 6]\n",
      "  [6 8 9 9 2 6 0]]]\n"
     ]
    }
   ],
   "source": [
    "a = np.random.randint(10,size=(3,4,7))\n",
    "print(a)"
   ]
  },
  {
   "attachments": {},
   "cell_type": "markdown",
   "metadata": {},
   "source": [
    "12. Create an array of 20 random integers and reshape it into a 4x5 matrix."
   ]
  },
  {
   "cell_type": "code",
   "execution_count": 12,
   "metadata": {},
   "outputs": [
    {
     "name": "stdout",
     "output_type": "stream",
     "text": [
      "[[51 95  3 93 22]\n",
      " [14 42 28 35 12]\n",
      " [31 70 58 85 27]\n",
      " [65 41 44 61 56]]\n"
     ]
    }
   ],
   "source": [
    "a = np.random.randint(0, 100, size=20)\n",
    "my_matrix = a.reshape(4, 5)\n",
    "print(my_matrix)"
   ]
  },
  {
   "attachments": {},
   "cell_type": "markdown",
   "metadata": {},
   "source": [
    "13. Construct a one-dimensional array by concetanating 4 separate one-dimensional arrays."
   ]
  },
  {
   "cell_type": "code",
   "execution_count": 13,
   "metadata": {},
   "outputs": [
    {
     "name": "stdout",
     "output_type": "stream",
     "text": [
      "[ 1  2  3  4  5  6  7  8  9 10 11 12]\n"
     ]
    }
   ],
   "source": [
    "array_1 = np.array([1, 2, 3])\n",
    "array_2 = np.array([4, 5, 6])\n",
    "array_3 = np.array([7, 8, 9])\n",
    "array_4 = np.array([10, 11, 12])\n",
    "a = np.concatenate((array_1, array_2, array_3, array_4))\n",
    "print(a)"
   ]
  },
  {
   "attachments": {},
   "cell_type": "markdown",
   "metadata": {},
   "source": [
    "14. Create a vector of length 3 (3x1) and a matrix of size 3x3. Combine these two arrays on a\n",
    "    column-by-column basis using numpy methods.\n"
   ]
  },
  {
   "cell_type": "code",
   "execution_count": 14,
   "metadata": {},
   "outputs": [
    {
     "name": "stdout",
     "output_type": "stream",
     "text": [
      "[[ 1  4  5  6]\n",
      " [ 2  7  8  9]\n",
      " [ 3 10 11 12]]\n"
     ]
    }
   ],
   "source": [
    "vector = np.array([1, 2, 3]).reshape(3,1)\n",
    "matrix = np.array([[4, 5, 6], [7, 8, 9], [10, 11, 12]])\n",
    "a = np.column_stack((vector, matrix))\n",
    "print(a)"
   ]
  },
  {
   "attachments": {},
   "cell_type": "markdown",
   "metadata": {},
   "source": [
    "15. What is the difference between \"axis=1\" and \"axis=0\" in Numpy functions? "
   ]
  },
  {
   "attachments": {},
   "cell_type": "markdown",
   "metadata": {},
   "source": [
    "In Numpy, the axis parameter is used to specify along which axis the operation should be performed.\n",
    "\n",
    "axis=0 refers to the rows of the array, so the operation will be performed vertically across the rows.\n",
    "axis=1 refers to the columns of the array, so the operation will be performed horizontally across the columns.\n",
    "For example, if you have a 2D array and you want to sum the values in each column, you would set axis=0. If you want to sum the values in each row, you would set axis=1."
   ]
  },
  {
   "attachments": {},
   "cell_type": "markdown",
   "metadata": {},
   "source": [
    "16. Create a random 1D vector with 20 elements. Find the 3rd, 5th and 7th elements of this vector.\n"
   ]
  },
  {
   "cell_type": "code",
   "execution_count": 15,
   "metadata": {},
   "outputs": [
    {
     "name": "stdout",
     "output_type": "stream",
     "text": [
      "[1.05494260e-01 4.56534570e-01 2.18440437e-01 4.16509948e-01\n",
      " 8.83280259e-01 3.24345021e-01 1.22087955e-01 3.56297838e-01\n",
      " 9.06828442e-01 2.72132249e-01 6.47690121e-01 5.20376995e-04\n",
      " 3.52568856e-01 3.04781258e-01 1.64655853e-01 5.34089419e-01\n",
      " 4.84829971e-01 6.92436033e-01 2.69412334e-01 2.44125522e-01]\n",
      "0.2184404372168336 0.8832802589188683 0.12208795470067335\n"
     ]
    }
   ],
   "source": [
    "a = np.random.rand(20)\n",
    "print(a)\n",
    "print(a[2],a[4],a[6])"
   ]
  },
  {
   "attachments": {},
   "cell_type": "markdown",
   "metadata": {},
   "source": [
    "17. Create a random vector with 10 elements and replace the 4th element of this array with a different number."
   ]
  },
  {
   "cell_type": "code",
   "execution_count": 16,
   "metadata": {},
   "outputs": [
    {
     "name": "stdout",
     "output_type": "stream",
     "text": [
      "[1.68291042e-01 2.18764220e-01 5.58102002e-01 7.70000000e+01\n",
      " 6.48922471e-02 2.53915414e-01 2.46876063e-01 6.96304273e-01\n",
      " 7.12270590e-01 1.48086930e-01]\n"
     ]
    }
   ],
   "source": [
    "a = np.random.rand(10)\n",
    "a[3]= 77\n",
    "print(a)"
   ]
  },
  {
   "attachments": {},
   "cell_type": "markdown",
   "metadata": {},
   "source": [
    "18. Look up the concepts of diagonal matrix and trace matrix online and write a small explanation about what they are."
   ]
  },
  {
   "attachments": {},
   "cell_type": "markdown",
   "metadata": {},
   "source": [
    "A diagonal matrix is a square matrix in which all the entries outside the main diagonal are zero. The main diagonal of a matrix is the diagonal running from the top left corner to the bottom right corner. The entries on the main diagonal are known as the diagonal entries of the matrix.\n",
    "\n",
    "A trace of a square matrix is the sum of its diagonal entries. The trace of a matrix is denoted by the notation tr(A) or trace(A). The trace of a matrix is a scalar value and it is a measure of the amount of \"diagonalness\" in the matrix."
   ]
  },
  {
   "attachments": {},
   "cell_type": "markdown",
   "metadata": {},
   "source": [
    "19. Create a 5x5 diagonal matrix with elements of your choosing. What are the indexes of the diagonal?\n"
   ]
  },
  {
   "cell_type": "code",
   "execution_count": 19,
   "metadata": {},
   "outputs": [
    {
     "name": "stdout",
     "output_type": "stream",
     "text": [
      "[[1 0 0 0 0]\n",
      " [0 2 0 0 0]\n",
      " [0 0 3 0 0]\n",
      " [0 0 0 4 0]\n",
      " [0 0 0 0 5]]\n"
     ]
    }
   ],
   "source": [
    "a = np.diag([1, 2, 3, 4, 5])\n",
    "print(a)\n",
    "#The indexes of the iagonal are (0,0), (1,1), (2,2), (3,3),and (4,4)"
   ]
  },
  {
   "attachments": {},
   "cell_type": "markdown",
   "metadata": {},
   "source": [
    "20. Create a vector that ranges from 10 to 20. Print the values from the 3rd index to the last index.\n"
   ]
  },
  {
   "cell_type": "code",
   "execution_count": null,
   "metadata": {},
   "outputs": [
    {
     "name": "stdout",
     "output_type": "stream",
     "text": [
      "[12 13 14 15 16 17 18 19 20]\n"
     ]
    }
   ],
   "source": [
    "a= np.arange(10, 21)\n",
    "print(a[2:])"
   ]
  },
  {
   "attachments": {},
   "cell_type": "markdown",
   "metadata": {},
   "source": [
    "21. Construct a 10x10 matrix with random elements and perform the following indexing tasks on it. Each task should be a single indexing operation.\n",
    " - Retrieve column 5 of row 3. Moreover;\n",
    " - Retrieve all elements of column 5.\n",
    " - Retrieve the 2nd row of all columns.\n",
    " - Retrieve row 2 through 7 of all columns.\n",
    " - Retrieve values with row index 2 to 5 and column index 3 to 7.\n",
    " - Retrieve the values from row index 5 to the end and column index from the top to 4.\n",
    " - Replace the value corresponding to the 5th row and the 5th column with your year of birth."
   ]
  },
  {
   "cell_type": "code",
   "execution_count": null,
   "metadata": {},
   "outputs": [
    {
     "name": "stdout",
     "output_type": "stream",
     "text": [
      "[[0.78151448 0.82794089 0.75050192 0.79953713 0.82513268 0.18640499\n",
      "  0.23569175 0.63375856 0.90786613 0.31619658]\n",
      " [0.58830668 0.68298206 0.4519486  0.71378245 0.89966745 0.62410154\n",
      "  0.53978106 0.43874468 0.57748627 0.35536245]\n",
      " [0.39148211 0.53185748 0.06661911 0.22902539 0.54284931 0.43152814\n",
      "  0.33281579 0.73054914 0.69371761 0.16673076]\n",
      " [0.87862912 0.49542363 0.74146091 0.57315085 0.99769262 0.75240312\n",
      "  0.70698046 0.77857194 0.14312799 0.20454459]\n",
      " [0.71406408 0.49398149 0.75463529 0.10291603 0.53648135 0.37882157\n",
      "  0.45700022 0.60395787 0.50228835 0.53986064]\n",
      " [0.48635748 0.40895518 0.77188198 0.01220307 0.5984427  0.56550835\n",
      "  0.71617907 0.59902936 0.82679883 0.95907479]\n",
      " [0.34252426 0.22735098 0.42359686 0.28792962 0.61495026 0.91185241\n",
      "  0.13911619 0.1007946  0.25601553 0.72609559]\n",
      " [0.59296291 0.10221266 0.91875052 0.79008464 0.0230226  0.65136721\n",
      "  0.77124667 0.37443537 0.06892154 0.07732107]\n",
      " [0.10424697 0.84043963 0.9106862  0.12281078 0.23590603 0.16552051\n",
      "  0.18632088 0.83749079 0.33214641 0.31144426]\n",
      " [0.22739562 0.60789439 0.3793057  0.74424965 0.20557981 0.78778989\n",
      "  0.60372153 0.1142673  0.41450458 0.86351814]]\n",
      "0.5428493106134089\n",
      "[0.82513268 0.89966745 0.54284931 0.99769262 0.53648135 0.5984427\n",
      " 0.61495026 0.0230226  0.23590603 0.20557981]\n",
      "[0.58830668 0.68298206 0.4519486  0.71378245 0.89966745 0.62410154\n",
      " 0.53978106 0.43874468 0.57748627 0.35536245]\n",
      "[[0.39148211 0.53185748 0.06661911 0.22902539 0.54284931 0.43152814\n",
      "  0.33281579 0.73054914 0.69371761 0.16673076]\n",
      " [0.87862912 0.49542363 0.74146091 0.57315085 0.99769262 0.75240312\n",
      "  0.70698046 0.77857194 0.14312799 0.20454459]\n",
      " [0.71406408 0.49398149 0.75463529 0.10291603 0.53648135 0.37882157\n",
      "  0.45700022 0.60395787 0.50228835 0.53986064]\n",
      " [0.48635748 0.40895518 0.77188198 0.01220307 0.5984427  0.56550835\n",
      "  0.71617907 0.59902936 0.82679883 0.95907479]\n",
      " [0.34252426 0.22735098 0.42359686 0.28792962 0.61495026 0.91185241\n",
      "  0.13911619 0.1007946  0.25601553 0.72609559]]\n",
      "[[0.4519486  0.71378245 0.89966745 0.62410154]\n",
      " [0.06661911 0.22902539 0.54284931 0.43152814]\n",
      " [0.74146091 0.57315085 0.99769262 0.75240312]]\n",
      "[[0.71406408 0.49398149 0.75463529]\n",
      " [0.48635748 0.40895518 0.77188198]\n",
      " [0.34252426 0.22735098 0.42359686]\n",
      " [0.59296291 0.10221266 0.91875052]\n",
      " [0.10424697 0.84043963 0.9106862 ]\n",
      " [0.22739562 0.60789439 0.3793057 ]]\n"
     ]
    }
   ],
   "source": [
    "a = np.random.rand(10,10)\n",
    "print(a)\n",
    "print(a[2,4])\n",
    "print(a[:,4])\n",
    "print(a[1,:])\n",
    "print(a[2:7,:])\n",
    "print(a[1:4,2:6])\n",
    "print(a[4:, :3])\n",
    "a[4,4]= 1983"
   ]
  },
  {
   "attachments": {},
   "cell_type": "markdown",
   "metadata": {},
   "source": [
    "22. Construct a one-dimensional array from 0 to 50 jumping with steps of 5 (`[5, 10, ...]`). Use the numpy methods to perform the following tasks;\n",
    "- Print all values greater than 20.\n",
    "- Print all values less than 30.\n",
    "- How many values are 33 in it?\n",
    "- Multiply all the elements of the created array by 5."
   ]
  },
  {
   "cell_type": "code",
   "execution_count": null,
   "metadata": {},
   "outputs": [
    {
     "name": "stdout",
     "output_type": "stream",
     "text": [
      "[25 30 35 40 45 50]\n",
      "[ 0  5 10 15 20 25]\n",
      "0\n",
      "[  0  25  50  75 100 125 150 175 200 225 250]\n"
     ]
    }
   ],
   "source": [
    "a = np.arange(0, 55, 5)\n",
    "\n",
    "# Print all values greater than 20\n",
    "print(a[a > 20])\n",
    "\n",
    "# Print all values less than 30\n",
    "print(a[a < 30])\n",
    "\n",
    "# How many values are 33 in it?\n",
    "print(np.count_nonzero(a==33))\n",
    "\n",
    "# Multiply all the elements of the created a by 5.\n",
    "a *= 5\n",
    "print(a)"
   ]
  },
  {
   "attachments": {},
   "cell_type": "markdown",
   "metadata": {},
   "source": [
    "23. Construct an array of 50 random floats between 0 and 1 and take the average. Moreover;\n",
    "- Get the standard deviation.\n",
    "- Get the variance.\n",
    "- Take the median.\n",
    "- Find the smallest value.\n",
    "- Find the largest value."
   ]
  },
  {
   "cell_type": "code",
   "execution_count": null,
   "metadata": {},
   "outputs": [],
   "source": [
    "a = np.random.rand(50)\n",
    "\n",
    "# Take the average\n",
    "average = np.average(a)\n",
    "print(average)\n",
    "\n",
    "# Get the standard deviation\n",
    "std_dev = np.std(a)\n",
    "print(std_dev)\n",
    "\n",
    "# Get the variance\n",
    "variance = np.var(a)\n",
    "print(variance)\n",
    "\n",
    "# Take the median\n",
    "median = np.median(a)\n",
    "print(median)\n",
    "\n",
    "# Find the smallest value\n",
    "smallest = np.min(a)\n",
    "print(smallest)\n",
    "\n",
    "# Find the largest value\n",
    "largest = np.max(a)\n",
    "print(largest)"
   ]
  },
  {
   "attachments": {},
   "cell_type": "markdown",
   "metadata": {},
   "source": [
    "24. What are the differences between Pandas Series and NumPy arrays?"
   ]
  },
  {
   "attachments": {},
   "cell_type": "markdown",
   "metadata": {},
   "source": [
    "Pandas Series and NumPy arrays are both used for data manipulation and analysis in Python, but they have some key differences:\n",
    "\n",
    "Indexing: A Pandas Series has an explicit index, which means that each element in the Series has a label or name associated with it. A NumPy array, on the other hand, has an implicit index, which means that the elements are accessed by their integer position.\n",
    "\n",
    "Data types: A Pandas Series can hold data of different types, such as integers, strings, and dates. A NumPy array, on the other hand, can only hold data of the same type, such as integers or floating-point numbers.\n",
    "\n",
    "Missing values: Pandas Series can handle missing values, represented by the special value NaN. NumPy arrays do not have native support for missing values.\n",
    "\n",
    "Functionality: Pandas has many built-in functions for data manipulation, such as groupby, merge, and pivot_table, which are not present in NumPy arrays. Also Pandas is built on top of NumPy so it can use all the functionality of NumPy and more.\n",
    "\n",
    "Memory usage: Pandas Series and Dataframe use more memory than NumPy arrays because they have additional metadata, such as the index and column labels."
   ]
  },
  {
   "attachments": {},
   "cell_type": "markdown",
   "metadata": {},
   "source": [
    "25. Create a 5-element series with different data types, with an index of capital letters."
   ]
  },
  {
   "cell_type": "code",
   "execution_count": null,
   "metadata": {},
   "outputs": [],
   "source": [
    "data = {'A': 1, 'B': 'Hello', 'C': 3.14, 'D': [1, 2, 3], 'E': True}\n",
    "\n",
    "# create a series\n",
    "series = pd.Series(data)\n",
    "\n",
    "# print the series\n",
    "print(series)"
   ]
  },
  {
   "attachments": {},
   "cell_type": "markdown",
   "metadata": {},
   "source": [
    "26. Create a 5-element dictionary with keys as country names and values as capitals and turn it into a series. An example: ` \"france\" : \"paris\"`)."
   ]
  },
  {
   "cell_type": "code",
   "execution_count": null,
   "metadata": {},
   "outputs": [
    {
     "name": "stdout",
     "output_type": "stream",
     "text": [
      "france            paris\n",
      "Yemen             Sanaa\n",
      "Netherland    Amsterdam\n",
      "UK               London\n",
      "Turkey           Ankara\n",
      "dtype: object\n"
     ]
    }
   ],
   "source": [
    "data = {'france': 'paris', 'Yemen': 'Sanaa', 'Netherland': 'Amsterdam', 'UK': 'London', 'Turkey': 'Ankara'}\n",
    "# create a series\n",
    "series = pd.Series(data)\n",
    "\n",
    "# print the series\n",
    "print(series)"
   ]
  },
  {
   "attachments": {},
   "cell_type": "markdown",
   "metadata": {},
   "source": [
    "27. Create a random vector with 10 elements.\n",
    "- Convert the vector to series and with strings as indeces. For example, a,b,c,d,e,f,g..\n",
    "- Retrieve the 3rd element of the series using the index name (for example: c).\n",
    "- Retrieve the 1st element of the series using the index number.\n",
    "- Access the 2nd and 7th elements of the series at the same time, using the index name. (Example: values corresponding to index b and g)"
   ]
  },
  {
   "cell_type": "code",
   "execution_count": 23,
   "metadata": {},
   "outputs": [
    {
     "name": "stdout",
     "output_type": "stream",
     "text": [
      "0.9366284872121639\n",
      "0.9249099859493469\n",
      "0.9249099859493469\n",
      "b    0.700046\n",
      "g    0.989550\n",
      "dtype: float64\n"
     ]
    }
   ],
   "source": [
    "# create a random vector with 10 elements\n",
    "vector = np.random.rand(10)\n",
    "\n",
    "# convert the vector to a series and set string indices\n",
    "indices = ['a','b','c','d','e','f','g','h','i','j']\n",
    "series = pd.Series(vector, index=indices)\n",
    "\n",
    "# Retrieve the 3rd element of the series using the index name\n",
    "print(series['c'])\n",
    "\n",
    "# Retrieve the 1st element of the series using the index number\n",
    "print(series[0])\n",
    "\n",
    "# Access the 2nd and 7th elements of the series at the same time, using the index name\n",
    "print(series[['b', 'g']])"
   ]
  },
  {
   "attachments": {},
   "cell_type": "markdown",
   "metadata": {},
   "source": [
    "28. Create two 5-element series with elements of your choice with default index.\n",
    "- Combine the series you have created.\n",
    "- Arrange the index of the resulting concatenated 10-element series from 1 to 10."
   ]
  },
  {
   "cell_type": "code",
   "execution_count": 25,
   "metadata": {},
   "outputs": [
    {
     "name": "stdout",
     "output_type": "stream",
     "text": [
      "0     10\n",
      "1     20\n",
      "2     30\n",
      "3     40\n",
      "4     50\n",
      "5     60\n",
      "6     70\n",
      "7     80\n",
      "8     90\n",
      "9    100\n",
      "dtype: int64\n"
     ]
    },
    {
     "name": "stderr",
     "output_type": "stream",
     "text": [
      "C:\\Users\\Niyazi Al Ashwal\\AppData\\Local\\Temp\\ipykernel_20520\\222723057.py:5: FutureWarning: The series.append method is deprecated and will be removed from pandas in a future version. Use pandas.concat instead.\n",
      "  print(s1.append(s2, ignore_index=True))\n"
     ]
    }
   ],
   "source": [
    "s1 = pd.Series([10, 20, 30, 40, 50])\n",
    "\n",
    "s2 = pd.Series([60, 70, 80, 90, 100])\n",
    "\n",
    "print(s1.append(s2, ignore_index=True))"
   ]
  },
  {
   "attachments": {},
   "cell_type": "markdown",
   "metadata": {},
   "source": [
    "**Bonus homework**:\n",
    "\n",
    "\n",
    "Generate two 20x20 matrices with values between 0 and 1 randomly in a loop and take the difference of these\n",
    "matrices. Repeat this process until all elements on the diagonal of the difference matrix\n",
    "is between -0.1 and 0.1. When the desired matrix is found, let the program stop\n",
    "and print the total number of cycles, how long it took, and the desired matrix\n",
    "with print.\n",
    "\n",
    "\n",
    "Tip: Finding the 20 x 20 matrix can take hours. Therefore, to test the accuracy\n",
    "of your algorithm, you can first try it on small matrices such as 4x4, 5x5. And\n",
    "you can try the latest 20x20 by increasing the number of matrix. (You can do\n",
    "the matrix generation with the np.random.random((a,b)) function. It generates\n",
    "an array of desired sizes between 0-1.)\n"
   ]
  },
  {
   "cell_type": "code",
   "execution_count": 18,
   "metadata": {},
   "outputs": [
    {
     "ename": "KeyboardInterrupt",
     "evalue": "",
     "output_type": "error",
     "traceback": [
      "\u001b[1;31m---------------------------------------------------------------------------\u001b[0m",
      "\u001b[1;31mKeyboardInterrupt\u001b[0m                         Traceback (most recent call last)",
      "Cell \u001b[1;32mIn [18], line 13\u001b[0m\n\u001b[0;32m     11\u001b[0m n_cycles \u001b[39m+\u001b[39m\u001b[39m=\u001b[39m \u001b[39m1\u001b[39m\n\u001b[0;32m     12\u001b[0m matrix1 \u001b[39m=\u001b[39m np\u001b[39m.\u001b[39mrandom\u001b[39m.\u001b[39mrand(\u001b[39m20\u001b[39m, \u001b[39m20\u001b[39m)\n\u001b[1;32m---> 13\u001b[0m matrix2 \u001b[39m=\u001b[39m np\u001b[39m.\u001b[39mrandom\u001b[39m.\u001b[39mrand(\u001b[39m20\u001b[39m, \u001b[39m20\u001b[39m)\n\u001b[0;32m     14\u001b[0m diff_matrix \u001b[39m=\u001b[39m matrix1 \u001b[39m-\u001b[39m matrix2\n\u001b[0;32m     15\u001b[0m diag \u001b[39m=\u001b[39m np\u001b[39m.\u001b[39mdiag(diff_matrix)\n",
      "\u001b[1;31mKeyboardInterrupt\u001b[0m: "
     ]
    }
   ],
   "source": [
    "\n",
    "import time\n",
    "\n",
    "# starting time\n",
    "start_time = time.time()\n",
    "\n",
    "# initialize the number of cycles\n",
    "n_cycles = 0\n",
    "\n",
    "# generate the matrices and take the difference\n",
    "while True:\n",
    "    n_cycles += 1\n",
    "    matrix1 = np.random.rand(20, 20)\n",
    "    matrix2 = np.random.rand(20, 20)\n",
    "    diff_matrix = matrix1 - matrix2\n",
    "    diag = np.diag(diff_matrix)\n",
    "    if all(-0.1 <= i <= 0.1 for i in diag):\n",
    "        break\n",
    "\n",
    "# ending time\n",
    "end_time = time.time()\n",
    "\n",
    "# print the results\n",
    "print(\"Total number of cycles:\", n_cycles)\n",
    "print(\"Total time taken: {:.4f} seconds\".format(end_time - start_time))\n",
    "print(\"Desired matrix:\")\n",
    "print(diff_matrix)\n",
    "\n",
    "\n",
    "\n",
    "\n",
    "\n"
   ]
  }
 ],
 "metadata": {
  "kernelspec": {
   "display_name": "Python 3",
   "language": "python",
   "name": "python3"
  },
  "language_info": {
   "codemirror_mode": {
    "name": "ipython",
    "version": 3
   },
   "file_extension": ".py",
   "mimetype": "text/x-python",
   "name": "python",
   "nbconvert_exporter": "python",
   "pygments_lexer": "ipython3",
   "version": "3.10.6"
  },
  "orig_nbformat": 4,
  "vscode": {
   "interpreter": {
    "hash": "2a43ee3d7d2dcb959f5e341b2be34c0d4938f617b78d89f3ab10ae269e68827d"
   }
  }
 },
 "nbformat": 4,
 "nbformat_minor": 2
}
